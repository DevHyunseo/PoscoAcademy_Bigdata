{
  "cells": [
    {
      "cell_type": "markdown",
      "metadata": {
        "id": "view-in-github",
        "colab_type": "text"
      },
      "source": [
        "<a href=\"https://colab.research.google.com/github/DevHyunseo/PoscoAcademy_Bigdata/blob/main/%ED%94%84%EB%A1%9C%EC%A0%9D%ED%8A%B8_%EC%A2%85%ED%95%A9%EC%8B%A4%EC%8A%B52(%ED%9B%84%ED%8C%90%EA%B3%B5%EC%A0%95).ipynb\" target=\"_parent\"><img src=\"https://colab.research.google.com/assets/colab-badge.svg\" alt=\"Open In Colab\"/></a>"
      ]
    },
    {
      "cell_type": "code",
      "execution_count": null,
      "id": "8b7bd994",
      "metadata": {
        "id": "8b7bd994"
      },
      "outputs": [],
      "source": [
        "import pandas as pd\n",
        "import numpy as np\n",
        "import matplotlib.pyplot as plt\n",
        "import matplotlib\n",
        "import seaborn as sns\n",
        "import warnings\n",
        "warnings.filterwarnings(\"ignore\")\n",
        "import scipy\n",
        "from scipy import stats\n",
        "from statsmodels.stats.proportion import proportions_ztest\n",
        "import statsmodels.formula.api as smf\n",
        "from statsmodels.api import qqplot, add_constant\n",
        "from statsmodels.stats.outliers_influence import variance_inflation_factor\n",
        "from sklearn.model_selection import train_test_split\n",
        "from sklearn.linear_model import LinearRegression\n",
        "from sklearn.tree import DecisionTreeRegressor\n",
        "from sklearn.ensemble import RandomForestRegressor\n",
        "from sklearn.ensemble import GradientBoostingRegressor\n",
        "from sklearn.feature_selection import RFE\n",
        "from sklearn.preprocessing import StandardScaler\n",
        "from sklearn.metrics import r2_score\n",
        "from sklearn.tree import export_graphviz\n",
        "import graphviz\n",
        "from sklearn.model_selection import GridSearchCV\n",
        "from sklearn.metrics import mean_squared_error\n",
        "from sklearn.metrics import mean_absolute_error\n",
        "sns.set_palette('Pastel1')\n",
        "matplotlib.rc(\"axes\",unicode_minus = False)\n",
        "from sklearn.ensemble import GradientBoostingClassifier\n",
        "from scipy.stats import chi2_contingency\n",
        "import statsmodels.api as sm\n",
        "import xgboost as xgb\n",
        "from sklearn.model_selection import train_test_split\n",
        "from sklearn.metrics import accuracy_score\n",
        "from sklearn.metrics import confusion_matrix\n",
        "from sklearn.metrics import classification_report"
      ]
    },
    {
      "cell_type": "code",
      "execution_count": null,
      "id": "383933f9",
      "metadata": {
        "id": "383933f9",
        "outputId": "cb482e7c-86bf-4ed0-ae31-8aa5d1d290c7"
      },
      "outputs": [
        {
          "name": "stdout",
          "output_type": "stream",
          "text": [
            "Requirement already satisfied: graphviz in c:\\users\\user\\anaconda3\\lib\\site-packages (0.20.3)\n",
            "Requirement already satisfied: xgboost in c:\\users\\user\\anaconda3\\lib\\site-packages (2.0.3)\n",
            "Requirement already satisfied: numpy in c:\\users\\user\\anaconda3\\lib\\site-packages (from xgboost) (1.24.3)\n",
            "Requirement already satisfied: scipy in c:\\users\\user\\anaconda3\\lib\\site-packages (from xgboost) (1.11.1)\n"
          ]
        },
        {
          "ename": "AttributeError",
          "evalue": "module 'matplotlib.font_manager' has no attribute '_rebuild'",
          "output_type": "error",
          "traceback": [
            "\u001b[1;31m---------------------------------------------------------------------------\u001b[0m",
            "\u001b[1;31mAttributeError\u001b[0m                            Traceback (most recent call last)",
            "Cell \u001b[1;32mIn[2], line 4\u001b[0m\n\u001b[0;32m      1\u001b[0m get_ipython()\u001b[38;5;241m.\u001b[39msystem(\u001b[38;5;124m'\u001b[39m\u001b[38;5;124mpip install graphviz\u001b[39m\u001b[38;5;124m'\u001b[39m)\n\u001b[0;32m      2\u001b[0m get_ipython()\u001b[38;5;241m.\u001b[39msystem(\u001b[38;5;124m'\u001b[39m\u001b[38;5;124mpip install xgboost\u001b[39m\u001b[38;5;124m'\u001b[39m)\n\u001b[1;32m----> 4\u001b[0m matplotlib\u001b[38;5;241m.\u001b[39mfont_manager\u001b[38;5;241m.\u001b[39m_rebuild()\n",
            "\u001b[1;31mAttributeError\u001b[0m: module 'matplotlib.font_manager' has no attribute '_rebuild'"
          ]
        }
      ],
      "source": [
        "# !pip install graphviz\n",
        "# !pip install xgboost"
      ]
    },
    {
      "cell_type": "code",
      "execution_count": null,
      "id": "30ffa809",
      "metadata": {
        "id": "30ffa809"
      },
      "outputs": [],
      "source": [
        "from matplotlib import rc\n",
        "import matplotlib.font_manager as fm\n",
        "\n",
        "# 디렉토리 및 파일 이름에 맞추어 변경\n",
        "font_location = r'C:\\Users\\USER\\Downloads\\nanum-all\\나눔 글꼴\\나눔고딕\\NanumFontSetup_TTF_GOTHIC\\NanumGothic.ttf'\n",
        "font_name = fm.FontProperties(fname=font_location).get_name()\n",
        "rc('font', family=font_name)"
      ]
    },
    {
      "cell_type": "code",
      "execution_count": null,
      "id": "45edbe59",
      "metadata": {
        "scrolled": true,
        "id": "45edbe59",
        "outputId": "080877ef-b4a5-45f7-b162-7b6b424bae90"
      },
      "outputs": [
        {
          "data": {
            "text/html": [
              "<div>\n",
              "<style scoped>\n",
              "    .dataframe tbody tr th:only-of-type {\n",
              "        vertical-align: middle;\n",
              "    }\n",
              "\n",
              "    .dataframe tbody tr th {\n",
              "        vertical-align: top;\n",
              "    }\n",
              "\n",
              "    .dataframe thead th {\n",
              "        text-align: right;\n",
              "    }\n",
              "</style>\n",
              "<table border=\"1\" class=\"dataframe\">\n",
              "  <thead>\n",
              "    <tr style=\"text-align: right;\">\n",
              "      <th></th>\n",
              "      <th>plate_no</th>\n",
              "      <th>rolling_date</th>\n",
              "      <th>scale</th>\n",
              "      <th>spec_long</th>\n",
              "      <th>spec_country</th>\n",
              "      <th>steel_kind</th>\n",
              "      <th>pt_thick</th>\n",
              "      <th>pt_width</th>\n",
              "      <th>pt_length</th>\n",
              "      <th>hsb</th>\n",
              "      <th>...</th>\n",
              "      <th>fur_input_row</th>\n",
              "      <th>fur_heat_temp</th>\n",
              "      <th>fur_heat_time</th>\n",
              "      <th>fur_soak_temp</th>\n",
              "      <th>fur_soak_time</th>\n",
              "      <th>fur_total_time</th>\n",
              "      <th>rolling_method</th>\n",
              "      <th>rolling_temp</th>\n",
              "      <th>descaling_count</th>\n",
              "      <th>work_group</th>\n",
              "    </tr>\n",
              "  </thead>\n",
              "  <tbody>\n",
              "    <tr>\n",
              "      <th>0</th>\n",
              "      <td>PLT_1001</td>\n",
              "      <td>03JAN2023:07:07:53</td>\n",
              "      <td>양품</td>\n",
              "      <td>AB/EH32-TM</td>\n",
              "      <td>미국</td>\n",
              "      <td>T</td>\n",
              "      <td>32</td>\n",
              "      <td>3700</td>\n",
              "      <td>15100</td>\n",
              "      <td>적용</td>\n",
              "      <td>...</td>\n",
              "      <td>1열</td>\n",
              "      <td>1144</td>\n",
              "      <td>116</td>\n",
              "      <td>1133</td>\n",
              "      <td>59</td>\n",
              "      <td>259</td>\n",
              "      <td>TMCP(온도제어)</td>\n",
              "      <td>934</td>\n",
              "      <td>8</td>\n",
              "      <td>1조</td>\n",
              "    </tr>\n",
              "    <tr>\n",
              "      <th>1</th>\n",
              "      <td>PLT_1002</td>\n",
              "      <td>03JAN2023:07:21:22</td>\n",
              "      <td>양품</td>\n",
              "      <td>AB/EH32-TM</td>\n",
              "      <td>미국</td>\n",
              "      <td>T</td>\n",
              "      <td>32</td>\n",
              "      <td>3700</td>\n",
              "      <td>15100</td>\n",
              "      <td>적용</td>\n",
              "      <td>...</td>\n",
              "      <td>2열</td>\n",
              "      <td>1144</td>\n",
              "      <td>122</td>\n",
              "      <td>1135</td>\n",
              "      <td>53</td>\n",
              "      <td>238</td>\n",
              "      <td>TMCP(온도제어)</td>\n",
              "      <td>937</td>\n",
              "      <td>8</td>\n",
              "      <td>1조</td>\n",
              "    </tr>\n",
              "    <tr>\n",
              "      <th>2</th>\n",
              "      <td>PLT_1003</td>\n",
              "      <td>03JAN2023:07:31:15</td>\n",
              "      <td>양품</td>\n",
              "      <td>NV-E36-TM</td>\n",
              "      <td>영국</td>\n",
              "      <td>T</td>\n",
              "      <td>33</td>\n",
              "      <td>3600</td>\n",
              "      <td>19200</td>\n",
              "      <td>적용</td>\n",
              "      <td>...</td>\n",
              "      <td>1열</td>\n",
              "      <td>1129</td>\n",
              "      <td>116</td>\n",
              "      <td>1121</td>\n",
              "      <td>55</td>\n",
              "      <td>258</td>\n",
              "      <td>TMCP(온도제어)</td>\n",
              "      <td>889</td>\n",
              "      <td>8</td>\n",
              "      <td>1조</td>\n",
              "    </tr>\n",
              "    <tr>\n",
              "      <th>3</th>\n",
              "      <td>PLT_1004</td>\n",
              "      <td>03JAN2023:07:41:01</td>\n",
              "      <td>양품</td>\n",
              "      <td>NV-E36-TM</td>\n",
              "      <td>영국</td>\n",
              "      <td>T</td>\n",
              "      <td>33</td>\n",
              "      <td>3600</td>\n",
              "      <td>19200</td>\n",
              "      <td>적용</td>\n",
              "      <td>...</td>\n",
              "      <td>2열</td>\n",
              "      <td>1152</td>\n",
              "      <td>125</td>\n",
              "      <td>1127</td>\n",
              "      <td>68</td>\n",
              "      <td>266</td>\n",
              "      <td>TMCP(온도제어)</td>\n",
              "      <td>885</td>\n",
              "      <td>8</td>\n",
              "      <td>1조</td>\n",
              "    </tr>\n",
              "    <tr>\n",
              "      <th>4</th>\n",
              "      <td>PLT_1005</td>\n",
              "      <td>03JAN2023:07:52:40</td>\n",
              "      <td>양품</td>\n",
              "      <td>BV-EH36-TM</td>\n",
              "      <td>프랑스</td>\n",
              "      <td>T</td>\n",
              "      <td>38</td>\n",
              "      <td>3100</td>\n",
              "      <td>13300</td>\n",
              "      <td>적용</td>\n",
              "      <td>...</td>\n",
              "      <td>1열</td>\n",
              "      <td>1140</td>\n",
              "      <td>134</td>\n",
              "      <td>1128</td>\n",
              "      <td>48</td>\n",
              "      <td>246</td>\n",
              "      <td>TMCP(온도제어)</td>\n",
              "      <td>873</td>\n",
              "      <td>8</td>\n",
              "      <td>1조</td>\n",
              "    </tr>\n",
              "    <tr>\n",
              "      <th>...</th>\n",
              "      <td>...</td>\n",
              "      <td>...</td>\n",
              "      <td>...</td>\n",
              "      <td>...</td>\n",
              "      <td>...</td>\n",
              "      <td>...</td>\n",
              "      <td>...</td>\n",
              "      <td>...</td>\n",
              "      <td>...</td>\n",
              "      <td>...</td>\n",
              "      <td>...</td>\n",
              "      <td>...</td>\n",
              "      <td>...</td>\n",
              "      <td>...</td>\n",
              "      <td>...</td>\n",
              "      <td>...</td>\n",
              "      <td>...</td>\n",
              "      <td>...</td>\n",
              "      <td>...</td>\n",
              "      <td>...</td>\n",
              "      <td>...</td>\n",
              "    </tr>\n",
              "    <tr>\n",
              "      <th>995</th>\n",
              "      <td>PLT_1996</td>\n",
              "      <td>10JAN2023:05:32:25</td>\n",
              "      <td>양품</td>\n",
              "      <td>BV-A</td>\n",
              "      <td>프랑스</td>\n",
              "      <td>C</td>\n",
              "      <td>19</td>\n",
              "      <td>3400</td>\n",
              "      <td>41500</td>\n",
              "      <td>적용</td>\n",
              "      <td>...</td>\n",
              "      <td>2열</td>\n",
              "      <td>1142</td>\n",
              "      <td>55</td>\n",
              "      <td>1151</td>\n",
              "      <td>86</td>\n",
              "      <td>203</td>\n",
              "      <td>CR(제어압연)</td>\n",
              "      <td>948</td>\n",
              "      <td>10</td>\n",
              "      <td>4조</td>\n",
              "    </tr>\n",
              "    <tr>\n",
              "      <th>996</th>\n",
              "      <td>PLT_1997</td>\n",
              "      <td>10JAN2023:05:39:19</td>\n",
              "      <td>양품</td>\n",
              "      <td>LR-A</td>\n",
              "      <td>영국</td>\n",
              "      <td>C</td>\n",
              "      <td>19</td>\n",
              "      <td>3400</td>\n",
              "      <td>41500</td>\n",
              "      <td>적용</td>\n",
              "      <td>...</td>\n",
              "      <td>2열</td>\n",
              "      <td>1142</td>\n",
              "      <td>55</td>\n",
              "      <td>1151</td>\n",
              "      <td>86</td>\n",
              "      <td>209</td>\n",
              "      <td>CR(제어압연)</td>\n",
              "      <td>948</td>\n",
              "      <td>10</td>\n",
              "      <td>4조</td>\n",
              "    </tr>\n",
              "    <tr>\n",
              "      <th>997</th>\n",
              "      <td>PLT_1998</td>\n",
              "      <td>10JAN2023:05:52:41</td>\n",
              "      <td>양품</td>\n",
              "      <td>AB/AH32</td>\n",
              "      <td>미국</td>\n",
              "      <td>C</td>\n",
              "      <td>17</td>\n",
              "      <td>3400</td>\n",
              "      <td>43700</td>\n",
              "      <td>적용</td>\n",
              "      <td>...</td>\n",
              "      <td>2열</td>\n",
              "      <td>1169</td>\n",
              "      <td>65</td>\n",
              "      <td>1163</td>\n",
              "      <td>77</td>\n",
              "      <td>227</td>\n",
              "      <td>CR(제어압연)</td>\n",
              "      <td>948</td>\n",
              "      <td>10</td>\n",
              "      <td>4조</td>\n",
              "    </tr>\n",
              "    <tr>\n",
              "      <th>998</th>\n",
              "      <td>PLT_1999</td>\n",
              "      <td>10JAN2023:06:01:50</td>\n",
              "      <td>양품</td>\n",
              "      <td>NV-A32</td>\n",
              "      <td>영국</td>\n",
              "      <td>C</td>\n",
              "      <td>17</td>\n",
              "      <td>3400</td>\n",
              "      <td>43700</td>\n",
              "      <td>적용</td>\n",
              "      <td>...</td>\n",
              "      <td>2열</td>\n",
              "      <td>1169</td>\n",
              "      <td>65</td>\n",
              "      <td>1163</td>\n",
              "      <td>77</td>\n",
              "      <td>204</td>\n",
              "      <td>CR(제어압연)</td>\n",
              "      <td>948</td>\n",
              "      <td>10</td>\n",
              "      <td>4조</td>\n",
              "    </tr>\n",
              "    <tr>\n",
              "      <th>999</th>\n",
              "      <td>PLT_2000</td>\n",
              "      <td>10JAN2023:06:16:27</td>\n",
              "      <td>양품</td>\n",
              "      <td>GL-A32</td>\n",
              "      <td>독일</td>\n",
              "      <td>C</td>\n",
              "      <td>16</td>\n",
              "      <td>3400</td>\n",
              "      <td>54200</td>\n",
              "      <td>적용</td>\n",
              "      <td>...</td>\n",
              "      <td>1열</td>\n",
              "      <td>1186</td>\n",
              "      <td>82</td>\n",
              "      <td>1169</td>\n",
              "      <td>45</td>\n",
              "      <td>208</td>\n",
              "      <td>CR(제어압연)</td>\n",
              "      <td>957</td>\n",
              "      <td>10</td>\n",
              "      <td>4조</td>\n",
              "    </tr>\n",
              "  </tbody>\n",
              "</table>\n",
              "<p>1000 rows × 21 columns</p>\n",
              "</div>"
            ],
            "text/plain": [
              "     plate_no        rolling_date scale   spec_long spec_country steel_kind  \\\n",
              "0    PLT_1001  03JAN2023:07:07:53    양품  AB/EH32-TM           미국          T   \n",
              "1    PLT_1002  03JAN2023:07:21:22    양품  AB/EH32-TM           미국          T   \n",
              "2    PLT_1003  03JAN2023:07:31:15    양품   NV-E36-TM           영국          T   \n",
              "3    PLT_1004  03JAN2023:07:41:01    양품   NV-E36-TM           영국          T   \n",
              "4    PLT_1005  03JAN2023:07:52:40    양품  BV-EH36-TM          프랑스          T   \n",
              "..        ...                 ...   ...         ...          ...        ...   \n",
              "995  PLT_1996  10JAN2023:05:32:25    양품        BV-A          프랑스          C   \n",
              "996  PLT_1997  10JAN2023:05:39:19    양품        LR-A           영국          C   \n",
              "997  PLT_1998  10JAN2023:05:52:41    양품     AB/AH32           미국          C   \n",
              "998  PLT_1999  10JAN2023:06:01:50    양품      NV-A32           영국          C   \n",
              "999  PLT_2000  10JAN2023:06:16:27    양품      GL-A32           독일          C   \n",
              "\n",
              "     pt_thick  pt_width  pt_length hsb  ... fur_input_row fur_heat_temp  \\\n",
              "0          32      3700      15100  적용  ...            1열          1144   \n",
              "1          32      3700      15100  적용  ...            2열          1144   \n",
              "2          33      3600      19200  적용  ...            1열          1129   \n",
              "3          33      3600      19200  적용  ...            2열          1152   \n",
              "4          38      3100      13300  적용  ...            1열          1140   \n",
              "..        ...       ...        ...  ..  ...           ...           ...   \n",
              "995        19      3400      41500  적용  ...            2열          1142   \n",
              "996        19      3400      41500  적용  ...            2열          1142   \n",
              "997        17      3400      43700  적용  ...            2열          1169   \n",
              "998        17      3400      43700  적용  ...            2열          1169   \n",
              "999        16      3400      54200  적용  ...            1열          1186   \n",
              "\n",
              "     fur_heat_time  fur_soak_temp  fur_soak_time  fur_total_time  \\\n",
              "0              116           1133             59             259   \n",
              "1              122           1135             53             238   \n",
              "2              116           1121             55             258   \n",
              "3              125           1127             68             266   \n",
              "4              134           1128             48             246   \n",
              "..             ...            ...            ...             ...   \n",
              "995             55           1151             86             203   \n",
              "996             55           1151             86             209   \n",
              "997             65           1163             77             227   \n",
              "998             65           1163             77             204   \n",
              "999             82           1169             45             208   \n",
              "\n",
              "     rolling_method rolling_temp  descaling_count  work_group  \n",
              "0        TMCP(온도제어)          934                8          1조  \n",
              "1        TMCP(온도제어)          937                8          1조  \n",
              "2        TMCP(온도제어)          889                8          1조  \n",
              "3        TMCP(온도제어)          885                8          1조  \n",
              "4        TMCP(온도제어)          873                8          1조  \n",
              "..              ...          ...              ...         ...  \n",
              "995        CR(제어압연)          948               10          4조  \n",
              "996        CR(제어압연)          948               10          4조  \n",
              "997        CR(제어압연)          948               10          4조  \n",
              "998        CR(제어압연)          948               10          4조  \n",
              "999        CR(제어압연)          957               10          4조  \n",
              "\n",
              "[1000 rows x 21 columns]"
            ]
          },
          "execution_count": 5,
          "metadata": {},
          "output_type": "execute_result"
        }
      ],
      "source": [
        "df = pd.read_csv(r\"C:\\Users\\USER\\Desktop\\SCALE불량.csv\", encoding = 'euc-kr')\n",
        "\n",
        "#df = pd.read_csv(\"/home/piai/다운로드/01 실습파일/2. Big Data 분석/SCALE불량.csv\", encoding = 'euc-kr')\n",
        "\n",
        "df\n",
        "\n",
        "# df = pd.read_csv(\"/home/piai/바탕화면/01 실습파일/2. Big Data 분석/SCALE불량.CSV\", encoding = 'euc-kr')"
      ]
    },
    {
      "cell_type": "code",
      "execution_count": null,
      "id": "8b0865a5",
      "metadata": {
        "id": "8b0865a5"
      },
      "outputs": [],
      "source": [
        "# 나머지 경로\n",
        "#df = pd.read_csv(\"/home/piai/바탕화면/2. Big Data 분석/SCALE불량.csv\", encoding = 'euc-kr')\n",
        "#df = df.drop(index=860)\n",
        "#df = df.drop(index=859)\n",
        "#df.reset_index(drop=True, inplace=True)\n",
        "df"
      ]
    },
    {
      "cell_type": "markdown",
      "source": [
        "## 변수 확인\n",
        "\n",
        "- plate_no : 팔레트 번호\n",
        "- rolling_date : 열연작업시각\n",
        "- scale : Scale 불량\n",
        "- spec_long : 제품 규격\n",
        "- spec_country : 제픔 규격 기준국\n",
        "- steel_kind : 강종\n",
        "- pt_thick : 후판 지시뚜께 mm\n",
        "- pt_width : 후판 지시폭 mm\n",
        "- pt_length : 후판 지시길이 mm\n",
        "- hsb : HSB(Hot Scale Braker)적용여부\n",
        "- fur_no : 가열로 호기\n",
        "- fur_input_row : 가열로 장입열\n",
        "- fur_heat_temp : 가열로 가열대 소재온도('C)\n",
        "- fur_heat_time : 가열로 가열대 재로시간(분)\n",
        "- fur_soak_temp : 가열로 균열대 소재온도('C)\n",
        "- fur_soak_time : 가열로 균열대 재로시간(분)\n",
        "- fur_total_time : 가열로 총 재로시간(분)\n",
        "- fur_ex_temp : 가열로 추출온도 (('C , 계산치))\n",
        "- rolling_method : 압연방법\n",
        "- rolling_temp : 압연온도('C)\n",
        "- descaling_count : 압연 Descaling 횟수\n",
        "- work_group : 작업조"
      ],
      "metadata": {
        "id": "JZyOeSGEEE7K"
      },
      "id": "JZyOeSGEEE7K"
    },
    {
      "cell_type": "code",
      "execution_count": null,
      "id": "b1806bf6",
      "metadata": {
        "id": "b1806bf6"
      },
      "outputs": [],
      "source": [
        "# Data 구조 확인\n",
        "print(\"Data 구조:\", df.shape)\n",
        "print()\n",
        "print(\"변수 : \", df.columns)"
      ]
    },
    {
      "cell_type": "code",
      "execution_count": null,
      "id": "7c23c820",
      "metadata": {
        "id": "7c23c820"
      },
      "outputs": [],
      "source": [
        "df.columns # 컬럼명 확인"
      ]
    },
    {
      "cell_type": "code",
      "execution_count": null,
      "id": "7909e688",
      "metadata": {
        "id": "7909e688"
      },
      "outputs": [],
      "source": [
        "df.info();df.shape   # 연속형 10개 / 그 외 11개 범주형"
      ]
    },
    {
      "cell_type": "code",
      "execution_count": null,
      "id": "4df139a3",
      "metadata": {
        "id": "4df139a3"
      },
      "outputs": [],
      "source": [
        "df.isnull().sum() # 결측치가 없다"
      ]
    },
    {
      "cell_type": "code",
      "execution_count": null,
      "id": "0b6e08e4",
      "metadata": {
        "id": "0b6e08e4"
      },
      "outputs": [],
      "source": [
        "df.describe() # 연속형 변수들의 기술 통계량"
      ]
    },
    {
      "cell_type": "code",
      "execution_count": null,
      "id": "fd0876ae",
      "metadata": {
        "id": "fd0876ae"
      },
      "outputs": [],
      "source": [
        "df[\"plate_no\"].value_counts() # (plate 번호) 숫자가 1개씩 있는거라 제거해도될듯"
      ]
    },
    {
      "cell_type": "code",
      "execution_count": null,
      "id": "5fc3dc74",
      "metadata": {
        "id": "5fc3dc74"
      },
      "outputs": [],
      "source": [
        "df[\"rolling_date\"].value_counts() #  (열연작업시각) 모두 다름 (일 월 년 시간순)"
      ]
    },
    {
      "cell_type": "code",
      "execution_count": null,
      "id": "09a2c733",
      "metadata": {
        "id": "09a2c733"
      },
      "outputs": [],
      "source": [
        "df[\"scale\"].value_counts() #  Scale(산화철) 불량 목표변수 정상 690개 불량 310개"
      ]
    },
    {
      "cell_type": "code",
      "execution_count": null,
      "id": "028da165",
      "metadata": {
        "id": "028da165"
      },
      "outputs": [],
      "source": [
        "df[\"spec_long\"].value_counts() #제품 규격  제 각각 개판임"
      ]
    },
    {
      "cell_type": "code",
      "execution_count": null,
      "id": "7892887c",
      "metadata": {
        "id": "7892887c"
      },
      "outputs": [],
      "source": [
        "df[\"spec_country\"].value_counts() #제품 규격 기준국"
      ]
    },
    {
      "cell_type": "code",
      "execution_count": null,
      "id": "b6fe2c5c",
      "metadata": {
        "id": "b6fe2c5c"
      },
      "outputs": [],
      "source": [
        "df[\"steel_kind\"].value_counts() # 강종 c와 t두개 뿐"
      ]
    },
    {
      "cell_type": "code",
      "execution_count": null,
      "id": "9249bfc6",
      "metadata": {
        "id": "9249bfc6"
      },
      "outputs": [],
      "source": [
        "df[\"hsb\"].value_counts() #  HSB(Hot Scale Braker)적용여부 이진형"
      ]
    },
    {
      "cell_type": "code",
      "execution_count": null,
      "id": "e0893234",
      "metadata": {
        "id": "e0893234"
      },
      "outputs": [],
      "source": [
        "df[\"fur_no\"].value_counts() #  가열로 호기 3개 단위제거후 연속형"
      ]
    },
    {
      "cell_type": "code",
      "execution_count": null,
      "id": "d784d663",
      "metadata": {
        "id": "d784d663"
      },
      "outputs": [],
      "source": [
        "df[\"fur_input_row\"].value_counts() #  가열로 장입열 2개  #단위제거 후 이산형으로"
      ]
    },
    {
      "cell_type": "code",
      "execution_count": null,
      "id": "6fef2505",
      "metadata": {
        "id": "6fef2505"
      },
      "outputs": [],
      "source": [
        "df[\"rolling_method\"].value_counts() # 압연 방법2개법"
      ]
    },
    {
      "cell_type": "code",
      "execution_count": null,
      "id": "a1b88a80",
      "metadata": {
        "scrolled": true,
        "id": "a1b88a80"
      },
      "outputs": [],
      "source": [
        "df[\"work_group\"].value_counts() # 압연 방법2개법 단위제거후 이산형??"
      ]
    },
    {
      "cell_type": "code",
      "execution_count": null,
      "id": "2e3a3b44",
      "metadata": {
        "id": "2e3a3b44"
      },
      "outputs": [],
      "source": [
        "# 단위 work_group (조) fur_no(호기) fur_input_row(열)"
      ]
    },
    {
      "cell_type": "markdown",
      "id": "ab57433c",
      "metadata": {
        "id": "ab57433c"
      },
      "source": [
        "### 결측치 제거"
      ]
    },
    {
      "cell_type": "code",
      "execution_count": null,
      "id": "01d61257",
      "metadata": {
        "id": "01d61257"
      },
      "outputs": [],
      "source": [
        "df[df[\"rolling_temp\"]== 0.0] # 0 값 확인"
      ]
    },
    {
      "cell_type": "code",
      "execution_count": null,
      "id": "89a558d2",
      "metadata": {
        "id": "89a558d2"
      },
      "outputs": [],
      "source": [
        "df = df.drop(index=53)\n",
        "df = df.drop(index=221)\n",
        "df = df.drop(index=222)\n",
        "df = df.drop(index=598)\n",
        "df = df.drop(index=599)\n",
        "df = df.drop(index=600)"
      ]
    },
    {
      "cell_type": "code",
      "execution_count": null,
      "id": "d1bb221d",
      "metadata": {
        "id": "d1bb221d"
      },
      "outputs": [],
      "source": [
        "df.info()"
      ]
    },
    {
      "cell_type": "code",
      "execution_count": null,
      "id": "8b9deb04",
      "metadata": {
        "id": "8b9deb04"
      },
      "outputs": [],
      "source": [
        "df.isnull().sum() # 결측치 없음 확인"
      ]
    },
    {
      "cell_type": "markdown",
      "id": "202b1e10",
      "metadata": {
        "id": "202b1e10"
      },
      "source": [
        "### 데이터 전처리"
      ]
    },
    {
      "cell_type": "code",
      "execution_count": null,
      "id": "2b11631c",
      "metadata": {
        "id": "2b11631c"
      },
      "outputs": [],
      "source": [
        "df.describe()"
      ]
    },
    {
      "cell_type": "code",
      "execution_count": null,
      "id": "80b7054e",
      "metadata": {
        "id": "80b7054e",
        "outputId": "e7ec4012-424b-4c14-b7d1-44937a8de00a"
      },
      "outputs": [
        {
          "data": {
            "text/plain": [
              "[Text(0.5, 0, 'fur_soak_temp')]"
            ]
          },
          "execution_count": 6,
          "metadata": {},
          "output_type": "execute_result"
        },
        {
          "name": "stderr",
          "output_type": "stream",
          "text": [
            "findfont: Font family 'NanumGothic' not found.\n",
            "findfont: Font family 'NanumGothic' not found.\n",
            "findfont: Font family 'NanumGothic' not found.\n",
            "findfont: Font family 'NanumGothic' not found.\n",
            "findfont: Font family 'NanumGothic' not found.\n",
            "findfont: Font family 'NanumGothic' not found.\n",
            "findfont: Font family 'NanumGothic' not found.\n",
            "findfont: Font family 'NanumGothic' not found.\n",
            "findfont: Font family 'NanumGothic' not found.\n",
            "findfont: Font family 'NanumGothic' not found.\n",
            "findfont: Font family 'NanumGothic' not found.\n",
            "findfont: Font family 'NanumGothic' not found.\n",
            "findfont: Font family 'NanumGothic' not found.\n",
            "findfont: Font family 'NanumGothic' not found.\n",
            "findfont: Font family 'NanumGothic' not found.\n",
            "findfont: Font family 'NanumGothic' not found.\n",
            "findfont: Font family 'NanumGothic' not found.\n",
            "findfont: Font family 'NanumGothic' not found.\n",
            "findfont: Font family 'NanumGothic' not found.\n",
            "findfont: Font family 'NanumGothic' not found.\n",
            "findfont: Font family 'NanumGothic' not found.\n",
            "findfont: Font family 'NanumGothic' not found.\n",
            "findfont: Font family 'NanumGothic' not found.\n",
            "findfont: Font family 'NanumGothic' not found.\n",
            "findfont: Font family 'NanumGothic' not found.\n",
            "findfont: Font family 'NanumGothic' not found.\n",
            "findfont: Font family 'NanumGothic' not found.\n",
            "findfont: Font family 'NanumGothic' not found.\n",
            "findfont: Font family 'NanumGothic' not found.\n",
            "findfont: Font family 'NanumGothic' not found.\n",
            "findfont: Font family 'NanumGothic' not found.\n",
            "findfont: Font family 'NanumGothic' not found.\n",
            "findfont: Font family 'NanumGothic' not found.\n",
            "findfont: Font family 'NanumGothic' not found.\n",
            "findfont: Font family 'NanumGothic' not found.\n",
            "findfont: Font family 'NanumGothic' not found.\n",
            "findfont: Font family 'NanumGothic' not found.\n",
            "findfont: Font family 'NanumGothic' not found.\n",
            "findfont: Font family 'NanumGothic' not found.\n",
            "findfont: Font family 'NanumGothic' not found.\n",
            "findfont: Font family 'NanumGothic' not found.\n",
            "findfont: Font family 'NanumGothic' not found.\n",
            "findfont: Font family 'NanumGothic' not found.\n",
            "findfont: Font family 'NanumGothic' not found.\n",
            "findfont: Font family 'NanumGothic' not found.\n",
            "findfont: Font family 'NanumGothic' not found.\n",
            "findfont: Font family 'NanumGothic' not found.\n",
            "findfont: Font family 'NanumGothic' not found.\n",
            "findfont: Font family 'NanumGothic' not found.\n",
            "findfont: Font family 'NanumGothic' not found.\n",
            "findfont: Font family 'NanumGothic' not found.\n",
            "findfont: Font family 'NanumGothic' not found.\n",
            "findfont: Font family 'NanumGothic' not found.\n",
            "findfont: Font family 'NanumGothic' not found.\n",
            "findfont: Font family 'NanumGothic' not found.\n",
            "findfont: Font family 'NanumGothic' not found.\n",
            "findfont: Font family 'NanumGothic' not found.\n",
            "findfont: Font family 'NanumGothic' not found.\n",
            "findfont: Font family 'NanumGothic' not found.\n",
            "findfont: Font family 'NanumGothic' not found.\n",
            "findfont: Font family 'NanumGothic' not found.\n",
            "findfont: Font family 'NanumGothic' not found.\n",
            "findfont: Font family 'NanumGothic' not found.\n",
            "findfont: Font family 'NanumGothic' not found.\n",
            "findfont: Font family 'NanumGothic' not found.\n",
            "findfont: Font family 'NanumGothic' not found.\n",
            "findfont: Font family 'NanumGothic' not found.\n",
            "findfont: Font family 'NanumGothic' not found.\n",
            "findfont: Font family 'NanumGothic' not found.\n",
            "findfont: Font family 'NanumGothic' not found.\n",
            "findfont: Font family 'NanumGothic' not found.\n",
            "findfont: Font family 'NanumGothic' not found.\n",
            "findfont: Font family 'NanumGothic' not found.\n",
            "findfont: Font family 'NanumGothic' not found.\n",
            "findfont: Font family 'NanumGothic' not found.\n",
            "findfont: Font family 'NanumGothic' not found.\n",
            "findfont: Font family 'NanumGothic' not found.\n",
            "findfont: Font family 'NanumGothic' not found.\n",
            "findfont: Font family 'NanumGothic' not found.\n",
            "findfont: Font family 'NanumGothic' not found.\n",
            "findfont: Font family 'NanumGothic' not found.\n",
            "findfont: Font family 'NanumGothic' not found.\n",
            "findfont: Font family 'NanumGothic' not found.\n",
            "findfont: Font family 'NanumGothic' not found.\n",
            "findfont: Font family 'NanumGothic' not found.\n",
            "findfont: Font family 'NanumGothic' not found.\n",
            "findfont: Font family 'NanumGothic' not found.\n",
            "findfont: Font family 'NanumGothic' not found.\n",
            "findfont: Font family 'NanumGothic' not found.\n",
            "findfont: Font family 'NanumGothic' not found.\n",
            "findfont: Font family 'NanumGothic' not found.\n",
            "findfont: Font family 'NanumGothic' not found.\n",
            "findfont: Font family 'NanumGothic' not found.\n",
            "findfont: Font family 'NanumGothic' not found.\n",
            "findfont: Font family 'NanumGothic' not found.\n",
            "findfont: Font family 'NanumGothic' not found.\n",
            "findfont: Font family 'NanumGothic' not found.\n",
            "findfont: Font family 'NanumGothic' not found.\n",
            "findfont: Font family 'NanumGothic' not found.\n",
            "findfont: Font family 'NanumGothic' not found.\n",
            "findfont: Font family 'NanumGothic' not found.\n",
            "findfont: Font family 'NanumGothic' not found.\n",
            "findfont: Font family 'NanumGothic' not found.\n",
            "findfont: Font family 'NanumGothic' not found.\n",
            "findfont: Font family 'NanumGothic' not found.\n",
            "findfont: Font family 'NanumGothic' not found.\n",
            "findfont: Font family 'NanumGothic' not found.\n",
            "findfont: Font family 'NanumGothic' not found.\n",
            "findfont: Font family 'NanumGothic' not found.\n",
            "findfont: Font family 'NanumGothic' not found.\n",
            "findfont: Font family 'NanumGothic' not found.\n",
            "findfont: Font family 'NanumGothic' not found.\n",
            "findfont: Font family 'NanumGothic' not found.\n",
            "findfont: Font family 'NanumGothic' not found.\n",
            "findfont: Font family 'NanumGothic' not found.\n",
            "findfont: Font family 'NanumGothic' not found.\n",
            "findfont: Font family 'NanumGothic' not found.\n",
            "findfont: Font family 'NanumGothic' not found.\n",
            "findfont: Font family 'NanumGothic' not found.\n",
            "findfont: Font family 'NanumGothic' not found.\n",
            "findfont: Font family 'NanumGothic' not found.\n",
            "findfont: Font family 'NanumGothic' not found.\n",
            "findfont: Font family 'NanumGothic' not found.\n",
            "findfont: Font family 'NanumGothic' not found.\n",
            "findfont: Font family 'NanumGothic' not found.\n",
            "findfont: Font family 'NanumGothic' not found.\n",
            "findfont: Font family 'NanumGothic' not found.\n",
            "findfont: Font family 'NanumGothic' not found.\n",
            "findfont: Font family 'NanumGothic' not found.\n",
            "findfont: Font family 'NanumGothic' not found.\n",
            "findfont: Font family 'NanumGothic' not found.\n",
            "findfont: Font family 'NanumGothic' not found.\n",
            "findfont: Font family 'NanumGothic' not found.\n",
            "findfont: Font family 'NanumGothic' not found.\n",
            "findfont: Font family 'NanumGothic' not found.\n",
            "findfont: Font family 'NanumGothic' not found.\n",
            "findfont: Font family 'NanumGothic' not found.\n",
            "findfont: Font family 'NanumGothic' not found.\n",
            "findfont: Font family 'NanumGothic' not found.\n",
            "findfont: Font family 'NanumGothic' not found.\n",
            "findfont: Font family 'NanumGothic' not found.\n",
            "findfont: Font family 'NanumGothic' not found.\n",
            "findfont: Font family 'NanumGothic' not found.\n",
            "findfont: Font family 'NanumGothic' not found.\n",
            "findfont: Font family 'NanumGothic' not found.\n",
            "findfont: Font family 'NanumGothic' not found.\n",
            "findfont: Font family 'NanumGothic' not found.\n",
            "findfont: Font family 'NanumGothic' not found.\n",
            "findfont: Font family 'NanumGothic' not found.\n",
            "findfont: Font family 'NanumGothic' not found.\n",
            "findfont: Font family 'NanumGothic' not found.\n",
            "findfont: Font family 'NanumGothic' not found.\n",
            "findfont: Font family 'NanumGothic' not found.\n",
            "findfont: Font family 'NanumGothic' not found.\n",
            "findfont: Font family 'NanumGothic' not found.\n",
            "findfont: Font family 'NanumGothic' not found.\n",
            "findfont: Font family 'NanumGothic' not found.\n",
            "findfont: Font family 'NanumGothic' not found.\n",
            "findfont: Font family 'NanumGothic' not found.\n",
            "findfont: Font family 'NanumGothic' not found.\n",
            "findfont: Font family 'NanumGothic' not found.\n",
            "findfont: Font family 'NanumGothic' not found.\n",
            "findfont: Font family 'NanumGothic' not found.\n",
            "findfont: Font family 'NanumGothic' not found.\n",
            "findfont: Font family 'NanumGothic' not found.\n",
            "findfont: Font family 'NanumGothic' not found.\n",
            "findfont: Font family 'NanumGothic' not found.\n",
            "findfont: Font family 'NanumGothic' not found.\n",
            "findfont: Font family 'NanumGothic' not found.\n",
            "findfont: Font family 'NanumGothic' not found.\n",
            "findfont: Font family 'NanumGothic' not found.\n",
            "findfont: Font family 'NanumGothic' not found.\n",
            "findfont: Font family 'NanumGothic' not found.\n",
            "findfont: Font family 'NanumGothic' not found.\n",
            "findfont: Font family 'NanumGothic' not found.\n"
          ]
        },
        {
          "name": "stderr",
          "output_type": "stream",
          "text": [
            "findfont: Font family 'NanumGothic' not found.\n",
            "findfont: Font family 'NanumGothic' not found.\n",
            "findfont: Font family 'NanumGothic' not found.\n",
            "findfont: Font family 'NanumGothic' not found.\n",
            "findfont: Font family 'NanumGothic' not found.\n",
            "findfont: Font family 'NanumGothic' not found.\n",
            "findfont: Font family 'NanumGothic' not found.\n",
            "findfont: Font family 'NanumGothic' not found.\n",
            "findfont: Font family 'NanumGothic' not found.\n",
            "findfont: Font family 'NanumGothic' not found.\n",
            "findfont: Font family 'NanumGothic' not found.\n",
            "findfont: Font family 'NanumGothic' not found.\n",
            "findfont: Font family 'NanumGothic' not found.\n",
            "findfont: Font family 'NanumGothic' not found.\n",
            "findfont: Font family 'NanumGothic' not found.\n",
            "findfont: Font family 'NanumGothic' not found.\n",
            "findfont: Font family 'NanumGothic' not found.\n",
            "findfont: Font family 'NanumGothic' not found.\n",
            "findfont: Font family 'NanumGothic' not found.\n",
            "findfont: Font family 'NanumGothic' not found.\n",
            "findfont: Font family 'NanumGothic' not found.\n",
            "findfont: Font family 'NanumGothic' not found.\n",
            "findfont: Font family 'NanumGothic' not found.\n",
            "findfont: Font family 'NanumGothic' not found.\n",
            "findfont: Font family 'NanumGothic' not found.\n",
            "findfont: Font family 'NanumGothic' not found.\n",
            "findfont: Font family 'NanumGothic' not found.\n",
            "findfont: Font family 'NanumGothic' not found.\n",
            "findfont: Font family 'NanumGothic' not found.\n",
            "findfont: Font family 'NanumGothic' not found.\n",
            "findfont: Font family 'NanumGothic' not found.\n",
            "findfont: Font family 'NanumGothic' not found.\n",
            "findfont: Font family 'NanumGothic' not found.\n",
            "findfont: Font family 'NanumGothic' not found.\n",
            "findfont: Font family 'NanumGothic' not found.\n",
            "findfont: Font family 'NanumGothic' not found.\n",
            "findfont: Font family 'NanumGothic' not found.\n",
            "findfont: Font family 'NanumGothic' not found.\n",
            "findfont: Font family 'NanumGothic' not found.\n",
            "findfont: Font family 'NanumGothic' not found.\n",
            "findfont: Font family 'NanumGothic' not found.\n",
            "findfont: Font family 'NanumGothic' not found.\n",
            "findfont: Font family 'NanumGothic' not found.\n",
            "findfont: Font family 'NanumGothic' not found.\n",
            "findfont: Font family 'NanumGothic' not found.\n",
            "findfont: Font family 'NanumGothic' not found.\n",
            "findfont: Font family 'NanumGothic' not found.\n",
            "findfont: Font family 'NanumGothic' not found.\n",
            "findfont: Font family 'NanumGothic' not found.\n",
            "findfont: Font family 'NanumGothic' not found.\n",
            "findfont: Font family 'NanumGothic' not found.\n",
            "findfont: Font family 'NanumGothic' not found.\n",
            "findfont: Font family 'NanumGothic' not found.\n",
            "findfont: Font family 'NanumGothic' not found.\n",
            "findfont: Font family 'NanumGothic' not found.\n",
            "findfont: Font family 'NanumGothic' not found.\n",
            "findfont: Font family 'NanumGothic' not found.\n",
            "findfont: Font family 'NanumGothic' not found.\n",
            "findfont: Font family 'NanumGothic' not found.\n",
            "findfont: Font family 'NanumGothic' not found.\n",
            "findfont: Font family 'NanumGothic' not found.\n",
            "findfont: Font family 'NanumGothic' not found.\n",
            "findfont: Font family 'NanumGothic' not found.\n",
            "findfont: Font family 'NanumGothic' not found.\n",
            "findfont: Font family 'NanumGothic' not found.\n",
            "findfont: Font family 'NanumGothic' not found.\n",
            "findfont: Font family 'NanumGothic' not found.\n",
            "findfont: Font family 'NanumGothic' not found.\n",
            "findfont: Font family 'NanumGothic' not found.\n",
            "findfont: Font family 'NanumGothic' not found.\n",
            "findfont: Font family 'NanumGothic' not found.\n",
            "findfont: Font family 'NanumGothic' not found.\n",
            "findfont: Font family 'NanumGothic' not found.\n",
            "findfont: Font family 'NanumGothic' not found.\n",
            "findfont: Font family 'NanumGothic' not found.\n",
            "findfont: Font family 'NanumGothic' not found.\n",
            "findfont: Font family 'NanumGothic' not found.\n",
            "findfont: Font family 'NanumGothic' not found.\n",
            "findfont: Font family 'NanumGothic' not found.\n",
            "findfont: Font family 'NanumGothic' not found.\n",
            "findfont: Font family 'NanumGothic' not found.\n",
            "findfont: Font family 'NanumGothic' not found.\n",
            "findfont: Font family 'NanumGothic' not found.\n",
            "findfont: Font family 'NanumGothic' not found.\n",
            "findfont: Font family 'NanumGothic' not found.\n",
            "findfont: Font family 'NanumGothic' not found.\n",
            "findfont: Font family 'NanumGothic' not found.\n",
            "findfont: Font family 'NanumGothic' not found.\n",
            "findfont: Font family 'NanumGothic' not found.\n",
            "findfont: Font family 'NanumGothic' not found.\n",
            "findfont: Font family 'NanumGothic' not found.\n",
            "findfont: Font family 'NanumGothic' not found.\n",
            "findfont: Font family 'NanumGothic' not found.\n",
            "findfont: Font family 'NanumGothic' not found.\n",
            "findfont: Font family 'NanumGothic' not found.\n",
            "findfont: Font family 'NanumGothic' not found.\n",
            "findfont: Font family 'NanumGothic' not found.\n",
            "findfont: Font family 'NanumGothic' not found.\n",
            "findfont: Font family 'NanumGothic' not found.\n",
            "findfont: Font family 'NanumGothic' not found.\n",
            "findfont: Font family 'NanumGothic' not found.\n",
            "findfont: Font family 'NanumGothic' not found.\n",
            "findfont: Font family 'NanumGothic' not found.\n",
            "findfont: Font family 'NanumGothic' not found.\n",
            "findfont: Font family 'NanumGothic' not found.\n",
            "findfont: Font family 'NanumGothic' not found.\n",
            "findfont: Font family 'NanumGothic' not found.\n"
          ]
        },
        {
          "data": {
            "image/png": "[encoded data removed]",
            "text/plain": [
              "<Figure size 1200x800 with 10 Axes>"
            ]
          },
          "metadata": {},
          "output_type": "display_data"
        }
      ],
      "source": [
        "f,ax = plt.subplots(2,5,figsize=(12,8))\n",
        "sns.boxplot(data=df[\"pt_thick\"], ax = ax[0,0]).set(xlabel=\"pt_thick\")\n",
        "sns.boxplot(data=df[\"pt_width\"], ax = ax[0,1]).set(xlabel=\"pt_width\")   # 연식은 오래 될 수도 있다.      # 위아래로 골고루 있는 듯 하다.\n",
        "sns.boxplot(data=df[\"pt_length\"], ax = ax[0,2]).set(xlabel=\"pt_length\")\n",
        "sns.boxplot(data=df[\"fur_heat_temp\"], ax = ax[0,3]).set(xlabel=\"fur_heat_temp\")\n",
        "sns.boxplot(data=df[\"fur_heat_time\"], ax = ax[0,4]).set(xlabel=\"fur_heat_time\")\n",
        "\n",
        "sns.boxplot(data=df[\"fur_soak_time\"], ax = ax[1,0]).set(xlabel=\"fur_soak_time\")\n",
        "sns.boxplot(data=df[\"fur_total_time\"], ax = ax[1,1]).set(xlabel=\"fur_total_time\")\n",
        "sns.boxplot(data=df[\"rolling_temp\"], ax = ax[1,2]).set(xlabel=\"rolling_temp\")\n",
        "sns.boxplot(data=df[\"descaling_count\"], ax = ax[1,3]).set(xlabel=\"descaling_count\")\n",
        "sns.boxplot(data=df[\"fur_soak_temp\"], ax = ax[1,4]).set(xlabel=\"fur_soak_temp\")\n"
      ]
    },
    {
      "cell_type": "code",
      "execution_count": null,
      "id": "fbc04a71",
      "metadata": {
        "id": "fbc04a71"
      },
      "outputs": [],
      "source": [
        "# pt_thick 열의 값이 81.17보다 큰 행들을 제거\n",
        "df[df[\"pt_thick\"] >= 81.17]\n",
        "# 83 83 90 90 90 100 100\n",
        "#느낌상 100만 지우면되지 않을까(859 860 )"
      ]
    },
    {
      "cell_type": "code",
      "execution_count": null,
      "id": "1a1e8769",
      "metadata": {
        "id": "1a1e8769"
      },
      "outputs": [],
      "source": [
        "df = df.drop(index=860)\n",
        "df = df.drop(index=859)"
      ]
    },
    {
      "cell_type": "code",
      "execution_count": null,
      "id": "2e29c68a",
      "metadata": {
        "id": "2e29c68a"
      },
      "outputs": [],
      "source": [
        "# hsb 미적용 값은 모두 불량이다\n",
        "df[df[\"hsb\"] == \"미적용\"]"
      ]
    },
    {
      "cell_type": "code",
      "execution_count": null,
      "id": "109b484d",
      "metadata": {
        "id": "109b484d"
      },
      "outputs": [],
      "source": [
        "df[df[\"pt_width\"] >= 4314.2]"
      ]
    },
    {
      "cell_type": "code",
      "execution_count": null,
      "id": "03d853c1",
      "metadata": {
        "id": "03d853c1"
      },
      "outputs": [],
      "source": [
        "# fur_soak_temp 열의 값이 81.17보다 큰 행들을 제거\n",
        "# 위의 이상치는 없음\n",
        "df[df[\"fur_heat_time\"] >= 164.8]"
      ]
    },
    {
      "cell_type": "code",
      "execution_count": null,
      "id": "bf49f4a3",
      "metadata": {
        "id": "bf49f4a3"
      },
      "outputs": [],
      "source": [
        "# 아래에도 이상치는 없음\n",
        "# 큰 차이 없긴함  141 145 144 143(3)\n",
        "df[df[\"fur_soak_time\"] >= 133.5]"
      ]
    },
    {
      "cell_type": "code",
      "execution_count": null,
      "id": "261cb724",
      "metadata": {
        "id": "261cb724"
      },
      "outputs": [],
      "source": [
        "# 361 362\n",
        "df[df[\"fur_total_time\"] >= 352.8]"
      ]
    },
    {
      "cell_type": "code",
      "execution_count": null,
      "id": "e88ddd1c",
      "metadata": {
        "id": "e88ddd1c"
      },
      "outputs": [],
      "source": [
        "# 있는 놈들 0임 0\n",
        "# 0이 있어서 평균 편차가 이상해짐\n",
        "# 723 4개 745 1개\n",
        "df[df[\"rolling_temp\"] <= 748.6]"
      ]
    },
    {
      "cell_type": "code",
      "execution_count": null,
      "id": "a4cabb34",
      "metadata": {
        "id": "a4cabb34"
      },
      "outputs": [],
      "source": [
        "df.isnull().sum()"
      ]
    },
    {
      "cell_type": "code",
      "execution_count": null,
      "id": "0470ea85",
      "metadata": {
        "id": "0470ea85"
      },
      "outputs": [],
      "source": [
        "#의미없는 plate_no 제거\n",
        "df = df.drop(columns=['plate_no'], errors='ignore')"
      ]
    },
    {
      "cell_type": "code",
      "execution_count": null,
      "id": "cc3db7bd",
      "metadata": {
        "id": "cc3db7bd"
      },
      "outputs": [],
      "source": [
        "# 제거확인\n",
        "df"
      ]
    },
    {
      "cell_type": "markdown",
      "id": "82fd9822",
      "metadata": {
        "id": "82fd9822"
      },
      "source": [
        "#### 변수 변형 및 파생"
      ]
    },
    {
      "cell_type": "code",
      "execution_count": null,
      "id": "646fff23",
      "metadata": {
        "id": "646fff23"
      },
      "outputs": [],
      "source": [
        "df[\"fur_no\"]= df[\"fur_no\"].str.replace(\"호기\",\"\")\n",
        "df[\"fur_input_row\"] = df[\"fur_input_row\"].str.replace(\"열\",\"\")\n",
        "df[\"work_group\"] = df[\"work_group\"].str.replace(\"조\",\"\")\n",
        "df.head(3)"
      ]
    },
    {
      "cell_type": "code",
      "execution_count": null,
      "id": "7fc43ae7",
      "metadata": {
        "scrolled": true,
        "id": "7fc43ae7"
      },
      "outputs": [],
      "source": [
        "# rolling date 변형\n",
        "df[['date', 'time']] = df['rolling_date'].str.split(':', 1, expand=True)\n",
        "df = df.drop(columns=['rolling_date'], errors='ignore')\n",
        "df['day'] = df['date'].str.split('JAN2023').str[0]\n",
        "df['hour'] = df['time'].str.split(':').str[0]\n",
        "df = df.drop(columns=['date','time'], errors='ignore')\n",
        "\n",
        "df"
      ]
    },
    {
      "cell_type": "code",
      "execution_count": null,
      "id": "96fcb094",
      "metadata": {
        "scrolled": true,
        "id": "96fcb094"
      },
      "outputs": [],
      "source": [
        "#정보확인\n",
        "df.info()"
      ]
    },
    {
      "cell_type": "code",
      "execution_count": null,
      "id": "3f2c3f03",
      "metadata": {
        "id": "3f2c3f03"
      },
      "outputs": [],
      "source": [
        "# 변수 변형: scale 원핫인코딩\n",
        "\n",
        "df_raw= pd.get_dummies(df, columns=['scale'])\n",
        "df_raw = df_raw.drop ('scale_양품', axis = 1)\n",
        "df_raw['scale'] = df_raw['scale_불량']\n",
        "df_raw"
      ]
    },
    {
      "cell_type": "code",
      "execution_count": null,
      "id": "057ee9ee",
      "metadata": {
        "id": "057ee9ee"
      },
      "outputs": [],
      "source": [
        "#df 처리\n",
        "# fur_combined\n",
        "#fur_no,  fur_input_row --> 범주형 변수로 결합\n",
        "\n",
        "df[\"fur_no\"]= df[\"fur_no\"].str.replace(\"호기\",\"\")\n",
        "df[\"fur_input_row\"] = df[\"fur_input_row\"].str.replace(\"열\",\"\")\n",
        "df[\"work_group\"] = df[\"work_group\"].str.replace(\"조\",\"\")\n",
        "df.head(3)\n",
        "\n",
        "df['fur_combined'] = df['fur_no'].astype(str) + '_' + df['fur_input_row'].astype(str)\n",
        "\n",
        "# 결합된 열을 범주형 변수로 변환\n",
        "df['fur_combined'] = df['fur_combined'].astype('category')\n",
        "\n",
        "# df.drop(['fur_no', 'fur_input_row'], axis = 1, inplace = True)\n",
        "# df.head()\n",
        "\n",
        "#------------------------------\n",
        "# df_raw 처리\n",
        "# fur_combined\n",
        "#fur_no,  fur_input_row --> 범주형 변수로 결합\n",
        "\n",
        "df_raw[\"fur_no\"]= df_raw[\"fur_no\"].str.replace(\"호기\",\"\")\n",
        "df_raw[\"fur_input_row\"] = df_raw[\"fur_input_row\"].str.replace(\"열\",\"\")\n",
        "df_raw[\"work_group\"] = df_raw[\"work_group\"].str.replace(\"조\",\"\")\n",
        "df_raw.head(3)\n",
        "\n",
        "df_raw['fur_combined'] = df_raw['fur_no'].astype(str) + '_' + df_raw['fur_input_row'].astype(str)\n",
        "\n",
        "# 결합된 열을 범주형 변수로 변환\n",
        "df_raw['fur_combined'] = df_raw['fur_combined'].astype('category')\n",
        "\n",
        "df_raw.drop(['fur_no', 'fur_input_row'], axis = 1, inplace = True)\n",
        "df_raw.head()"
      ]
    },
    {
      "cell_type": "markdown",
      "id": "5f3c93bb",
      "metadata": {
        "id": "5f3c93bb"
      },
      "source": [
        "#### 데이터 분리"
      ]
    },
    {
      "cell_type": "code",
      "execution_count": null,
      "id": "f218d768",
      "metadata": {
        "id": "f218d768"
      },
      "outputs": [],
      "source": [
        "# 설명변수, 목표변수 데이터 구분\n",
        "# x,y\n",
        "df_raw_x = df.drop(\"scale\", axis = 1, inplace = False)\n",
        "df_raw_y = df[\"scale\"]"
      ]
    },
    {
      "cell_type": "code",
      "execution_count": null,
      "id": "e3990bf5",
      "metadata": {
        "scrolled": true,
        "id": "e3990bf5"
      },
      "outputs": [],
      "source": [
        "df_raw_x"
      ]
    },
    {
      "cell_type": "code",
      "execution_count": null,
      "id": "259bc654",
      "metadata": {
        "id": "259bc654"
      },
      "outputs": [],
      "source": []
    },
    {
      "cell_type": "code",
      "execution_count": null,
      "id": "746f7439",
      "metadata": {
        "id": "746f7439"
      },
      "outputs": [],
      "source": []
    },
    {
      "cell_type": "code",
      "execution_count": null,
      "id": "a4170ab2",
      "metadata": {
        "id": "a4170ab2"
      },
      "outputs": [],
      "source": [
        "df_raw_y"
      ]
    },
    {
      "cell_type": "markdown",
      "id": "4a54f088",
      "metadata": {
        "id": "4a54f088"
      },
      "source": [
        "## 변수 별 *검정*"
      ]
    },
    {
      "cell_type": "markdown",
      "id": "7a9421d3",
      "metadata": {
        "id": "7a9421d3"
      },
      "source": [
        "#### 제품규격"
      ]
    },
    {
      "cell_type": "code",
      "execution_count": null,
      "id": "94ecd251",
      "metadata": {
        "id": "94ecd251",
        "outputId": "9d7885fc-a1f0-41e2-9690-90cee5d9eb64"
      },
      "outputs": [
        {
          "name": "stdout",
          "output_type": "stream",
          "text": [
            "chi-squared statistic: 237.73230544888608\n",
            "p-value: 1.6124938782265506e-21\n",
            "degrees of freedom: 65\n",
            "expected frequencies:\n",
            " [[ 0.31  1.86  0.93  0.31 15.81  9.61  2.79  0.62  9.92  0.62  5.89 10.54\n",
            "   1.24  0.93  0.31 10.54  2.17 12.09  0.62 11.16  5.27  7.44  1.24  3.41\n",
            "   2.79  1.86  4.96  0.62  1.86 10.23  1.55 26.04  7.44 14.26  3.41  0.31\n",
            "   0.62  0.31  1.24  1.86  1.55  2.17  1.55 25.11 16.12  0.31  0.31  4.03\n",
            "   0.31  0.62  3.1   5.89  0.31  0.93 14.88 10.23  0.93  0.62  0.93  1.24\n",
            "   1.55  0.62  1.55 12.4   6.51  1.24]\n",
            " [ 0.69  4.14  2.07  0.69 35.19 21.39  6.21  1.38 22.08  1.38 13.11 23.46\n",
            "   2.76  2.07  0.69 23.46  4.83 26.91  1.38 24.84 11.73 16.56  2.76  7.59\n",
            "   6.21  4.14 11.04  1.38  4.14 22.77  3.45 57.96 16.56 31.74  7.59  0.69\n",
            "   1.38  0.69  2.76  4.14  3.45  4.83  3.45 55.89 35.88  0.69  0.69  8.97\n",
            "   0.69  1.38  6.9  13.11  0.69  2.07 33.12 22.77  2.07  1.38  2.07  2.76\n",
            "   3.45  1.38  3.45 27.6  14.49  2.76]]\n"
          ]
        }
      ],
      "source": [
        "cross_tab = pd.crosstab(df[\"scale\"], df[\"spec_long\"])\n",
        "\n",
        "# 카이제곱 검정 실행\n",
        "chi2, pval, dof, expected = chi2_contingency(cross_tab)\n",
        "\n",
        "# 결과 출력\n",
        "print(\"chi-squared statistic:\", chi2)\n",
        "print(\"p-value:\", pval)\n",
        "print(\"degrees of freedom:\", dof)\n",
        "print(\"expected frequencies:\\n\", expected)\n",
        "# 삭제예정"
      ]
    },
    {
      "cell_type": "markdown",
      "id": "135c7c32",
      "metadata": {
        "id": "135c7c32"
      },
      "source": [
        "- 카이제곱 통계량 233\n",
        "- P-value : 3.487523403968362e-21\n",
        "- 자유도 : 64\n",
        "- 귀무가설: 제품 규격과 뷸량율은 관련이 없다\n",
        "- 대립가설 : 제품 규격과 뷸량율은 관련이 있다\n",
        "- 검정결과 P-value는 0에 수렴하므로 귀무가설을 기각할 수 있고 따라서 제품 규격과 불량율은 관련이 있다."
      ]
    },
    {
      "cell_type": "markdown",
      "id": "9c37fb7a",
      "metadata": {
        "id": "9c37fb7a"
      },
      "source": [
        "### 제품 규격 기준국"
      ]
    },
    {
      "cell_type": "code",
      "execution_count": null,
      "id": "b9aba471",
      "metadata": {
        "scrolled": false,
        "id": "b9aba471",
        "outputId": "2e28e962-0b95-4842-ab8c-bc873f494441"
      },
      "outputs": [
        {
          "name": "stderr",
          "output_type": "stream",
          "text": [
            "findfont: Font family 'NanumGothic' not found.\n",
            "findfont: Font family 'NanumGothic' not found.\n",
            "findfont: Font family 'NanumGothic' not found.\n",
            "findfont: Font family 'NanumGothic' not found.\n",
            "findfont: Font family 'NanumGothic' not found.\n",
            "findfont: Font family 'NanumGothic' not found.\n",
            "findfont: Font family 'NanumGothic' not found.\n",
            "findfont: Font family 'NanumGothic' not found.\n",
            "findfont: Font family 'NanumGothic' not found.\n",
            "findfont: Font family 'NanumGothic' not found.\n",
            "findfont: Font family 'NanumGothic' not found.\n",
            "findfont: Font family 'NanumGothic' not found.\n",
            "findfont: Font family 'NanumGothic' not found.\n",
            "findfont: Font family 'NanumGothic' not found.\n",
            "findfont: Font family 'NanumGothic' not found.\n",
            "findfont: Font family 'NanumGothic' not found.\n",
            "findfont: Font family 'NanumGothic' not found.\n",
            "findfont: Font family 'NanumGothic' not found.\n",
            "findfont: Font family 'NanumGothic' not found.\n",
            "findfont: Font family 'NanumGothic' not found.\n",
            "findfont: Font family 'NanumGothic' not found.\n",
            "findfont: Font family 'NanumGothic' not found.\n",
            "findfont: Font family 'NanumGothic' not found.\n",
            "findfont: Font family 'NanumGothic' not found.\n",
            "findfont: Font family 'NanumGothic' not found.\n",
            "findfont: Font family 'NanumGothic' not found.\n",
            "findfont: Font family 'NanumGothic' not found.\n"
          ]
        },
        {
          "name": "stdout",
          "output_type": "stream",
          "text": [
            "chi-squared statistic: 68.38385440143149\n",
            "p-value: 8.766804557877507e-13\n",
            "degrees of freedom: 6\n",
            "expected frequencies:\n",
            " [[ 11.16  26.97  49.29  79.36  57.97  44.33  40.92]\n",
            " [ 24.84  60.03 109.71 176.64 129.03  98.67  91.08]]\n"
          ]
        },
        {
          "name": "stderr",
          "output_type": "stream",
          "text": [
            "findfont: Font family 'NanumGothic' not found.\n",
            "findfont: Font family 'NanumGothic' not found.\n",
            "findfont: Font family 'NanumGothic' not found.\n",
            "findfont: Font family 'NanumGothic' not found.\n",
            "findfont: Font family 'NanumGothic' not found.\n",
            "findfont: Font family 'NanumGothic' not found.\n",
            "findfont: Font family 'NanumGothic' not found.\n",
            "findfont: Font family 'NanumGothic' not found.\n",
            "findfont: Font family 'NanumGothic' not found.\n",
            "findfont: Font family 'NanumGothic' not found.\n",
            "findfont: Font family 'NanumGothic' not found.\n",
            "findfont: Font family 'NanumGothic' not found.\n",
            "findfont: Font family 'NanumGothic' not found.\n",
            "findfont: Font family 'NanumGothic' not found.\n",
            "findfont: Font family 'NanumGothic' not found.\n",
            "findfont: Font family 'NanumGothic' not found.\n",
            "findfont: Font family 'NanumGothic' not found.\n",
            "findfont: Font family 'NanumGothic' not found.\n",
            "findfont: Font family 'NanumGothic' not found.\n",
            "findfont: Font family 'NanumGothic' not found.\n",
            "findfont: Font family 'NanumGothic' not found.\n",
            "findfont: Font family 'NanumGothic' not found.\n",
            "findfont: Font family 'NanumGothic' not found.\n",
            "findfont: Font family 'NanumGothic' not found.\n",
            "findfont: Font family 'NanumGothic' not found.\n",
            "findfont: Font family 'NanumGothic' not found.\n",
            "findfont: Font family 'NanumGothic' not found.\n",
            "findfont: Font family 'NanumGothic' not found.\n",
            "findfont: Font family 'NanumGothic' not found.\n",
            "findfont: Font family 'NanumGothic' not found.\n",
            "findfont: Font family 'NanumGothic' not found.\n",
            "findfont: Font family 'NanumGothic' not found.\n",
            "findfont: Font family 'NanumGothic' not found.\n",
            "findfont: Font family 'NanumGothic' not found.\n",
            "findfont: Font family 'NanumGothic' not found.\n",
            "findfont: Font family 'NanumGothic' not found.\n",
            "findfont: Font family 'NanumGothic' not found.\n",
            "findfont: Font family 'NanumGothic' not found.\n",
            "findfont: Font family 'NanumGothic' not found.\n",
            "findfont: Font family 'NanumGothic' not found.\n",
            "findfont: Font family 'NanumGothic' not found.\n",
            "findfont: Font family 'NanumGothic' not found.\n",
            "findfont: Font family 'NanumGothic' not found.\n",
            "findfont: Font family 'NanumGothic' not found.\n",
            "findfont: Font family 'NanumGothic' not found.\n",
            "findfont: Font family 'NanumGothic' not found.\n",
            "findfont: Font family 'NanumGothic' not found.\n",
            "findfont: Font family 'NanumGothic' not found.\n",
            "findfont: Font family 'NanumGothic' not found.\n",
            "findfont: Font family 'NanumGothic' not found.\n",
            "findfont: Font family 'NanumGothic' not found.\n",
            "findfont: Font family 'NanumGothic' not found.\n",
            "findfont: Font family 'NanumGothic' not found.\n",
            "findfont: Font family 'NanumGothic' not found.\n",
            "findfont: Font family 'NanumGothic' not found.\n",
            "findfont: Font family 'NanumGothic' not found.\n",
            "findfont: Font family 'NanumGothic' not found.\n",
            "findfont: Font family 'NanumGothic' not found.\n",
            "findfont: Font family 'NanumGothic' not found.\n",
            "findfont: Font family 'NanumGothic' not found.\n",
            "findfont: Font family 'NanumGothic' not found.\n",
            "findfont: Font family 'NanumGothic' not found.\n",
            "findfont: Font family 'NanumGothic' not found.\n",
            "findfont: Font family 'NanumGothic' not found.\n",
            "findfont: Font family 'NanumGothic' not found.\n",
            "findfont: Font family 'NanumGothic' not found.\n",
            "findfont: Font family 'NanumGothic' not found.\n",
            "findfont: Font family 'NanumGothic' not found.\n",
            "findfont: Font family 'NanumGothic' not found.\n",
            "findfont: Font family 'NanumGothic' not found.\n",
            "findfont: Font family 'NanumGothic' not found.\n",
            "findfont: Font family 'NanumGothic' not found.\n",
            "findfont: Font family 'NanumGothic' not found.\n"
          ]
        },
        {
          "data": {
            "image/png": "[encoded data removed]",
            "text/plain": [
              "<Figure size 1200x600 with 1 Axes>"
            ]
          },
          "metadata": {},
          "output_type": "display_data"
        }
      ],
      "source": [
        "# Create a cross-tabulation\n",
        "cross_tab = pd.crosstab(df[\"scale\"], df[\"spec_country\"])\n",
        "\n",
        "# Perform chi-squared test\n",
        "chi2, pval, dof, expected = chi2_contingency(cross_tab)\n",
        "\n",
        "# Print the results\n",
        "print(\"chi-squared statistic:\", chi2)\n",
        "print(\"p-value:\", pval)\n",
        "print(\"degrees of freedom:\", dof)\n",
        "print(\"expected frequencies:\\n\", expected)\n",
        "\n",
        "# Plotting countplot\n",
        "plt.figure(figsize=(12, 6))\n",
        "sns.countplot(data=df, x=\"spec_country\", hue=\"scale\")\n",
        "plt.title(\"Count of 'scale' grouped by 'spec_country'\")\n",
        "plt.xlabel(\"spec_country\")\n",
        "plt.ylabel(\"Count\")\n",
        "plt.legend(title=\"Scale\")\n",
        "plt.xticks(rotation=45)\n",
        "plt.show()"
      ]
    },
    {
      "cell_type": "markdown",
      "id": "39cc884c",
      "metadata": {
        "id": "39cc884c"
      },
      "source": [
        "- 카이제곱 통계량 6.76\n",
        "- P-value : 2.3668925488662356e-12\n",
        "- 자유도 : 6\n",
        "- 귀무가설: 제품 규격 기준국과 뷸량율은 관련이 없다\n",
        "- 대립가설 : 제품 규격 기준국과 뷸량율은 관련이 있다\n",
        "- 검정결과 P-value는 0에 수렴하므로 귀무가설을 기각할 수 있고 따라서 제품 규격 기준국과 불량율은 관련이 있다."
      ]
    },
    {
      "cell_type": "markdown",
      "id": "85938cd9",
      "metadata": {
        "id": "85938cd9"
      },
      "source": [
        "### 강종"
      ]
    },
    {
      "cell_type": "code",
      "execution_count": null,
      "id": "e8d83fe7",
      "metadata": {
        "scrolled": false,
        "id": "e8d83fe7"
      },
      "outputs": [],
      "source": [
        "# 강종\n",
        "cross_tab = pd.crosstab(df[\"scale\"], df[\"steel_kind\"])\n",
        "\n",
        "# Perform chi-squared test\n",
        "chi2, pval, dof, expected = chi2_contingency(cross_tab)\n",
        "\n",
        "# Print the results\n",
        "print(\"chi-squared statistic:\", chi2)\n",
        "print(\"p-value:\", pval)\n",
        "print(\"degrees of freedom:\", dof)\n",
        "print(\"expected frequencies:\\n\", expected)\n",
        "\n",
        "# Plotting countplot\n",
        "plt.figure(figsize=(12, 6))\n",
        "sns.countplot(data=df, x=\"steel_kind\", hue=\"scale\")\n",
        "plt.title(\"Count of 'scale' grouped by 'steel_kind'\")\n",
        "plt.xlabel(\"steel_kind\")\n",
        "plt.ylabel(\"Count\")\n",
        "plt.legend(title=\"scale\")\n",
        "plt.xticks(rotation=45)\n",
        "plt.show()\n"
      ]
    },
    {
      "cell_type": "markdown",
      "id": "9cfd8a6c",
      "metadata": {
        "id": "9cfd8a6c"
      },
      "source": [
        "- 카이제곱 통계량 77\n",
        "- P-value : 1.7064944645927214e-18\n",
        "- 자유도 : 1\n",
        "- 귀무가설 : 강종에 따라 뷸량율은 관련이 없다\n",
        "- 대립가설 : 강종에 기준국과 뷸량율은 관련이 있다\n",
        "- 검정결과 P-value는 0에 수렴하므로 귀무가설을 기각할 수 있고 따라서 강종과 불량율은 관련이 있다."
      ]
    },
    {
      "cell_type": "markdown",
      "id": "0bfc26d6",
      "metadata": {
        "id": "0bfc26d6"
      },
      "source": [
        "### 시간"
      ]
    },
    {
      "cell_type": "code",
      "execution_count": null,
      "id": "bc20c9a2",
      "metadata": {
        "id": "bc20c9a2"
      },
      "outputs": [],
      "source": [
        "cross_tab = pd.crosstab(df[\"scale\"], df[\"hour\"])\n",
        "\n",
        "# Perform chi-squared test\n",
        "chi2, pval, dof, expected = chi2_contingency(cross_tab)\n",
        "\n",
        "# Print the results\n",
        "print(\"chi-squared statistic:\", chi2)\n",
        "print(\"p-value:\", pval)\n",
        "print(\"degrees of freedom:\", dof)\n",
        "print(\"expected frequencies:\\n\", expected)\n",
        "\n",
        "# Plotting countplot\n",
        "plt.figure(figsize=(12, 6))\n",
        "sns.countplot(data=df, x=\"hour\", hue=\"scale\")\n",
        "plt.title(\"Count of 'scale' grouped by 'day'\")\n",
        "plt.xlabel(\"hour\")\n",
        "plt.ylabel(\"Count\")\n",
        "plt.legend(title=\"Scale\")\n",
        "plt.xticks(rotation=45)\n",
        "plt.show()"
      ]
    },
    {
      "cell_type": "markdown",
      "id": "3e23d125",
      "metadata": {
        "id": "3e23d125"
      },
      "source": [
        "- 카이제곱 통계량 41.8\n",
        "- P-value : 0.009414\n",
        "- 자유도 : 23\n",
        "- 귀무가설 : 시간과 뷸량율은 관계가 없다\n",
        "- 대립가설 : 시간과 기준국과 뷸량율은 관계가 있다\n",
        "- 검정결과 P-value는 0에 수렴하므로 귀무가설을 기각할 수 있고 따라서 시간과 불량율은 관련이 있다."
      ]
    },
    {
      "cell_type": "markdown",
      "id": "f8001b96",
      "metadata": {
        "id": "f8001b96"
      },
      "source": [
        "### 요일"
      ]
    },
    {
      "cell_type": "code",
      "execution_count": null,
      "id": "b6110056",
      "metadata": {
        "id": "b6110056"
      },
      "outputs": [],
      "source": [
        "# 요일에 대한 cross tab\n",
        "cross_tab = pd.crosstab(df[\"scale\"], df[\"day\"])\n",
        "\n",
        "# Perform chi-squared test\n",
        "chi2, pval, dof, expected = chi2_contingency(cross_tab)\n",
        "\n",
        "# Print the results\n",
        "print(\"chi-squared statistic:\", chi2)\n",
        "print(\"p-value:\", pval)\n",
        "print(\"degrees of freedom:\", dof)\n",
        "print(\"expected frequencies:\\n\", expected)\n",
        "\n",
        "# Plotting countplot\n",
        "plt.figure(figsize=(12, 6))\n",
        "sns.countplot(data=df, x=\"day\", hue=\"scale\")\n",
        "plt.title(\"Count of 'scale' grouped by 'day'\")\n",
        "plt.xlabel(\"Day\")\n",
        "plt.ylabel(\"Count\")\n",
        "plt.legend(title=\"Scale\")\n",
        "plt.xticks(rotation=45)\n",
        "plt.show()"
      ]
    },
    {
      "cell_type": "markdown",
      "id": "71dacc76",
      "metadata": {
        "id": "71dacc76"
      },
      "source": [
        "- 카이제곱 통계량 117.16\n",
        "- P-value :2.974627637034171e-22\n",
        "- 자유도 : 7\n",
        "- 귀무가설 : 날짜와 뷸량율은 관계가 없다\n",
        "- 대립가설 : 날짜와 기준국과 뷸량율은 관계가 있다\n",
        "- 검정결과 P-value는 0에 수렴하므로 귀무가설을 기각할 수 있고 따라서 날짜와 불량율은 관련이 있다."
      ]
    },
    {
      "cell_type": "markdown",
      "id": "bff4631c",
      "metadata": {
        "id": "bff4631c"
      },
      "source": [
        "# 후판 지시 두께(mm)"
      ]
    },
    {
      "cell_type": "code",
      "execution_count": null,
      "id": "4d5d6d7f",
      "metadata": {
        "id": "4d5d6d7f"
      },
      "outputs": [],
      "source": [
        "f, ax = plt.subplots(figsize = (20,15))\n",
        "sns.countplot(x=\"pt_thick\", data=df, hue=\"scale\")\n",
        "for p in ax.patches:\n",
        "    height = p.get_height()\n",
        "    ax.text(p.get_x() + p.get_width() / 2., height + 1, height, ha = 'center', size = 8, )\n",
        "\n",
        "fig = plt.gcf()\n",
        "fig.set_size_inches(13,8) # 그래프 사이즈 조절\n",
        "ax.set_xticklabels(ax.get_xticklabels(),rotation = 90)\n",
        "plt.legend(loc=\"upper right\")\n",
        "plt.show()"
      ]
    },
    {
      "cell_type": "code",
      "execution_count": null,
      "id": "c8dd3495",
      "metadata": {
        "id": "c8dd3495"
      },
      "outputs": [],
      "source": [
        "# 독립 변수와 종속 변수를 지정합니다.\n",
        "x = df[\"pt_thick\"] #연속형\n",
        "y = df[\"scale\"] #범주형\n",
        "\n",
        "# scale 변수를 숫자로 변환 (양품=1, 불량품=0)\n",
        "y = y.apply(lambda x: 1 if x == '양품' else 0)\n",
        "\n",
        "# 독립 변수에 상수 추가\n",
        "x = sm.add_constant(x)\n",
        "\n",
        "# 데이터 타입 확인 및 변환\n",
        "x = x.apply(pd.to_numeric, errors='coerce')\n",
        "y = pd.to_numeric(y, errors='coerce')\n",
        "\n",
        "# 로지스틱 회귀 모델을 학습합니다.\n",
        "model = sm.Logit(y, x).fit()\n",
        "\n",
        "# 모델의 성능을 확인합니다.\n",
        "print(model.summary())"
      ]
    },
    {
      "cell_type": "markdown",
      "id": "a2684f38",
      "metadata": {
        "id": "a2684f38"
      },
      "source": [
        "- 귀무가설 : pt_thick 변수는 scale 변수에 유의미한 영향을 미치지 않는다.\n",
        "- 대립가설 : pt_thick 변수는 scale 변수에 유의미한 영향을 미친다.\n",
        "- pt_thick의 p 값이 0.05보다 작기 때문에, 귀무가설을 기각할 수 있습니다.\n",
        "- 따라서 pt_thick 변수는 scale 변수에 유의미한 영향을 미친다고 할 수 있습니다."
      ]
    },
    {
      "cell_type": "markdown",
      "id": "c0db027d",
      "metadata": {
        "id": "c0db027d"
      },
      "source": [
        "# pt_width : 후판 지시폭 (mm)"
      ]
    },
    {
      "cell_type": "code",
      "execution_count": null,
      "id": "098fdb95",
      "metadata": {
        "scrolled": true,
        "id": "098fdb95"
      },
      "outputs": [],
      "source": [
        "f, ax = plt.subplots(figsize = (20,10))\n",
        "sns.countplot(x= \"pt_width\", data=df, hue=\"scale\")\n",
        "for p in ax.patches:\n",
        "    height = p.get_height()\n",
        "    ax.text(p.get_x() + p.get_width() / 2., height + 1, height, ha = 'center', size = 8, )\n",
        "\n",
        "fig = plt.gcf()\n",
        "fig.set_size_inches(13,8) # 그래프 사이즈 조절\n",
        "ax.set_xticklabels(ax.get_xticklabels(),rotation = 90)\n",
        "plt.show()"
      ]
    },
    {
      "cell_type": "markdown",
      "id": "b2c534f9",
      "metadata": {
        "id": "b2c534f9"
      },
      "source": [
        "- 후판 지시폭이 증가할수록 불량률은 감소하는 경향을 보인다"
      ]
    },
    {
      "cell_type": "code",
      "execution_count": null,
      "id": "417cb04a",
      "metadata": {
        "id": "417cb04a"
      },
      "outputs": [],
      "source": [
        "# 독립 변수와 종속 변수를 지정합니다.\n",
        "x = df[\"pt_width\"] #연속\n",
        "y = df[\"scale\"] #범주\n",
        "\n",
        "# scale 변수를 숫자로 변환 (양품=1, 불량품=0)\n",
        "y = y.apply(lambda x: 1 if x == '양품' else 0)\n",
        "\n",
        "# 독립 변수에 상수 추가\n",
        "x = sm.add_constant(x)\n",
        "\n",
        "# 데이터 타입 확인 및 변환\n",
        "x = x.apply(pd.to_numeric, errors='coerce')\n",
        "y = pd.to_numeric(y, errors='coerce')\n",
        "\n",
        "# 로지스틱 회귀 모델을 학습합니다.\n",
        "model = sm.Logit(y, x).fit()\n",
        "\n",
        "# 모델의 성능을 확인합니다.\n",
        "print(model.summary())"
      ]
    },
    {
      "cell_type": "markdown",
      "id": "c2791fc3",
      "metadata": {
        "id": "c2791fc3"
      },
      "source": [
        "- 귀무가설 : pt_width 변수는 scale 변수에 유의미한 영향을 미치지 않는다.\n",
        "- 대립가설 : pt_width 변수는 scale 변수에 유의미한 영향을 미친다.\n",
        "- pt_width의 p 값이 0.05보다 작기 때문에, 귀무가설을 기각할 수 있습니다.\n",
        "- 따라서 pt_width 변수는 scale 변수에 유의미한 영향을 미친다고 할 수 있습니다.\n"
      ]
    },
    {
      "cell_type": "markdown",
      "id": "d4347fd6",
      "metadata": {
        "id": "d4347fd6"
      },
      "source": [
        "# pt_length : 후판 지시길이 (mm)"
      ]
    },
    {
      "cell_type": "code",
      "execution_count": null,
      "id": "7578f807",
      "metadata": {
        "id": "7578f807"
      },
      "outputs": [],
      "source": [
        "sns.violinplot(x=\"scale\", y=\"pt_length\", data=df)\n"
      ]
    },
    {
      "cell_type": "markdown",
      "id": "f0356706",
      "metadata": {
        "id": "f0356706"
      },
      "source": [
        "- 후판의 길이가 40000mm 근처 일 때 불량품이 제일 많았다"
      ]
    },
    {
      "cell_type": "code",
      "execution_count": null,
      "id": "4c7633fb",
      "metadata": {
        "id": "4c7633fb"
      },
      "outputs": [],
      "source": [
        "# 독립 변수와 종속 변수를 지정합니다.\n",
        "x = df[\"pt_length\"] #연속\n",
        "y = df[\"scale\"] #범주\n",
        "\n",
        "# scale 변수를 숫자로 변환 (양품=1, 불량품=0)\n",
        "y = y.apply(lambda x: 1 if x == '양품' else 0)\n",
        "\n",
        "# 독립 변수에 상수 추가\n",
        "x = sm.add_constant(x)\n",
        "\n",
        "# 데이터 타입 확인 및 변환\n",
        "x = x.apply(pd.to_numeric, errors='coerce')\n",
        "y = pd.to_numeric(y, errors='coerce')\n",
        "\n",
        "# 로지스틱 회귀 모델을 학습합니다.\n",
        "model = sm.Logit(y, x).fit()\n",
        "\n",
        "# 모델의 성능을 확인합니다.\n",
        "print(model.summary())"
      ]
    },
    {
      "cell_type": "markdown",
      "id": "3d85901a",
      "metadata": {
        "id": "3d85901a"
      },
      "source": [
        "- 귀무가설 : pt_length 변수는 scale 변수에 유의미한 영향을 미치지 않는다.\n",
        "- 대립가설 : pt_length 변수는 scale 변수에 유의미한 영향을 미친다.\n",
        "- pt_length의 p 값이 0.05보다 크기 때문에, 귀무가설을 기각할 수 없습니다.\n",
        "- 따라서 pt_length 변수는 scale 변수에 유의미한 영향을 미친다고 할 수 없습니다."
      ]
    },
    {
      "cell_type": "markdown",
      "id": "85ae5872",
      "metadata": {
        "id": "85ae5872"
      },
      "source": [
        "- hsb : Hot Scale Breaker / 강판의 표면 스케일을 제거하기 위한 장비"
      ]
    },
    {
      "cell_type": "code",
      "execution_count": null,
      "id": "f501d4c4",
      "metadata": {
        "scrolled": true,
        "id": "f501d4c4"
      },
      "outputs": [],
      "source": [
        "f, ax = plt.subplots(figsize = (20,10))\n",
        "sns.countplot(x=\"hsb\", data=df , hue=\"scale\")\n",
        "for p in ax.patches:\n",
        "    height = p.get_height()\n",
        "    ax.text(p.get_x() + p.get_width() / 2., height + 1, height, ha = 'center', size = 10, )\n",
        "\n",
        "fig = plt.gcf()\n",
        "fig.set_size_inches(13,8) # 그래프 사이즈 조절\n",
        "ax.set_xticklabels(ax.get_xticklabels(),rotation = 90)\n",
        "plt.show()"
      ]
    },
    {
      "cell_type": "code",
      "execution_count": null,
      "id": "ba85c473",
      "metadata": {
        "id": "ba85c473"
      },
      "outputs": [],
      "source": [
        "## 범주 범주\n",
        "\n",
        "cross_tab = pd.crosstab(df[\"scale\"], df[\"hsb\"])\n",
        "\n",
        "# 카이제곱 검정 실행\n",
        "chi2, pval, dof, expected = chi2_contingency(cross_tab)\n",
        "\n",
        "# 결과 출력\n",
        "print(\"chi-squared statistic:\", chi2)\n",
        "print(\"p-value:\", pval)\n",
        "print(\"degrees of freedom:\", dof)\n",
        "print(\"expected frequencies:\\n\", expected)"
      ]
    },
    {
      "cell_type": "markdown",
      "id": "8158dc00",
      "metadata": {
        "id": "8158dc00"
      },
      "source": [
        "- 귀무가설 : HSB여부에 따라 Scale에 영향을 미치지 않는다.\n",
        "- 대립가설 : HSB여부에 따라 Scale에 영향을 미친다.\n",
        "- 카이제곱 검정의 p 값이 0.05보다 작기 때문에, 귀무가설을 기각할 수 있습니다.\n",
        "- 따라서 HSB여부는 Scale에 유의미한 영향을 미친다고 할 수 있습니다."
      ]
    },
    {
      "cell_type": "markdown",
      "id": "72c3f808",
      "metadata": {
        "id": "72c3f808"
      },
      "source": []
    },
    {
      "cell_type": "markdown",
      "id": "8ba8e99f",
      "metadata": {
        "id": "8ba8e99f"
      },
      "source": [
        "#### fur no"
      ]
    },
    {
      "cell_type": "code",
      "execution_count": null,
      "id": "b0ef5326",
      "metadata": {
        "id": "b0ef5326"
      },
      "outputs": [],
      "source": [
        "# fur_no(용광로 번호) 고유값 개수 출력\n",
        "df[\"fur_no\"].value_counts()"
      ]
    },
    {
      "cell_type": "code",
      "execution_count": null,
      "id": "4d35e1df",
      "metadata": {
        "id": "4d35e1df"
      },
      "outputs": [],
      "source": [
        "# 가열로 호기(1~3호기)설명변수와 scale 목표변수 간의 관계 시각화\n",
        "plt.figure(figsize=(10, 7))\n",
        "sns.countplot(data=df, x='fur_no', hue='scale')\n",
        "plt.show()"
      ]
    },
    {
      "cell_type": "markdown",
      "id": "eac6cb80",
      "metadata": {
        "id": "eac6cb80"
      },
      "source": [
        "불량품은 가열로 호기(1~3호기)와 관계없이 비슷한 빈도로 나타난다."
      ]
    },
    {
      "cell_type": "code",
      "execution_count": null,
      "id": "21ba1fd3",
      "metadata": {
        "id": "21ba1fd3"
      },
      "outputs": [],
      "source": [
        "###### from scipy.stats import chi2_contingency <- 이거 위에 임포트 해주셔야해용\n",
        "\n",
        "# 가열로 호기별 scale 발생 빈도 카이제곱 검정 실행\n",
        "cross_tab = pd.crosstab(df[\"scale\"], df[\"fur_no\"])\n",
        "\n",
        "# 카이제곱 검정 실행\n",
        "chi2, pval, dof, expected = chi2_contingency(cross_tab)\n",
        "\n",
        "# 결과 출력\n",
        "print(\"chi-squared statistic:\", chi2)\n",
        "print(\"p-value:\", pval)\n",
        "print(\"degrees of freedom:\", dof)\n",
        "print(\"expected frequencies:\\n\", expected)"
      ]
    },
    {
      "cell_type": "markdown",
      "id": "6fc46433",
      "metadata": {
        "id": "6fc46433"
      },
      "source": [
        "- 카이제곱 통계량: 2.67\n",
        "- p-value: 0.263\n",
        "- 자유도: 2\n",
        "\n",
        "- 귀무가설 : 가열로 호기와 scale 발생 빈도 간에는 상관 관계가 없다.\n",
        "- 대립가설 : 가열로 호기와 scale 발생 빈도 간에는 상관 관계가 있다.\n",
        "\n",
        "결론 : p-값이 0.263이 유의수준 a = 0.05보다 크므로 귀무가설을 기각할 수 없다."
      ]
    },
    {
      "cell_type": "markdown",
      "id": "02dffe5e",
      "metadata": {
        "id": "02dffe5e"
      },
      "source": [
        "#### fur input row"
      ]
    },
    {
      "cell_type": "code",
      "execution_count": null,
      "id": "cada4fa8",
      "metadata": {
        "scrolled": true,
        "id": "cada4fa8"
      },
      "outputs": [],
      "source": [
        "# fur_input_row(가열로 장입열) 고유값 개수 출력\n",
        "df[\"fur_input_row\"].value_counts()"
      ]
    },
    {
      "cell_type": "code",
      "execution_count": null,
      "id": "d21af744",
      "metadata": {
        "scrolled": true,
        "id": "d21af744"
      },
      "outputs": [],
      "source": [
        "# 가열로 장입열(1,2열) 설명변수와 scale 목표변수 간의 관계 시각화\n",
        "plt.figure(figsize=(10, 7))\n",
        "sns.countplot(data=df, x='fur_input_row', hue='scale')\n",
        "plt.show()"
      ]
    },
    {
      "cell_type": "markdown",
      "id": "06d99d3f",
      "metadata": {
        "id": "06d99d3f"
      },
      "source": [
        "불량품은 가열로 장입열(1,2열)과 관계없이 비슷한 빈도로 나타난다."
      ]
    },
    {
      "cell_type": "code",
      "execution_count": null,
      "id": "ad34d83f",
      "metadata": {
        "id": "ad34d83f"
      },
      "outputs": [],
      "source": [
        "# 가열로 장입열별 scale 발생 빈도 카이제곱 검정 실행\n",
        "cross_tab = pd.crosstab(df[\"scale\"], df[\"fur_input_row\"])\n",
        "\n",
        "# 카이제곱 검정 실행\n",
        "chi2, pval, dof, expected = chi2_contingency(cross_tab)\n",
        "\n",
        "# 결과 출력\n",
        "print(\"chi-squared statistic:\", chi2)\n",
        "print(\"p-value:\", pval)\n",
        "print(\"degrees of freedom:\", dof)\n",
        "print(\"expected frequencies:\\n\", expected)"
      ]
    },
    {
      "cell_type": "markdown",
      "id": "edacac18",
      "metadata": {
        "id": "edacac18"
      },
      "source": [
        "- 카이제곱 통계량: 0.928\n",
        "- p-value: 0.335\n",
        "- 자유도: 1\n",
        "- 귀무가설 : 가열로 장입열과 scale 발생 빈도 간에는 상관 관계가 없다.\n",
        "- 대립가설 : 가열로 장입열과 scale 발생 빈도 간에는 상관 관계가 있다.\n",
        "\n",
        "결론 : p-값이 0.335는 유의수준 a = 0.05보다 크므로 귀무가설을 기각할 수 없다."
      ]
    },
    {
      "cell_type": "markdown",
      "id": "40b7e983",
      "metadata": {
        "id": "40b7e983"
      },
      "source": [
        "#### fur total time"
      ]
    },
    {
      "cell_type": "code",
      "execution_count": null,
      "id": "ca0a2162",
      "metadata": {
        "id": "ca0a2162"
      },
      "outputs": [],
      "source": [
        "#fur_total_time(가열로 총 재로시간(분))  고유값 개수 출력\n",
        "df[\"fur_total_time\"].value_counts()"
      ]
    },
    {
      "cell_type": "code",
      "execution_count": null,
      "id": "862be503",
      "metadata": {
        "scrolled": true,
        "id": "862be503"
      },
      "outputs": [],
      "source": [
        "#fur_total_time(가열로 총 재로시간(분)) 설명변수와 scale 목표변수 간의 관계 시각화\n",
        "plt.figure(figsize=(10, 8))\n",
        "sns.histplot(df, x='fur_total_time', hue='scale', multiple='stack', kde=True)"
      ]
    },
    {
      "cell_type": "markdown",
      "id": "8d503253",
      "metadata": {
        "id": "8d503253"
      },
      "source": [
        "양품과 불량품이 모두 정규분포와 유사한 형태를 보인다. 그리고 양품이 상대적으로 더 높은 빈도로 보이는 구간이 많다. 그래프 상으로는 fur_total_time과 scale 간에 약간의 관계가 있는 것으로 보인다."
      ]
    },
    {
      "cell_type": "code",
      "execution_count": null,
      "id": "1e64c8b9",
      "metadata": {
        "id": "1e64c8b9"
      },
      "outputs": [],
      "source": [
        "# 로지스틱 회귀분석\n",
        "\n",
        "\n",
        "# 독립 변수와 종속 변수를 지정합니다.\n",
        "x = df[\"fur_total_time\"] #연속형\n",
        "y = df[\"scale\"] #범주형\n",
        "\n",
        "# scale 변수를 숫자로 변환 (양품=1, 불량품=0)\n",
        "y = y.apply(lambda x: 1 if x == '양품' else 0)\n",
        "\n",
        "# 독립 변수에 상수 추가\n",
        "x = sm.add_constant(x)\n",
        "\n",
        "# 데이터 타입 확인 및 변환\n",
        "x = x.apply(pd.to_numeric, errors='coerce')\n",
        "y = pd.to_numeric(y, errors='coerce')\n",
        "\n",
        "# 로지스틱 회귀 모델을 학습합니다.\n",
        "model = sm.Logit(y, x).fit()\n",
        "\n",
        "# 모델의 성능을 확인합니다.\n",
        "print(model.summary())"
      ]
    },
    {
      "cell_type": "markdown",
      "id": "871b233e",
      "metadata": {
        "id": "871b233e"
      },
      "source": [
        "fur_total_time(가열로 총 재로시간)은 scale (양품/불량)에 유의미한 영향을 미치며, fur_total_time이 증가할수록 양품이 될 확률이 증가한다. 그러나 모델의 Pseudo R-squared 값이 매우 낮아, fur_total_time만으로 scale의 변동을 충분히 설명하지 못하고 있다. 따라서, scale에 영향을 미치는 추가적인 변수들을 고려하여 모델을 개선할 필요가 있습니다. 예를 들어, 다른 제조 공정 변수들을 포함하거나, 데이터의 불균형 문제를 해결할 수 있는 방법을 모색해야 합니다."
      ]
    },
    {
      "cell_type": "markdown",
      "id": "bd80f855",
      "metadata": {
        "id": "bd80f855"
      },
      "source": [
        "#### rolling method"
      ]
    },
    {
      "cell_type": "code",
      "execution_count": null,
      "id": "e94cc930",
      "metadata": {
        "id": "e94cc930"
      },
      "outputs": [],
      "source": [
        "# rolling_method(압연방법) 고유값 개수 출력\n",
        "df[\"rolling_method\"].value_counts()"
      ]
    },
    {
      "cell_type": "code",
      "execution_count": null,
      "id": "37b4444a",
      "metadata": {
        "id": "37b4444a"
      },
      "outputs": [],
      "source": [
        "# rolling_method(압연방법) 설명변수와 scale 목표변수 간의 관계 시각화\n",
        "plt.figure(figsize=(10, 7))\n",
        "sns.countplot(data=df, x='rolling_method', hue='scale')\n",
        "plt.show()"
      ]
    },
    {
      "cell_type": "markdown",
      "id": "4ea6397e",
      "metadata": {
        "id": "4ea6397e"
      },
      "source": [
        "TMC(온도제어) 방법이 양품 비율이 매우 높고, 불량 비율이 매우 낮다. CR(재어압연) 방법은 불량 비율이 비교적 높다."
      ]
    },
    {
      "cell_type": "code",
      "execution_count": null,
      "id": "0f266b72",
      "metadata": {
        "id": "0f266b72"
      },
      "outputs": [],
      "source": [
        "# rolling_method(압연방법)별 scale 발생 빈도 카이제곱 검정 실행\n",
        "cross_tab = pd.crosstab(df[\"scale\"], df[\"rolling_method\"])\n",
        "\n",
        "# 카이제곱 검정 실행\n",
        "chi2, pval, dof, expected = chi2_contingency(cross_tab)\n",
        "\n",
        "# 결과 출력\n",
        "print(\"chi-squared statistic:\", chi2)\n",
        "print(\"p-value:\", pval)\n",
        "print(\"degrees of freedom:\", dof)\n",
        "print(\"expected frequencies:\\n\", expected)"
      ]
    },
    {
      "cell_type": "markdown",
      "id": "517c6c70",
      "metadata": {
        "id": "517c6c70"
      },
      "source": [
        "- 카이제곱 통계량: 44.90581731932742\n",
        "- p-value: 2.0674276747735735e-11\n",
        "- 자유도: 1\n",
        "\n",
        "- 귀무가설 : 압연 방법과 scale 발생 사이에 연관성이 없다.\n",
        "- 대립가설 : 압연 방법과 scale 발생 사이에 연관성이 있다.\n",
        "\n",
        "- 결론 : p-값이 유의수준 a = 0.05보다 매우 작으므로 귀무가설을 기각할 수 있다.\n",
        "- 따라서 압연 방법과 scale 발생 사이에 연관성이 있다고 할 수 있다."
      ]
    },
    {
      "cell_type": "markdown",
      "id": "bdce6899",
      "metadata": {
        "id": "bdce6899"
      },
      "source": [
        "#### fur heat temp"
      ]
    },
    {
      "cell_type": "code",
      "execution_count": null,
      "id": "996e2996",
      "metadata": {
        "id": "996e2996"
      },
      "outputs": [],
      "source": [
        "sns.histplot(df[df[\"scale\"]==\"양품\"][\"fur_heat_temp\"],bins=50, color=\"blue\")\n",
        "sns.histplot(df[df[\"scale\"]==\"불량\"][\"fur_heat_temp\"],bins=50, color=\"red\")"
      ]
    },
    {
      "cell_type": "code",
      "execution_count": null,
      "id": "e2f6fc0a",
      "metadata": {
        "id": "e2f6fc0a"
      },
      "outputs": [],
      "source": [
        "## 로지스틱 회귀분석\n",
        "\n",
        "import statsmodels.api as sm\n",
        "\n",
        "# 독립 변수와 종속 변수를 지정합니다.\n",
        "x = df[\"fur_heat_temp\"]\n",
        "y = df[\"scale\"]\n",
        "y = y.apply(lambda x: 1 if x == '양품' else 0)\n",
        "x = x.apply(pd.to_numeric, errors='coerce')\n",
        "y = pd.to_numeric(y, errors='coerce')\n",
        "# 로지스틱 회귀 모델을 학습합니다.\n",
        "model = sm.Logit(y, sm.add_constant(x)).fit()\n",
        "\n",
        "# 모델의 성능을 확인합니다.\n",
        "print(model.summary())\n",
        "\n"
      ]
    },
    {
      "cell_type": "markdown",
      "id": "1cb473f8",
      "metadata": {
        "id": "1cb473f8"
      },
      "source": [
        "귀무가설 : fur_heat_temp 값이 scale에 영향을 주지 않는다.\n",
        "대립가설 : fur_heat_temp 값이 scale에 영향을 준다.\n",
        "P-value가 0이므로 귀무가설을 기각할 수 있다.\n",
        "그러므로 fur_heat_temp 값이 scale에 영향을 준다고 할 수 있다."
      ]
    },
    {
      "cell_type": "markdown",
      "id": "46dcac06",
      "metadata": {
        "id": "46dcac06"
      },
      "source": [
        "#### fur heat time"
      ]
    },
    {
      "cell_type": "code",
      "execution_count": null,
      "id": "2a624c5d",
      "metadata": {
        "id": "2a624c5d"
      },
      "outputs": [],
      "source": [
        "sns.histplot(df[df[\"scale\"]==\"양품\"][\"fur_heat_time\"],bins=50, color=\"blue\")\n",
        "sns.histplot(df[df[\"scale\"]==\"불량\"][\"fur_heat_time\"],bins=50, color=\"red\")"
      ]
    },
    {
      "cell_type": "code",
      "execution_count": null,
      "id": "a0e634ae",
      "metadata": {
        "id": "a0e634ae"
      },
      "outputs": [],
      "source": [
        "## 로지스틱 회귀분석\n",
        "\n",
        "import statsmodels.api as sm\n",
        "\n",
        "# 독립 변수와 종속 변수를 지정합니다.\n",
        "X = df[\"fur_heat_time\"]\n",
        "y = df[\"scale\"]\n",
        "y = y.apply(lambda x: 1 if x == '양품' else 0)\n",
        "x = x.apply(pd.to_numeric, errors='coerce')\n",
        "y = pd.to_numeric(y, errors='coerce')\n",
        "# 로지스틱 회귀 모델을 학습합니다.\n",
        "model = sm.Logit(y, sm.add_constant(X)).fit()\n",
        "\n",
        "# 모델의 성능을 확인합니다.\n",
        "print(model.summary())\n"
      ]
    },
    {
      "cell_type": "markdown",
      "id": "9e680c60",
      "metadata": {
        "id": "9e680c60"
      },
      "source": [
        "귀무가설 : fur_heat_time 값이 scale에 영향을 주지 않는다.\n",
        "대립가설 : fur_heat_time 값이 scale에 영향을 준다.\n",
        "P-value가 0.264이므로 귀무가설을 기각할 수 없다.\n",
        "그러므로 fur_heat_time 없이 scale에 영향을 주지 않는다."
      ]
    },
    {
      "cell_type": "markdown",
      "id": "920abe21",
      "metadata": {
        "id": "920abe21"
      },
      "source": [
        "#### fur soak temp"
      ]
    },
    {
      "cell_type": "code",
      "execution_count": null,
      "id": "0a9c7683",
      "metadata": {
        "id": "0a9c7683"
      },
      "outputs": [],
      "source": [
        "sns.histplot(df[df[\"scale\"]==0][\"fur_soak_temp\"],bins=50, color=\"blue\")\n",
        "sns.histplot(df[df[\"scale\"]==1][\"fur_soak_temp\"],bins=50, color=\"red\")"
      ]
    },
    {
      "cell_type": "code",
      "execution_count": null,
      "id": "3c7731c3",
      "metadata": {
        "id": "3c7731c3"
      },
      "outputs": [],
      "source": [
        "## 로지스틱 회귀분석\n",
        "\n",
        "import statsmodels.api as sm\n",
        "\n",
        "# 독립 변수와 종속 변수를 지정합니다.\n",
        "X = df[\"fur_soak_temp\"]\n",
        "y = df[\"scale\"]\n",
        "y = y.apply(lambda x: 1 if x == '양품' else 0)\n",
        "x = x.apply(pd.to_numeric, errors='coerce')\n",
        "y = pd.to_numeric(y, errors='coerce')\n",
        "# 로지스틱 회귀 모델을 학습합니다.\n",
        "model = sm.Logit(y, sm.add_constant(X)).fit()\n",
        "\n",
        "# 모델의 성능을 확인합니다.\n",
        "print(model.summary())\n"
      ]
    },
    {
      "cell_type": "raw",
      "id": "1921060a",
      "metadata": {
        "id": "1921060a"
      },
      "source": [
        "귀무가설 : fur_soak_temp 값이 scale에 영향을 주지 않는다.\n",
        "대립가설 : fur_soak_temp 값이 scale에 영향을 준다.\n",
        "P-value가 0이므로 귀무가설을 기각할 수 있다.\n",
        "그러므로 fur_soak_temp 값이 scale에 영향을 준다고 할 수 있다."
      ]
    },
    {
      "cell_type": "markdown",
      "id": "dd1b8cd0",
      "metadata": {
        "id": "dd1b8cd0"
      },
      "source": [
        "#### fur soak time"
      ]
    },
    {
      "cell_type": "code",
      "execution_count": null,
      "id": "d300c3b7",
      "metadata": {
        "scrolled": true,
        "id": "d300c3b7"
      },
      "outputs": [],
      "source": [
        "sns.histplot(df[df[\"scale\"]==\"양품\"][\"fur_soak_time\"],bins=50, color=\"blue\")\n",
        "sns.histplot(df[df[\"scale\"]==\"불량\"][\"fur_soak_time\"],bins=50, color=\"red\")"
      ]
    },
    {
      "cell_type": "code",
      "execution_count": null,
      "id": "15efa5cc",
      "metadata": {
        "id": "15efa5cc"
      },
      "outputs": [],
      "source": [
        "## 로지스틱 회귀분석\n",
        "\n",
        "import statsmodels.api as sm\n",
        "\n",
        "# 독립 변수와 종속 변수를 지정합니다.\n",
        "X = df[\"fur_soak_time\"]\n",
        "y = df[\"scale\"]\n",
        "y = y.apply(lambda x: 1 if x == '양품' else 0)\n",
        "x = x.apply(pd.to_numeric, errors='coerce')\n",
        "y = pd.to_numeric(y, errors='coerce')\n",
        "# 로지스틱 회귀 모델을 학습합니다.\n",
        "model = sm.Logit(y, sm.add_constant(X)).fit()\n",
        "\n",
        "# 모델의 성능을 확인합니다.\n",
        "print(model.summary())\n"
      ]
    },
    {
      "cell_type": "raw",
      "id": "0adf6ad1",
      "metadata": {
        "id": "0adf6ad1"
      },
      "source": [
        "귀무가설 : fur_soak_time 값이 scale에 영향을 주지 않는다.\n",
        "대립가설 : fur_soak_time 값이 scale에 영향을 준다.\n",
        "P-value가 0이므로 귀무가설을 기각할 수 있다.\n",
        "그러므로 fur_soak_time 값이 scale에 영향을 준다고 할 수 있다."
      ]
    },
    {
      "cell_type": "markdown",
      "id": "1f31770d",
      "metadata": {
        "id": "1f31770d"
      },
      "source": [
        "#### rolling_temp : 압연온도"
      ]
    },
    {
      "cell_type": "code",
      "execution_count": null,
      "id": "70c3f48c",
      "metadata": {
        "id": "70c3f48c"
      },
      "outputs": [],
      "source": [
        "a = pd.DataFrame(df[\"rolling_temp\"].value_counts())\n",
        "a.head()"
      ]
    },
    {
      "cell_type": "code",
      "execution_count": null,
      "id": "0b263c1f",
      "metadata": {
        "id": "0b263c1f"
      },
      "outputs": [],
      "source": [
        "f, ax = plt.subplots(figsize = (20,10))\n",
        "sns.violinplot(y=\"rolling_temp\", data=df, hue=\"scale\")\n",
        "for p in ax.patches:\n",
        "    height = p.get_height()\n",
        "    ax.text(p.get_x() + p.get_width() / 2., height + 1, height, ha = 'center', size = 8, )\n",
        "\n",
        "fig = plt.gcf()\n",
        "fig.set_size_inches(13,8) # 그래프 사이즈 조절\n",
        "ax.set_xticklabels(ax.get_xticklabels(),rotation = 90)\n",
        "plt.show()"
      ]
    },
    {
      "cell_type": "code",
      "execution_count": null,
      "id": "4e7587c2",
      "metadata": {
        "scrolled": true,
        "id": "4e7587c2"
      },
      "outputs": [],
      "source": [
        "## 로지스틱 회귀분석\n",
        "# 독립 변수와 종속 변수를 지정합니다.\n",
        "x = df[\"rolling_temp\"]\n",
        "y = df[\"scale\"]\n",
        "y = y.apply(lambda x: 1 if x == '양품' else 0)\n",
        "# 로지스틱 회귀 모델을 학습합니다.\n",
        "model = sm.Logit(y, sm.add_constant(x)).fit()\n",
        "\n",
        "# 모델의 성능을 확인합니다.\n",
        "print(model.summary())"
      ]
    },
    {
      "cell_type": "raw",
      "id": "5ace92c1",
      "metadata": {
        "id": "5ace92c1"
      },
      "source": [
        "귀무가설 : rolling_temp 값이 scale에 영향을 주지 않는다.\n",
        "대립가설 : rolling_temp 값이 scale에 영향을 준다.\n",
        "P-value가 0이므로 귀무가설을 기각할 수 있다.\n",
        "그러므로 rolling_temp 값이 scale에 영향을 준다고 할 수 있다."
      ]
    },
    {
      "cell_type": "markdown",
      "id": "1af18bb4",
      "metadata": {
        "id": "1af18bb4"
      },
      "source": [
        "#### descaling_count: 압연 descaling 횟수"
      ]
    },
    {
      "cell_type": "code",
      "execution_count": null,
      "id": "15dfa23c",
      "metadata": {
        "id": "15dfa23c"
      },
      "outputs": [],
      "source": [
        "a = pd.DataFrame(df[\"descaling_count\"].value_counts())\n",
        "a.head()"
      ]
    },
    {
      "cell_type": "code",
      "execution_count": null,
      "id": "b87d3811",
      "metadata": {
        "scrolled": false,
        "id": "b87d3811"
      },
      "outputs": [],
      "source": [
        "f, ax = plt.subplots(figsize = (20,10))\n",
        "sns.countplot(x=\"descaling_count\", data=df, hue=\"scale\")\n",
        "for p in ax.patches:\n",
        "    height = p.get_height()\n",
        "    ax.text(p.get_x() + p.get_width() / 2., height + 1, height, ha = 'center', size = 8, )\n",
        "\n",
        "fig = plt.gcf()\n",
        "fig.set_size_inches(13,8) # 그래프 사이즈 조절\n",
        "ax.set_xticklabels(ax.get_xticklabels(),rotation = 90)\n",
        "plt.show()"
      ]
    },
    {
      "cell_type": "raw",
      "id": "40d76488",
      "metadata": {
        "id": "40d76488"
      },
      "source": [
        "- scale = 0 양품\n",
        "- scale = 1 불량\n",
        "\n",
        "- 5,7,9번 descaling 한 경우 불량률 100%이다\n",
        "- 6번 할 경우 양품 확률 높음a\n",
        "- 8번의 경우: 양품과 불량이 비슷한 정도로 발생\n",
        "- 10번의 경우: 양품 확률 높음"
      ]
    },
    {
      "cell_type": "code",
      "execution_count": null,
      "id": "06bea892",
      "metadata": {
        "scrolled": true,
        "id": "06bea892"
      },
      "outputs": [],
      "source": [
        "cross_tab = pd.crosstab(df[\"scale\"], df[\"descaling_count\"])\n",
        "\n",
        "# 카이제곱 검정 실행\n",
        "chi2, pval, dof, expected = chi2_contingency(cross_tab)\n",
        "\n",
        "# 결과 출력\n",
        "print(\"chi-squared statistic:\", chi2)\n",
        "print(\"p-value:\", pval)\n",
        "print(\"degrees of freedom:\", dof)\n",
        "print(\"expected frequencies:\\n\", expected)\n"
      ]
    },
    {
      "cell_type": "raw",
      "id": "f3adeb6a",
      "metadata": {
        "id": "f3adeb6a"
      },
      "source": [
        "결과\n",
        "귀무가설(H0): 'scale' 변수와 'descaling_count' 변수 독립이다\n",
        "대립가설(H1): 'scale' 변수와 'descaling_count' 변수는 독립적이지 않다.\n",
        "\n",
        "모델의 p-value가 0에 수렴하므로 귀무가설을 기각할 수 있다.\n",
        "따라서 'descaling_count'변수는 scale변수에 영향을 미친다고 할 수 있다."
      ]
    },
    {
      "cell_type": "markdown",
      "id": "4d4aa107",
      "metadata": {
        "id": "4d4aa107"
      },
      "source": [
        "#### fur_combined: 가열로 호기 + 장입열"
      ]
    },
    {
      "cell_type": "code",
      "execution_count": null,
      "id": "90875774",
      "metadata": {
        "id": "90875774"
      },
      "outputs": [],
      "source": [
        "a = pd.DataFrame(df[\"fur_combined\"].value_counts())\n",
        "a.head()"
      ]
    },
    {
      "cell_type": "code",
      "execution_count": null,
      "id": "1f2273c1",
      "metadata": {
        "id": "1f2273c1"
      },
      "outputs": [],
      "source": [
        "f, ax = plt.subplots(figsize = (20,10))\n",
        "sns.countplot(x =\"fur_combined\", data=df, hue=\"scale\")\n",
        "for p in ax.patches:\n",
        "    height = p.get_height()\n",
        "    ax.text(p.get_x() + p.get_width() / 2., height + 1, height, ha = 'center', size = 8, )\n",
        "\n",
        "fig = plt.gcf()\n",
        "fig.set_size_inches(13,8) # 그래프 사이즈 조절\n",
        "ax.set_xticklabels(ax.get_xticklabels(),rotation = 90)\n",
        "plt.show()"
      ]
    },
    {
      "cell_type": "code",
      "execution_count": null,
      "id": "bc27a686",
      "metadata": {
        "id": "bc27a686"
      },
      "outputs": [],
      "source": [
        "## 범주 범주\n",
        "\n",
        "cross_tab = pd.crosstab(df_raw[\"scale\"], df_raw[\"fur_combined\"])\n",
        "\n",
        "# 카이제곱 검정 실행\n",
        "chi2, pval, dof, expected = chi2_contingency(cross_tab)\n",
        "\n",
        "# 결과 출력\n",
        "print(\"chi-squared statistic:\", chi2)\n",
        "print(\"p-value:\", pval)\n",
        "print(\"degrees of freedom:\", dof)\n",
        "print(\"expected frequencies:\\n\", expected)"
      ]
    },
    {
      "cell_type": "markdown",
      "id": "52a0ef20",
      "metadata": {
        "id": "52a0ef20"
      },
      "source": [
        "#### 결과요약\n",
        "- 카이제곱 통계량(관측데이터와 기대 데이터의 차이) : 7.156\n",
        "- p-value(유의 확률) : 0.2092\n",
        "- 자유도(분포 모양): 5\n",
        "- 기대빈도\n",
        "\n",
        "#### 결론\n",
        "- 귀무가설(H0): 'scale' 변수와 'fur_combined' 변수 독립이다\n",
        "- 대립가설(H1): 'scale' 변수와 'fur_combined' 변수는 독립적이지 않다.\n",
        "#### p-value(0.2198)가 0.05보다 크기 때문에 귀무가설을 기각할 수 없다."
      ]
    },
    {
      "cell_type": "markdown",
      "id": "418fe072",
      "metadata": {
        "id": "418fe072"
      },
      "source": [
        "- work_group별 scale의 차이"
      ]
    },
    {
      "cell_type": "code",
      "execution_count": null,
      "id": "a6005ae5",
      "metadata": {
        "id": "a6005ae5"
      },
      "outputs": [],
      "source": [
        "f, ax = plt.subplots(figsize = (20,10))\n",
        "sns.countplot(x =\"work_group\", data=df, hue=\"scale\")\n",
        "for p in ax.patches:\n",
        "    height = p.get_height()\n",
        "    ax.text(p.get_x() + p.get_width() / 2., height + 1, height, ha = 'center', size = 8, )\n",
        "\n",
        "fig = plt.gcf()\n",
        "fig.set_size_inches(13,8) # 그래프 사이즈 조절\n",
        "ax.set_xticklabels(ax.get_xticklabels(),rotation = 90)\n",
        "plt.show()"
      ]
    },
    {
      "cell_type": "code",
      "execution_count": null,
      "id": "51410f3c",
      "metadata": {
        "scrolled": true,
        "id": "51410f3c"
      },
      "outputs": [],
      "source": [
        "## 범주 범주\n",
        "\n",
        "cross_tab = pd.crosstab(df_raw[\"scale\"], df_raw[\"work_group\"])\n",
        "\n",
        "# 카이제곱 검정 실행\n",
        "chi2, pval, dof, expected = chi2_contingency(cross_tab)\n",
        "\n",
        "# 결과 출력\n",
        "print(\"chi-squared statistic:\", chi2)\n",
        "print(\"p-value:\", pval)\n",
        "print(\"degrees of freedom:\", dof)\n",
        "print(\"expected frequencies:\\n\", expected)"
      ]
    },
    {
      "cell_type": "markdown",
      "id": "b7e885c6",
      "metadata": {
        "id": "b7e885c6"
      },
      "source": [
        "#### 결과요약\n",
        "- p-value(유의 확률) : 0.00286\n",
        "#### 결론\n",
        "- 귀무가설(H0): 'scale' 변수와 'work_group' 변수 독립이다\n",
        "- 대립가설(H1): 'scale' 변수와 'work_group' 변수는 독립적이지 않다.\n",
        "#### p-value(0.2198)가 0.05보다 크기 때문에 귀무가설을 기각할 수 없다.\n",
        "- 따라서 'scale' 변수와 'work_group'변수는 독립적이지 않다"
      ]
    },
    {
      "cell_type": "code",
      "execution_count": null,
      "id": "a1c50345",
      "metadata": {
        "id": "a1c50345"
      },
      "outputs": [],
      "source": [
        "del df[\"pt_length\"]\n",
        "del df[\"fur_no\"]\n",
        "del df[\"fur_input_row\"]\n",
        "del df[\"fur_heat_time\"]\n",
        "del df[\"fur_combined\"]\n",
        "del df[\"spec_long\"]\n",
        "#\"spec_long\"이 유의한 것으로 검정되었지만 \"spec_long\"의 앞 두글자가 \"spec_country\"와\n",
        "# 밀접하게 연관되어 있기 때문에 독립변수간의 상관도를 고려하여 삭제하였음"
      ]
    },
    {
      "cell_type": "code",
      "execution_count": null,
      "id": "b5c8d933",
      "metadata": {
        "id": "b5c8d933"
      },
      "outputs": [],
      "source": []
    },
    {
      "cell_type": "code",
      "execution_count": null,
      "id": "c04b8092",
      "metadata": {
        "id": "c04b8092"
      },
      "outputs": [],
      "source": [
        "df_y = df[[\"scale\"]]\n",
        "df_x = df.drop([\"scale\"],axis=1)\n",
        "print(\"Length of df_x:\", len(df_x))\n",
        "print(\"Length of df_y:\", len(df_y))"
      ]
    },
    {
      "cell_type": "code",
      "execution_count": null,
      "id": "8392a5d2",
      "metadata": {
        "id": "8392a5d2"
      },
      "outputs": [],
      "source": [
        "common_index = df_x.index.intersection(df_y.index)\n",
        "df_x = df_x.loc[common_index].reset_index(drop=True)\n",
        "df_y = df_y.loc[common_index].reset_index(drop=True)\n"
      ]
    },
    {
      "cell_type": "code",
      "execution_count": null,
      "id": "3c3f9c49",
      "metadata": {
        "id": "3c3f9c49"
      },
      "outputs": [],
      "source": [
        "df_y"
      ]
    },
    {
      "cell_type": "code",
      "execution_count": null,
      "id": "e45724d8",
      "metadata": {
        "id": "e45724d8"
      },
      "outputs": [],
      "source": [
        "df_x"
      ]
    },
    {
      "cell_type": "code",
      "execution_count": null,
      "id": "84d41dd8",
      "metadata": {
        "id": "84d41dd8"
      },
      "outputs": [],
      "source": [
        "x_cat = df[[\"spec_country\", \"steel_kind\",\"hsb\",\"rolling_method\"]]\n",
        "x_num = df[[\"pt_thick\", \"pt_width\", \"fur_heat_temp\", \"fur_soak_temp\", \"fur_soak_time\", \"fur_total_time\",\"rolling_temp\", \"descaling_count\",\"work_group\",\"day\",\"hour\"]]\n"
      ]
    },
    {
      "cell_type": "code",
      "execution_count": null,
      "id": "50014c66",
      "metadata": {
        "id": "50014c66"
      },
      "outputs": [],
      "source": [
        "x_cat = pd.get_dummies(x_cat).reset_index(drop=True)"
      ]
    },
    {
      "cell_type": "code",
      "execution_count": null,
      "id": "5ab98b08",
      "metadata": {
        "id": "5ab98b08"
      },
      "outputs": [],
      "source": [
        "scaler = StandardScaler()\n",
        "x_num_scaled = scaler.fit_transform(x_num)\n",
        "x_num_scaled_df = pd.DataFrame(x_num_scaled, columns=x_num.columns)"
      ]
    },
    {
      "cell_type": "code",
      "execution_count": null,
      "id": "32af0927",
      "metadata": {
        "id": "32af0927"
      },
      "outputs": [],
      "source": [
        "df_x = pd.DataFrame(pd.concat([x_num_scaled_df,x_cat],axis=1))\n"
      ]
    },
    {
      "cell_type": "code",
      "execution_count": null,
      "id": "8680f27b",
      "metadata": {
        "id": "8680f27b"
      },
      "outputs": [],
      "source": [
        "x_num_scaled_df"
      ]
    },
    {
      "cell_type": "code",
      "execution_count": null,
      "id": "1e03ba6a",
      "metadata": {
        "scrolled": false,
        "id": "1e03ba6a"
      },
      "outputs": [],
      "source": [
        "print(len(df_x))\n",
        "print(len(df_y))"
      ]
    },
    {
      "cell_type": "code",
      "execution_count": null,
      "id": "bd65cf8b",
      "metadata": {
        "id": "bd65cf8b"
      },
      "outputs": [],
      "source": [
        "train_x , test_x, train_y, test_y = train_test_split(df_x, df_y ,random_state=1234 , test_size=0.3)"
      ]
    },
    {
      "cell_type": "code",
      "execution_count": null,
      "id": "2081e4ec",
      "metadata": {
        "id": "2081e4ec"
      },
      "outputs": [],
      "source": [
        "df_x.isnull().sum()"
      ]
    },
    {
      "cell_type": "code",
      "execution_count": null,
      "id": "2042fb9b",
      "metadata": {
        "id": "2042fb9b"
      },
      "outputs": [],
      "source": [
        "train_x.shape"
      ]
    },
    {
      "cell_type": "code",
      "execution_count": null,
      "id": "b10b73c6",
      "metadata": {
        "id": "b10b73c6"
      },
      "outputs": [],
      "source": [
        "test_x.shape"
      ]
    },
    {
      "cell_type": "code",
      "execution_count": null,
      "id": "6d183fc9",
      "metadata": {
        "id": "6d183fc9"
      },
      "outputs": [],
      "source": [
        "from sklearn.tree import DecisionTreeClassifier #의사결정나무\n",
        "\n",
        "#기본 옵션으로 모델 생성\n",
        "tree_uncustomized = DecisionTreeClassifier(random_state = 1234)\n",
        "tree_uncustomized.fit(train_x, train_y)\n",
        "\n",
        "#train 모델 정확도\n",
        "print('Accuracy on training set : {:.3f}'.format(tree_uncustomized.score(train_x, train_y)))\n",
        "\n",
        "#test 모델 정확도\n",
        "print('Accuracy on test set : {:.3f}'.format(tree_uncustomized.score(test_x, test_y)))"
      ]
    },
    {
      "cell_type": "code",
      "execution_count": null,
      "id": "45d73ea0",
      "metadata": {
        "id": "45d73ea0"
      },
      "outputs": [],
      "source": [
        "from sklearn.ensemble import RandomForestClassifier #랜덤포레스트\n",
        "\n",
        "rf_uncustomized = RandomForestClassifier(random_state = 1234)\n",
        "rf_uncustomized.fit(train_x,train_y)\n",
        "print(\"Score on training set: {:.3f}\".format(rf_uncustomized.score(train_x,train_y)))\n",
        "print(\"Score on test set: {:.3f}\".format(rf_uncustomized.score(test_x,test_y)))"
      ]
    },
    {
      "cell_type": "code",
      "execution_count": null,
      "id": "d49ce469",
      "metadata": {
        "id": "d49ce469"
      },
      "outputs": [],
      "source": [
        "from sklearn.ensemble import GradientBoostingClassifier #그래디언트 부스팅\n",
        "\n",
        "tree_uncustom = GradientBoostingClassifier(random_state=1234)\n",
        "tree_uncustom.fit(train_x, train_y)\n",
        "\n",
        "print(\"train data의 score: {:.3f}\".format(tree_uncustom.score(train_x, train_y)))\n",
        "print(\"test data의 score: {:.3f}\".format(tree_uncustom.score(test_x, test_y)))"
      ]
    },
    {
      "cell_type": "code",
      "execution_count": null,
      "id": "791683db",
      "metadata": {
        "id": "791683db"
      },
      "outputs": [],
      "source": [
        "train_y['scale'] = train_y['scale'].apply(lambda x: 1 if x == '양품' else 0)\n",
        "test_y['scale'] = test_y['scale'].apply(lambda x: 1 if x == '양품' else 0)"
      ]
    },
    {
      "cell_type": "code",
      "execution_count": null,
      "id": "2da1e412",
      "metadata": {
        "scrolled": true,
        "id": "2da1e412"
      },
      "outputs": [],
      "source": [
        "from xgboost import XGBClassifier #XGBoost\n",
        "\n",
        "\n",
        "xgboost_uncust = XGBClassifier(random_state=1234)\n",
        "xgboost_uncust.fit(train_x, train_y)\n",
        "\n",
        "print(\"train data의 score: {:.3f}\".format(xgboost_uncust.score(train_x, train_y)))\n",
        "print(\"test data의 score: {:.3f}\".format(xgboost_uncust.score(test_x, test_y)))"
      ]
    },
    {
      "cell_type": "code",
      "execution_count": null,
      "id": "06efd722",
      "metadata": {
        "id": "06efd722"
      },
      "outputs": [],
      "source": [
        "from sklearn.svm import SVC\n",
        "\n",
        "svm_uncustomized = SVC(random_state=1234)  # SVM 분류기 학습\n",
        "svm_uncustomized.fit(train_x, train_y)\n",
        "# train 모델 정확도\n",
        "print('Accuracy on training set: {:.3f}'.format(svm_uncustomized.score(train_x, train_y)))\n",
        "# test 모델 정확도\n",
        "print('Accuracy on test set: {:.3f}'.format(svm_uncustomized.score(test_x, test_y)))"
      ]
    },
    {
      "cell_type": "code",
      "execution_count": null,
      "id": "f49c2ebf",
      "metadata": {
        "id": "f49c2ebf"
      },
      "outputs": [],
      "source": [
        "from sklearn.neural_network import MLPClassifier #인공신경망\n",
        "\n",
        "nn_uncustomized = MLPClassifier(random_state=1234)\n",
        "nn_uncustomized.fit(train_x, train_y)\n",
        "\n",
        "print('Score on training set: {:.3f}'.format(nn_uncustomized.score(train_x, train_y)))\n",
        "print('Score on test set: {:.3f}'.format(nn_uncustomized.score(test_x, test_y)))"
      ]
    },
    {
      "cell_type": "markdown",
      "id": "1e325ea4",
      "metadata": {
        "id": "1e325ea4"
      },
      "source": [
        "### 그래디언트부스팅"
      ]
    },
    {
      "cell_type": "code",
      "execution_count": null,
      "id": "749ce584",
      "metadata": {
        "id": "749ce584"
      },
      "outputs": [],
      "source": [
        "# train 및 test 정확도 결과 저장용\n",
        "train_accuracy = []; test_accuracy = []\n",
        "# learning_rate 학습률 변경\n",
        "para_lr = [lr * 0.1 for lr in range(1, 10)]\n",
        "# para_lr = [lr * 0.02 for lr in range(1, 20)]   # 민감하게 변화하면 0.02 간격으로 확인\n",
        "\n",
        "for v_learning_rate in para_lr:\n",
        "    gb = GradientBoostingClassifier(learning_rate = v_learning_rate, random_state = 1234)\n",
        "    gb.fit(train_x,train_y)\n",
        "    train_accuracy.append(gb.score(train_x,train_y))\n",
        "    test_accuracy.append(gb.score(test_x, test_y))\n",
        "\n",
        "# 데이터 테이블로 저장\n",
        "df_accuracy_lr = pd.DataFrame()\n",
        "df_accuracy_lr[\"LearningRate\"] = para_lr\n",
        "df_accuracy_lr[\"TrainAccuracy\"] = train_accuracy\n",
        "df_accuracy_lr[\"TestAccuracy\"] = test_accuracy"
      ]
    },
    {
      "cell_type": "code",
      "execution_count": null,
      "id": "58ae6f64",
      "metadata": {
        "id": "58ae6f64"
      },
      "outputs": [],
      "source": [
        "# LearningRate별 정확도\n",
        "df_accuracy_lr.round(3)"
      ]
    },
    {
      "cell_type": "code",
      "execution_count": null,
      "id": "7c4915ad",
      "metadata": {
        "id": "7c4915ad"
      },
      "outputs": [],
      "source": [
        "# LearningRate별 정확도 그래프 확인\n",
        "plt.plot(para_lr, train_accuracy, linestyle = \"-\", label = \"Train Accuracy\")\n",
        "plt.plot(para_lr, test_accuracy, linestyle = \"--\", label = \"Test Accuracy\")\n",
        "plt.ylabel(\"accuracy\"); plt.xlabel(\"learning rate\")\n",
        "plt.legend()\n",
        "# 0.2"
      ]
    },
    {
      "cell_type": "code",
      "execution_count": null,
      "id": "af598dcb",
      "metadata": {
        "id": "af598dcb"
      },
      "outputs": [],
      "source": [
        "# train 및 test 정확도 결과 저장용\n",
        "train_accuracy = []; test_accuracy = []\n",
        "# n_estimatos: 트리 수 변경\n",
        "para_n_tree = [n_tree * 10 for n_tree in range(1, 16)]\n",
        "\n",
        "for v_n_estimators in para_n_tree:\n",
        "    gb = GradientBoostingClassifier(n_estimators = v_n_estimators, learning_rate=0.2, random_state=1234)\n",
        "    gb.fit(train_x, train_y)\n",
        "    train_accuracy.append(gb.score(train_x, train_y))\n",
        "    test_accuracy.append(gb.score(test_x, test_y))\n",
        "\n",
        "# 데이터 테이블로 저장\n",
        "df_accuracy_n = pd.DataFrame()\n",
        "df_accuracy_n[\"Estimators\"] = para_n_tree\n",
        "df_accuracy_n[\"TrainAccuracy\"] = train_accuracy\n",
        "df_accuracy_n[\"TestAccuracy\"] = test_accuracy"
      ]
    },
    {
      "cell_type": "code",
      "execution_count": null,
      "id": "eb442f83",
      "metadata": {
        "id": "eb442f83"
      },
      "outputs": [],
      "source": [
        "para_n_tree"
      ]
    },
    {
      "cell_type": "code",
      "execution_count": null,
      "id": "9d802b1e",
      "metadata": {
        "id": "9d802b1e"
      },
      "outputs": [],
      "source": [
        "# n_estimators별 정확도\n",
        "df_accuracy_n.round(3)"
      ]
    },
    {
      "cell_type": "code",
      "execution_count": null,
      "id": "1573bfcb",
      "metadata": {
        "id": "1573bfcb"
      },
      "outputs": [],
      "source": [
        "# 정확도를 그래프 확인\n",
        "plt.plot(para_n_tree, train_accuracy, linestyle = \"-\", label = \"Train Accuracy\")\n",
        "plt.plot(para_n_tree, test_accuracy, linestyle = \"--\", label = \"Test Accuracy\")\n",
        "plt.ylabel(\"accuracy\"); plt.xlabel(\"n_estimators\")\n",
        "plt.legend()\n",
        "#80"
      ]
    },
    {
      "cell_type": "code",
      "execution_count": null,
      "id": "6c646681",
      "metadata": {
        "id": "6c646681"
      },
      "outputs": [],
      "source": [
        "# train 및 test 정확도 결과 저장용\n",
        "train_accuracy = []; test_accuracy = []\n",
        "# max_depth: 최대 깊이 변경. 1~10\n",
        "para_depth = [depth for depth in range(1, 11)]\n",
        "\n",
        "for v_max_depth in para_depth:\n",
        "    gb = GradientBoostingClassifier(max_depth = v_max_depth,\n",
        "                            n_estimators=80, learning_rate=0.2, random_state=1234)\n",
        "    gb.fit(train_x, train_y)\n",
        "    train_accuracy.append(gb.score(train_x, train_y))\n",
        "    test_accuracy.append(gb.score(test_x, test_y))\n",
        "\n",
        "# 데이터 테이블로 저장\n",
        "df_accuracy_depth = pd.DataFrame()\n",
        "df_accuracy_depth[\"Depth\"] = para_depth\n",
        "df_accuracy_depth[\"TrainAccuracy\"] = train_accuracy\n",
        "df_accuracy_depth[\"TestAccuracy\"] = test_accuracy"
      ]
    },
    {
      "cell_type": "code",
      "execution_count": null,
      "id": "06257e4c",
      "metadata": {
        "id": "06257e4c"
      },
      "outputs": [],
      "source": [
        "# max_depth별 정확도\n",
        "df_accuracy_depth.round(3)"
      ]
    },
    {
      "cell_type": "code",
      "execution_count": null,
      "id": "59bd7304",
      "metadata": {
        "id": "59bd7304"
      },
      "outputs": [],
      "source": [
        "# 정확도를 그래프 확인\n",
        "plt.plot(para_depth, train_accuracy, linestyle = \"-\", label = \"Train Accuracy\")\n",
        "plt.plot(para_depth, test_accuracy, linestyle = \"--\", label = \"Test Accuracy\")\n",
        "plt.ylabel(\"accuracy\"); plt.xlabel(\"depth\")\n",
        "plt.legend()\n",
        "#3"
      ]
    },
    {
      "cell_type": "code",
      "execution_count": null,
      "id": "d4c0e61f",
      "metadata": {
        "id": "d4c0e61f"
      },
      "outputs": [],
      "source": [
        "# train 및 test 정확도 결과 저장용\n",
        "train_accuracy = []; test_accuracy = []\n",
        "# min_samples_split: 분할하기 위한 노드의 최소 샘플 수. 20~100\n",
        "para_split = [n_split * 1 for n_split in range(2,60)]\n",
        "\n",
        "for v_min_samples_split in para_split:\n",
        "    gb = GradientBoostingClassifier(min_samples_split = v_min_samples_split,\n",
        "                                    max_depth=3, n_estimators=80, learning_rate=0.2, random_state=1234)\n",
        "    gb.fit(train_x, train_y)\n",
        "    train_accuracy.append(gb.score(train_x, train_y))\n",
        "    test_accuracy.append(gb.score(test_x, test_y))\n",
        "\n",
        "# 데이터 테이블로 저장\n",
        "df_accuracy_split = pd.DataFrame()\n",
        "df_accuracy_split[\"MinSamplesSplit\"] = para_split\n",
        "df_accuracy_split[\"TrainAccuracy\"] = train_accuracy\n",
        "df_accuracy_split[\"TestAccuracy\"] = test_accuracy"
      ]
    },
    {
      "cell_type": "code",
      "execution_count": null,
      "id": "a45ceb8b",
      "metadata": {
        "id": "a45ceb8b"
      },
      "outputs": [],
      "source": [
        "# min_samples_leaf별 정확도\n",
        "df_accuracy_split.round(3)"
      ]
    },
    {
      "cell_type": "code",
      "execution_count": null,
      "id": "c8e9ebc1",
      "metadata": {
        "id": "c8e9ebc1"
      },
      "outputs": [],
      "source": [
        "# 정확도를 그래프 확인\n",
        "plt.plot(para_split, train_accuracy, linestyle = \"-\", label = \"Train Accuracy\")\n",
        "plt.plot(para_split, test_accuracy, linestyle = \"--\", label = \"Test Accuracy\")\n",
        "plt.ylabel(\"accuracy\"); plt.xlabel(\"min samples split\")\n",
        "plt.legend()"
      ]
    },
    {
      "cell_type": "code",
      "execution_count": null,
      "id": "ccf42207",
      "metadata": {
        "id": "ccf42207"
      },
      "outputs": [],
      "source": [
        "# train 및 test 정확도 결과 저장용\n",
        "train_accuracy = []; test_accuracy = []\n",
        "# min_samples_leaf: 잎사귀 노드 최소 자료 수. 5~50\n",
        "para_leaf = [n_leaf * 5 for n_leaf in range(1, 11)]\n",
        "\n",
        "for v_min_samples_leaf in para_leaf:\n",
        "    gb = GradientBoostingClassifier(min_samples_leaf = v_min_samples_leaf,\n",
        "                                     max_depth=3, n_estimators=80, learning_rate=0.2, random_state=1234)\n",
        "    gb.fit(train_x, train_y)\n",
        "    train_accuracy.append(gb.score(train_x, train_y))\n",
        "    test_accuracy.append(gb.score(test_x, test_y))\n",
        "\n",
        "# 데이터 테이블로 저장\n",
        "df_accuracy_leaf = pd.DataFrame()\n",
        "df_accuracy_leaf[\"MinSamplesLeaf\"] = para_leaf\n",
        "df_accuracy_leaf[\"TrainAccuracy\"] = train_accuracy\n",
        "df_accuracy_leaf[\"TestAccuracy\"] = test_accuracy"
      ]
    },
    {
      "cell_type": "code",
      "execution_count": null,
      "id": "0cc78a0b",
      "metadata": {
        "id": "0cc78a0b"
      },
      "outputs": [],
      "source": [
        "# min_samples_leaf별 정확도\n",
        "df_accuracy_leaf.round(3)"
      ]
    },
    {
      "cell_type": "code",
      "execution_count": null,
      "id": "97ff2428",
      "metadata": {
        "id": "97ff2428"
      },
      "outputs": [],
      "source": [
        "# 정확도를 그래프 확인\n",
        "plt.plot(para_leaf, train_accuracy, linestyle = \"-\", label = \"Train Accuracy\")\n",
        "plt.plot(para_leaf, test_accuracy, linestyle = \"--\", label = \"Test Accuracy\")\n",
        "plt.ylabel(\"accuracy\"); plt.xlabel(\"min samples leaf\")\n",
        "plt.legend()\n",
        "#10"
      ]
    },
    {
      "cell_type": "code",
      "execution_count": null,
      "id": "6a5a47f8",
      "metadata": {
        "id": "6a5a47f8"
      },
      "outputs": [],
      "source": [
        "# 최종 모델\n",
        "gb_final = GradientBoostingClassifier(min_samples_leaf=10, max_depth=3, n_estimators=80, learning_rate=0.2,\n",
        "                                      random_state=1234)\n",
        "gb_final.fit(train_x, train_y)\n",
        "# 예측\n",
        "y_pred = gb_final.predict(test_x)\n",
        "\n",
        "# train 모델 정확도\n",
        "print(\"Train Accuracy: {:.3f}\".format(gb_final.score(train_x, train_y)))\n",
        "# test 모델 정확도\n",
        "print(\"Test Accuracy: {:.3f}\\n\".format(gb_final.score(test_x, test_y)))\n",
        "# confusion matrix\n",
        "print(\"Test Confusion matrix: \\n{}\".format(confusion_matrix(test_y, y_pred)))\n",
        "\n",
        "# 목표변수의 빈도 불균형 : f1 score로 모델 평가\n",
        "print(classification_report(test_y, y_pred, digits=3))"
      ]
    },
    {
      "cell_type": "code",
      "execution_count": null,
      "id": "3b3c24b2",
      "metadata": {
        "id": "3b3c24b2"
      },
      "outputs": [],
      "source": [
        "estimator = GradientBoostingClassifier(n_estimators=80, random_state=1234)\n",
        "# 구하고자 하는 parameter와 범위\n",
        "param_grid = {\"learning_rate\": para_lr,\n",
        "              \"max_depth\": para_depth,\n",
        "              \"min_samples_leaf\": para_leaf}\n",
        "# 정확도가 높은 최적 parameter 찾기\n",
        "grid_gb = GridSearchCV(estimator, param_grid, scoring=\"accuracy\", n_jobs = -1) #accuracy 말고 recall 활용 가능\n",
        "grid_gb.fit(train_x, train_y)\n",
        "print(\"best estimator model: \\n{}\".format(grid_gb.best_estimator_))\n",
        "print(\"\\nbest parameter: \\n{}\".format(grid_gb.best_params_))\n",
        "print(\"\\nbest score: \\n{}\".format(grid_gb.best_score_.round(3)))"
      ]
    },
    {
      "cell_type": "code",
      "execution_count": null,
      "id": "75d8f5d7",
      "metadata": {
        "id": "75d8f5d7"
      },
      "outputs": [],
      "source": []
    }
  ],
  "metadata": {
    "kernelspec": {
      "display_name": "Python 3 (ipykernel)",
      "language": "python",
      "name": "python3"
    },
    "language_info": {
      "codemirror_mode": {
        "name": "ipython",
        "version": 3
      },
      "file_extension": ".py",
      "mimetype": "text/x-python",
      "name": "python",
      "nbconvert_exporter": "python",
      "pygments_lexer": "ipython3",
      "version": "3.11.5"
    },
    "colab": {
      "provenance": [],
      "include_colab_link": true
    }
  },
  "nbformat": 4,
  "nbformat_minor": 5
}
