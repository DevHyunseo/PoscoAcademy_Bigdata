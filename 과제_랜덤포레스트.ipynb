{
  "cells": [
    {
      "cell_type": "markdown",
      "metadata": {
        "id": "view-in-github",
        "colab_type": "text"
      },
      "source": [
        "<a href=\"https://colab.research.google.com/github/DevHyunseo/PoscoAcademy_Bigdata/blob/main/%EA%B3%BC%EC%A0%9C_%EB%9E%9C%EB%8D%A4%ED%8F%AC%EB%A0%88%EC%8A%A4%ED%8A%B8.ipynb\" target=\"_parent\"><img src=\"https://colab.research.google.com/assets/colab-badge.svg\" alt=\"Open In Colab\"/></a>"
      ]
    },
    {
      "cell_type": "code",
      "execution_count": null,
      "id": "857a4416",
      "metadata": {
        "id": "857a4416"
      },
      "outputs": [],
      "source": [
        "import matplotlib\n",
        "\n",
        "matplotlib.rc(\"font\", family = \"NanumGothic\")\n",
        "matplotlib.rc('axes', unicode_minus=False)\n",
        "\n",
        "import warnings\n",
        "warnings.filterwarnings('ignore')\n",
        "\n",
        "import pandas as pd\n",
        "import matplotlib.pyplot as plt\n",
        "import matplotlib\n",
        "from sklearn.tree import export_graphviz\n",
        "import graphviz\n",
        "from sklearn.model_selection import train_test_split\n",
        "from sklearn.ensemble import RandomForestRegressor\n",
        "from sklearn.model_selection import GridSearchCV\n",
        "from sklearn.tree import DecisionTreeRegressor"
      ]
    },
    {
      "cell_type": "markdown",
      "id": "143e6926",
      "metadata": {
        "id": "143e6926"
      },
      "source": [
        "## (1) 데이터 구성하기"
      ]
    },
    {
      "cell_type": "code",
      "execution_count": null,
      "id": "0ce3d471",
      "metadata": {
        "id": "0ce3d471",
        "outputId": "78b47166-dd65-4644-b4bf-36b7bf27a69b"
      },
      "outputs": [
        {
          "data": {
            "text/html": [
              "<div>\n",
              "<style scoped>\n",
              "    .dataframe tbody tr th:only-of-type {\n",
              "        vertical-align: middle;\n",
              "    }\n",
              "\n",
              "    .dataframe tbody tr th {\n",
              "        vertical-align: top;\n",
              "    }\n",
              "\n",
              "    .dataframe thead th {\n",
              "        text-align: right;\n",
              "    }\n",
              "</style>\n",
              "<table border=\"1\" class=\"dataframe\">\n",
              "  <thead>\n",
              "    <tr style=\"text-align: right;\">\n",
              "      <th></th>\n",
              "      <th>Y</th>\n",
              "      <th>AGE</th>\n",
              "      <th>GENDER</th>\n",
              "      <th>BMI</th>\n",
              "      <th>BP</th>\n",
              "      <th>CHOLESTEROL</th>\n",
              "      <th>LDL</th>\n",
              "      <th>HDL</th>\n",
              "      <th>TCH</th>\n",
              "      <th>LTG</th>\n",
              "      <th>GLUCOSE</th>\n",
              "    </tr>\n",
              "  </thead>\n",
              "  <tbody>\n",
              "    <tr>\n",
              "      <th>0</th>\n",
              "      <td>151</td>\n",
              "      <td>59</td>\n",
              "      <td>2</td>\n",
              "      <td>32.1</td>\n",
              "      <td>101.0</td>\n",
              "      <td>157</td>\n",
              "      <td>93.2</td>\n",
              "      <td>38.0</td>\n",
              "      <td>4.0</td>\n",
              "      <td>4.8598</td>\n",
              "      <td>87</td>\n",
              "    </tr>\n",
              "    <tr>\n",
              "      <th>1</th>\n",
              "      <td>75</td>\n",
              "      <td>48</td>\n",
              "      <td>1</td>\n",
              "      <td>21.6</td>\n",
              "      <td>87.0</td>\n",
              "      <td>183</td>\n",
              "      <td>103.2</td>\n",
              "      <td>70.0</td>\n",
              "      <td>3.0</td>\n",
              "      <td>3.8918</td>\n",
              "      <td>69</td>\n",
              "    </tr>\n",
              "    <tr>\n",
              "      <th>2</th>\n",
              "      <td>141</td>\n",
              "      <td>72</td>\n",
              "      <td>2</td>\n",
              "      <td>30.5</td>\n",
              "      <td>93.0</td>\n",
              "      <td>156</td>\n",
              "      <td>93.6</td>\n",
              "      <td>41.0</td>\n",
              "      <td>4.0</td>\n",
              "      <td>4.6728</td>\n",
              "      <td>85</td>\n",
              "    </tr>\n",
              "    <tr>\n",
              "      <th>3</th>\n",
              "      <td>206</td>\n",
              "      <td>24</td>\n",
              "      <td>1</td>\n",
              "      <td>25.3</td>\n",
              "      <td>84.0</td>\n",
              "      <td>198</td>\n",
              "      <td>131.4</td>\n",
              "      <td>40.0</td>\n",
              "      <td>5.0</td>\n",
              "      <td>4.8903</td>\n",
              "      <td>89</td>\n",
              "    </tr>\n",
              "    <tr>\n",
              "      <th>4</th>\n",
              "      <td>135</td>\n",
              "      <td>50</td>\n",
              "      <td>1</td>\n",
              "      <td>23.0</td>\n",
              "      <td>101.0</td>\n",
              "      <td>192</td>\n",
              "      <td>125.4</td>\n",
              "      <td>52.0</td>\n",
              "      <td>4.0</td>\n",
              "      <td>4.2905</td>\n",
              "      <td>80</td>\n",
              "    </tr>\n",
              "  </tbody>\n",
              "</table>\n",
              "</div>"
            ],
            "text/plain": [
              "     Y  AGE  GENDER   BMI     BP  CHOLESTEROL    LDL   HDL  TCH     LTG  \\\n",
              "0  151   59       2  32.1  101.0          157   93.2  38.0  4.0  4.8598   \n",
              "1   75   48       1  21.6   87.0          183  103.2  70.0  3.0  3.8918   \n",
              "2  141   72       2  30.5   93.0          156   93.6  41.0  4.0  4.6728   \n",
              "3  206   24       1  25.3   84.0          198  131.4  40.0  5.0  4.8903   \n",
              "4  135   50       1  23.0  101.0          192  125.4  52.0  4.0  4.2905   \n",
              "\n",
              "   GLUCOSE  \n",
              "0       87  \n",
              "1       69  \n",
              "2       85  \n",
              "3       89  \n",
              "4       80  "
            ]
          },
          "execution_count": 2,
          "metadata": {},
          "output_type": "execute_result"
        }
      ],
      "source": [
        "#데이터 불러오기\n",
        "df_raw = pd.read_csv(\"/home/piai/바탕화면/빅데이터주간/01 실습파일/2. Big Data 분석/DIABETES.csv\", encoding = \"euc-kr\")\n",
        "df_raw.head()"
      ]
    },
    {
      "cell_type": "markdown",
      "id": "df532fc7",
      "metadata": {
        "id": "df532fc7"
      },
      "source": [
        "### [데이터 확인]\n",
        " - Y: 목표 변수 (당뇨 발병확률)\n",
        " - AGE: 나이\n",
        " - GENDER: 성별 (1-남성,2-여성)\n",
        " - BMI: 체질량지수\n",
        " - BP: 혈압\n",
        " - CHOLESTEROL: 총 콜레스테롤 수치\n",
        " - LDL: LDL수치\n",
        " - HDL: HDL수치\n",
        " - TCH: TCH수치\n",
        " - LTG: 라모트리진\n",
        " - GLUCOSE: 포도당\n",
        "\n",
        "### [데이터 확인 결과]\n",
        " - 수치형 변수 없음, 단위 항목 없음, Dummy 변수화 필요 없음 확인"
      ]
    },
    {
      "cell_type": "code",
      "execution_count": null,
      "id": "84179a24",
      "metadata": {
        "id": "84179a24",
        "outputId": "125f23e4-33e3-48e6-9a83-9b134293a91e"
      },
      "outputs": [
        {
          "data": {
            "text/plain": [
              "Y              0\n",
              "AGE            0\n",
              "GENDER         0\n",
              "BMI            0\n",
              "BP             0\n",
              "CHOLESTEROL    0\n",
              "LDL            0\n",
              "HDL            0\n",
              "TCH            0\n",
              "LTG            0\n",
              "GLUCOSE        0\n",
              "dtype: int64"
            ]
          },
          "execution_count": 3,
          "metadata": {},
          "output_type": "execute_result"
        }
      ],
      "source": [
        "# 결측치 확인\n",
        "df_raw.isnull().sum()\n",
        "# 결측치가 없음."
      ]
    },
    {
      "cell_type": "code",
      "execution_count": null,
      "id": "c0df7bd9",
      "metadata": {
        "id": "c0df7bd9"
      },
      "outputs": [],
      "source": [
        "# 목표변수, 설명변수 데이터 지정\n",
        "df_raw_y = df_raw[\"Y\"]\n",
        "df_raw_x = df_raw.drop(\"Y\", axis = 1, inplace = False)"
      ]
    },
    {
      "cell_type": "code",
      "execution_count": null,
      "id": "33902cbc",
      "metadata": {
        "id": "33902cbc",
        "outputId": "1b4e202e-8016-4e94-a015-0235b5628ddf"
      },
      "outputs": [
        {
          "name": "stdout",
          "output_type": "stream",
          "text": [
            "train data X size : (309, 10)\n",
            "train data Y size : (309,)\n",
            "test data X size : (133, 10)\n",
            "test data Y size : (133,)\n"
          ]
        }
      ],
      "source": [
        "# train_test_split(X: 설명변수 데이터, Y: 목표변수 데이터, test_size = test 데이터 비율, random_state: random seed)\n",
        "df_train_x, df_test_x, df_train_y, df_test_y = train_test_split(df_raw_x, df_raw_y\n",
        "                                                                , test_size = 0.3, random_state = 1234)\n",
        "print(\"train data X size : {}\".format(df_train_x.shape))\n",
        "print(\"train data Y size : {}\".format(df_train_y.shape))\n",
        "print(\"test data X size : {}\".format(df_test_x.shape))\n",
        "print(\"test data Y size : {}\".format(df_test_y.shape))"
      ]
    },
    {
      "cell_type": "markdown",
      "id": "98e91add",
      "metadata": {
        "id": "98e91add"
      },
      "source": [
        "## (2) 모델 생성 - 기본 옵션으로 모델 생성"
      ]
    },
    {
      "cell_type": "code",
      "execution_count": null,
      "id": "f3cbebd5",
      "metadata": {
        "scrolled": true,
        "id": "f3cbebd5",
        "outputId": "382b8ad2-f859-4b78-a243-64edb63c364c"
      },
      "outputs": [
        {
          "name": "stdout",
          "output_type": "stream",
          "text": [
            "Score on training set: 0.919\n",
            "Score on test set: 0.455\n"
          ]
        }
      ],
      "source": [
        "#랜덤 포레스트 모델\n",
        "rf_uncustomized = RandomForestRegressor(random_state=1234)\n",
        "rf_uncustomized.fit(df_train_x, df_train_y)\n",
        "# Train 데이터 설명력\n",
        "print(\"Score on training set: {:.3f}\".format(rf_uncustomized.score(df_train_x, df_train_y)))\n",
        "# Test 데이터 설명력\n",
        "print(\"Score on test set: {:.3f}\".format(rf_uncustomized.score(df_test_x, df_test_y)))"
      ]
    },
    {
      "cell_type": "markdown",
      "id": "11264733",
      "metadata": {
        "id": "11264733"
      },
      "source": [
        "### <기본 옵션으로 모델 생성 후 분석 결과>\n",
        "- Score on training set: 0.919\n",
        "- Score on test set: 0.455\n",
        "- 이 모델이 train 데이터에 과적합되어 있음을 알 수 있음."
      ]
    },
    {
      "cell_type": "code",
      "execution_count": null,
      "id": "c97efff5",
      "metadata": {
        "id": "c97efff5",
        "outputId": "c24239e0-9e1f-454d-8004-106c70a8018e"
      },
      "outputs": [
        {
          "data": {
            "text/plain": [
              "{'bootstrap': True,\n",
              " 'ccp_alpha': 0.0,\n",
              " 'criterion': 'squared_error',\n",
              " 'max_depth': None,\n",
              " 'max_features': 1.0,\n",
              " 'max_leaf_nodes': None,\n",
              " 'max_samples': None,\n",
              " 'min_impurity_decrease': 0.0,\n",
              " 'min_samples_leaf': 1,\n",
              " 'min_samples_split': 2,\n",
              " 'min_weight_fraction_leaf': 0.0,\n",
              " 'n_estimators': 100,\n",
              " 'n_jobs': None,\n",
              " 'oob_score': False,\n",
              " 'random_state': 1234,\n",
              " 'verbose': 0,\n",
              " 'warm_start': False}"
            ]
          },
          "execution_count": 7,
          "metadata": {},
          "output_type": "execute_result"
        }
      ],
      "source": [
        "rf_uncustomized.get_params()"
      ]
    },
    {
      "cell_type": "markdown",
      "id": "f470d3e8",
      "metadata": {
        "id": "f470d3e8"
      },
      "source": [
        "## (3) 모델 parameter 조정 : n_estimators"
      ]
    },
    {
      "cell_type": "code",
      "execution_count": null,
      "id": "0ed75010",
      "metadata": {
        "id": "0ed75010"
      },
      "outputs": [],
      "source": [
        "# train 및 test 설명력 결과 저장\n",
        "train_score = []; test_score = []\n",
        "# n_estimatos: 트리 수 변경: 1~100\n",
        "para_n_tree = [n_tree * 10 for n_tree in range(1, 11)]\n",
        "\n",
        "for v_n_estimators in para_n_tree:\n",
        "    rf = RandomForestRegressor(n_estimators = v_n_estimators, random_state = 1234)\n",
        "    rf.fit(df_train_x, df_train_y)\n",
        "    train_score.append(rf.score(df_train_x, df_train_y))\n",
        "    test_score.append(rf.score(df_test_x, df_test_y))\n",
        "\n",
        "# 결과 저장\n",
        "df_score_n = pd.DataFrame()\n",
        "df_score_n[\"n_estimators\"] = para_n_tree\n",
        "df_score_n[\"TrainScore\"] = train_score\n",
        "df_score_n[\"TestScore\"] = test_score"
      ]
    },
    {
      "cell_type": "code",
      "execution_count": null,
      "id": "433c7068",
      "metadata": {
        "id": "433c7068",
        "outputId": "5e99bc50-049e-4835-8531-3f64e84ec478"
      },
      "outputs": [
        {
          "data": {
            "text/html": [
              "<div>\n",
              "<style scoped>\n",
              "    .dataframe tbody tr th:only-of-type {\n",
              "        vertical-align: middle;\n",
              "    }\n",
              "\n",
              "    .dataframe tbody tr th {\n",
              "        vertical-align: top;\n",
              "    }\n",
              "\n",
              "    .dataframe thead th {\n",
              "        text-align: right;\n",
              "    }\n",
              "</style>\n",
              "<table border=\"1\" class=\"dataframe\">\n",
              "  <thead>\n",
              "    <tr style=\"text-align: right;\">\n",
              "      <th></th>\n",
              "      <th>n_estimators</th>\n",
              "      <th>TrainScore</th>\n",
              "      <th>TestScore</th>\n",
              "    </tr>\n",
              "  </thead>\n",
              "  <tbody>\n",
              "    <tr>\n",
              "      <th>0</th>\n",
              "      <td>10</td>\n",
              "      <td>0.892</td>\n",
              "      <td>0.393</td>\n",
              "    </tr>\n",
              "    <tr>\n",
              "      <th>1</th>\n",
              "      <td>20</td>\n",
              "      <td>0.908</td>\n",
              "      <td>0.404</td>\n",
              "    </tr>\n",
              "    <tr>\n",
              "      <th>2</th>\n",
              "      <td>30</td>\n",
              "      <td>0.908</td>\n",
              "      <td>0.432</td>\n",
              "    </tr>\n",
              "    <tr>\n",
              "      <th>3</th>\n",
              "      <td>40</td>\n",
              "      <td>0.911</td>\n",
              "      <td>0.442</td>\n",
              "    </tr>\n",
              "    <tr>\n",
              "      <th>4</th>\n",
              "      <td>50</td>\n",
              "      <td>0.914</td>\n",
              "      <td>0.458</td>\n",
              "    </tr>\n",
              "    <tr>\n",
              "      <th>5</th>\n",
              "      <td>60</td>\n",
              "      <td>0.915</td>\n",
              "      <td>0.454</td>\n",
              "    </tr>\n",
              "    <tr>\n",
              "      <th>6</th>\n",
              "      <td>70</td>\n",
              "      <td>0.915</td>\n",
              "      <td>0.451</td>\n",
              "    </tr>\n",
              "    <tr>\n",
              "      <th>7</th>\n",
              "      <td>80</td>\n",
              "      <td>0.917</td>\n",
              "      <td>0.451</td>\n",
              "    </tr>\n",
              "    <tr>\n",
              "      <th>8</th>\n",
              "      <td>90</td>\n",
              "      <td>0.919</td>\n",
              "      <td>0.450</td>\n",
              "    </tr>\n",
              "    <tr>\n",
              "      <th>9</th>\n",
              "      <td>100</td>\n",
              "      <td>0.919</td>\n",
              "      <td>0.455</td>\n",
              "    </tr>\n",
              "  </tbody>\n",
              "</table>\n",
              "</div>"
            ],
            "text/plain": [
              "   n_estimators  TrainScore  TestScore\n",
              "0            10       0.892      0.393\n",
              "1            20       0.908      0.404\n",
              "2            30       0.908      0.432\n",
              "3            40       0.911      0.442\n",
              "4            50       0.914      0.458\n",
              "5            60       0.915      0.454\n",
              "6            70       0.915      0.451\n",
              "7            80       0.917      0.451\n",
              "8            90       0.919      0.450\n",
              "9           100       0.919      0.455"
            ]
          },
          "execution_count": 9,
          "metadata": {},
          "output_type": "execute_result"
        }
      ],
      "source": [
        "df_score_n.round(3)"
      ]
    },
    {
      "cell_type": "code",
      "execution_count": null,
      "id": "5f42114a",
      "metadata": {
        "id": "5f42114a",
        "outputId": "c17bdc1d-9741-4bb8-eb43-5294a8f9e8bb"
      },
      "outputs": [
        {
          "data": {
            "text/plain": [
              "<matplotlib.legend.Legend at 0x7f0e3e125480>"
            ]
          },
          "execution_count": 10,
          "metadata": {},
          "output_type": "execute_result"
        },
        {
          "data": {
            "image/png": "[encoded data removed]",
            "text/plain": [
              "<Figure size 640x480 with 1 Axes>"
            ]
          },
          "metadata": {},
          "output_type": "display_data"
        }
      ],
      "source": [
        "# 모델 설명력 그래프 확인\n",
        "plt.plot(para_n_tree, train_score, linestyle = \"-\", label = \"Train Score\")\n",
        "plt.plot(para_n_tree, test_score, linestyle = \"--\", label = \"Test Score\")\n",
        "plt.ylabel(\"score\"); plt.xlabel(\"n_estimators\")\n",
        "plt.legend()"
      ]
    },
    {
      "cell_type": "markdown",
      "id": "fa7d08c2",
      "metadata": {
        "id": "fa7d08c2"
      },
      "source": [
        "### <그래프 확인 결과>\n",
        "- 생성하는 결정 트리 수 증가에 따라 모델 설명력이 증가함.\n",
        "- 트리의 수가 50개 초과된 이후부터는 설명력이 거의 향상되지 않으므로 50 선택"
      ]
    },
    {
      "cell_type": "markdown",
      "id": "b4e5c3be",
      "metadata": {
        "id": "b4e5c3be"
      },
      "source": [
        "## (4) 모델 parameter 조정 : min_samples_leaf"
      ]
    },
    {
      "cell_type": "code",
      "execution_count": null,
      "id": "c4c7ad43",
      "metadata": {
        "id": "c4c7ad43",
        "outputId": "03f5f648-90c3-4310-9b8e-e9a3a6dd8ad4"
      },
      "outputs": [
        {
          "data": {
            "text/html": [
              "<div>\n",
              "<style scoped>\n",
              "    .dataframe tbody tr th:only-of-type {\n",
              "        vertical-align: middle;\n",
              "    }\n",
              "\n",
              "    .dataframe tbody tr th {\n",
              "        vertical-align: top;\n",
              "    }\n",
              "\n",
              "    .dataframe thead th {\n",
              "        text-align: right;\n",
              "    }\n",
              "</style>\n",
              "<table border=\"1\" class=\"dataframe\">\n",
              "  <thead>\n",
              "    <tr style=\"text-align: right;\">\n",
              "      <th></th>\n",
              "      <th>MinSamplesLeaf</th>\n",
              "      <th>TrainScore</th>\n",
              "      <th>TestScore</th>\n",
              "    </tr>\n",
              "  </thead>\n",
              "  <tbody>\n",
              "    <tr>\n",
              "      <th>0</th>\n",
              "      <td>1</td>\n",
              "      <td>0.914</td>\n",
              "      <td>0.458</td>\n",
              "    </tr>\n",
              "    <tr>\n",
              "      <th>1</th>\n",
              "      <td>2</td>\n",
              "      <td>0.877</td>\n",
              "      <td>0.466</td>\n",
              "    </tr>\n",
              "    <tr>\n",
              "      <th>2</th>\n",
              "      <td>3</td>\n",
              "      <td>0.831</td>\n",
              "      <td>0.467</td>\n",
              "    </tr>\n",
              "    <tr>\n",
              "      <th>3</th>\n",
              "      <td>4</td>\n",
              "      <td>0.782</td>\n",
              "      <td>0.465</td>\n",
              "    </tr>\n",
              "    <tr>\n",
              "      <th>4</th>\n",
              "      <td>5</td>\n",
              "      <td>0.748</td>\n",
              "      <td>0.460</td>\n",
              "    </tr>\n",
              "    <tr>\n",
              "      <th>5</th>\n",
              "      <td>6</td>\n",
              "      <td>0.715</td>\n",
              "      <td>0.460</td>\n",
              "    </tr>\n",
              "    <tr>\n",
              "      <th>6</th>\n",
              "      <td>7</td>\n",
              "      <td>0.694</td>\n",
              "      <td>0.466</td>\n",
              "    </tr>\n",
              "    <tr>\n",
              "      <th>7</th>\n",
              "      <td>8</td>\n",
              "      <td>0.670</td>\n",
              "      <td>0.467</td>\n",
              "    </tr>\n",
              "    <tr>\n",
              "      <th>8</th>\n",
              "      <td>9</td>\n",
              "      <td>0.651</td>\n",
              "      <td>0.474</td>\n",
              "    </tr>\n",
              "    <tr>\n",
              "      <th>9</th>\n",
              "      <td>10</td>\n",
              "      <td>0.634</td>\n",
              "      <td>0.469</td>\n",
              "    </tr>\n",
              "    <tr>\n",
              "      <th>10</th>\n",
              "      <td>11</td>\n",
              "      <td>0.621</td>\n",
              "      <td>0.471</td>\n",
              "    </tr>\n",
              "    <tr>\n",
              "      <th>11</th>\n",
              "      <td>12</td>\n",
              "      <td>0.605</td>\n",
              "      <td>0.472</td>\n",
              "    </tr>\n",
              "    <tr>\n",
              "      <th>12</th>\n",
              "      <td>13</td>\n",
              "      <td>0.594</td>\n",
              "      <td>0.475</td>\n",
              "    </tr>\n",
              "    <tr>\n",
              "      <th>13</th>\n",
              "      <td>14</td>\n",
              "      <td>0.584</td>\n",
              "      <td>0.482</td>\n",
              "    </tr>\n",
              "    <tr>\n",
              "      <th>14</th>\n",
              "      <td>15</td>\n",
              "      <td>0.574</td>\n",
              "      <td>0.483</td>\n",
              "    </tr>\n",
              "    <tr>\n",
              "      <th>15</th>\n",
              "      <td>16</td>\n",
              "      <td>0.564</td>\n",
              "      <td>0.477</td>\n",
              "    </tr>\n",
              "    <tr>\n",
              "      <th>16</th>\n",
              "      <td>17</td>\n",
              "      <td>0.559</td>\n",
              "      <td>0.474</td>\n",
              "    </tr>\n",
              "    <tr>\n",
              "      <th>17</th>\n",
              "      <td>18</td>\n",
              "      <td>0.552</td>\n",
              "      <td>0.472</td>\n",
              "    </tr>\n",
              "    <tr>\n",
              "      <th>18</th>\n",
              "      <td>19</td>\n",
              "      <td>0.545</td>\n",
              "      <td>0.468</td>\n",
              "    </tr>\n",
              "    <tr>\n",
              "      <th>19</th>\n",
              "      <td>20</td>\n",
              "      <td>0.540</td>\n",
              "      <td>0.467</td>\n",
              "    </tr>\n",
              "  </tbody>\n",
              "</table>\n",
              "</div>"
            ],
            "text/plain": [
              "    MinSamplesLeaf  TrainScore  TestScore\n",
              "0                1       0.914      0.458\n",
              "1                2       0.877      0.466\n",
              "2                3       0.831      0.467\n",
              "3                4       0.782      0.465\n",
              "4                5       0.748      0.460\n",
              "5                6       0.715      0.460\n",
              "6                7       0.694      0.466\n",
              "7                8       0.670      0.467\n",
              "8                9       0.651      0.474\n",
              "9               10       0.634      0.469\n",
              "10              11       0.621      0.471\n",
              "11              12       0.605      0.472\n",
              "12              13       0.594      0.475\n",
              "13              14       0.584      0.482\n",
              "14              15       0.574      0.483\n",
              "15              16       0.564      0.477\n",
              "16              17       0.559      0.474\n",
              "17              18       0.552      0.472\n",
              "18              19       0.545      0.468\n",
              "19              20       0.540      0.467"
            ]
          },
          "execution_count": 11,
          "metadata": {},
          "output_type": "execute_result"
        }
      ],
      "source": [
        "# train 및 test 설명력 결과 저장\n",
        "train_score = []; test_score = []\n",
        "# min_samples_leaf: 잎사귀 최소 자료 수\n",
        "para_leaf = [n_leaf for n_leaf in range(1, 21)]\n",
        "\n",
        "for v_min_samples_leaf in para_leaf:\n",
        "    rf = RandomForestRegressor(random_state=1234, n_estimators = 50,\n",
        "                                min_samples_leaf = v_min_samples_leaf)\n",
        "    rf.fit(df_train_x, df_train_y)\n",
        "    train_score.append(rf.score(df_train_x, df_train_y))\n",
        "    test_score.append(rf.score(df_test_x, df_test_y))\n",
        "\n",
        "# 데이터 테이블로 저장\n",
        "df_score_leaf = pd.DataFrame()\n",
        "df_score_leaf[\"MinSamplesLeaf\"] = para_leaf\n",
        "df_score_leaf[\"TrainScore\"] = train_score\n",
        "df_score_leaf[\"TestScore\"] = test_score\n",
        "\n",
        "df_score_leaf.round(3)"
      ]
    },
    {
      "cell_type": "code",
      "execution_count": null,
      "id": "e4a5619f",
      "metadata": {
        "id": "e4a5619f",
        "outputId": "f1caf333-886c-42d6-a686-1ec13caeb482"
      },
      "outputs": [
        {
          "data": {
            "text/plain": [
              "<matplotlib.legend.Legend at 0x7f0e3d826500>"
            ]
          },
          "execution_count": 12,
          "metadata": {},
          "output_type": "execute_result"
        },
        {
          "data": {
            "image/png": "[encoded data removed]",
            "text/plain": [
              "<Figure size 640x480 with 1 Axes>"
            ]
          },
          "metadata": {},
          "output_type": "display_data"
        }
      ],
      "source": [
        "# 모델 설명력 그래프 확인\n",
        "plt.plot(para_leaf, train_score, linestyle = \"-\", label = \"Train Score\")\n",
        "plt.plot(para_leaf, test_score, linestyle = \"--\", label = \"Test Score\")\n",
        "plt.ylabel(\"score\"); plt.xlabel(\"min samples leaf\")\n",
        "plt.legend()"
      ]
    },
    {
      "cell_type": "markdown",
      "id": "bb5d3411",
      "metadata": {
        "id": "bb5d3411"
      },
      "source": [
        "### <그래프 확인 결과>\n",
        "- 잎사귀 노드의 최소 자료 수 증가에 따라 모델의 설명력은 감소함\n",
        "- test 데이터의 정확도 변화와 일반화를 고려하여 15를 선택."
      ]
    },
    {
      "cell_type": "markdown",
      "id": "5d300f94",
      "metadata": {
        "id": "5d300f94"
      },
      "source": [
        "## (5) 모델 parameter 조정 : min_samples_split"
      ]
    },
    {
      "cell_type": "code",
      "execution_count": null,
      "id": "3d36a02f",
      "metadata": {
        "id": "3d36a02f",
        "outputId": "e8ee2c74-2f0d-4f83-dac3-a8b5de174b38"
      },
      "outputs": [
        {
          "data": {
            "text/html": [
              "<div>\n",
              "<style scoped>\n",
              "    .dataframe tbody tr th:only-of-type {\n",
              "        vertical-align: middle;\n",
              "    }\n",
              "\n",
              "    .dataframe tbody tr th {\n",
              "        vertical-align: top;\n",
              "    }\n",
              "\n",
              "    .dataframe thead th {\n",
              "        text-align: right;\n",
              "    }\n",
              "</style>\n",
              "<table border=\"1\" class=\"dataframe\">\n",
              "  <thead>\n",
              "    <tr style=\"text-align: right;\">\n",
              "      <th></th>\n",
              "      <th>MinSamplesSplit</th>\n",
              "      <th>TrainScore</th>\n",
              "      <th>TestScore</th>\n",
              "    </tr>\n",
              "  </thead>\n",
              "  <tbody>\n",
              "    <tr>\n",
              "      <th>0</th>\n",
              "      <td>4</td>\n",
              "      <td>0.574</td>\n",
              "      <td>0.483</td>\n",
              "    </tr>\n",
              "    <tr>\n",
              "      <th>1</th>\n",
              "      <td>6</td>\n",
              "      <td>0.574</td>\n",
              "      <td>0.483</td>\n",
              "    </tr>\n",
              "    <tr>\n",
              "      <th>2</th>\n",
              "      <td>8</td>\n",
              "      <td>0.574</td>\n",
              "      <td>0.483</td>\n",
              "    </tr>\n",
              "    <tr>\n",
              "      <th>3</th>\n",
              "      <td>10</td>\n",
              "      <td>0.574</td>\n",
              "      <td>0.483</td>\n",
              "    </tr>\n",
              "    <tr>\n",
              "      <th>4</th>\n",
              "      <td>12</td>\n",
              "      <td>0.574</td>\n",
              "      <td>0.483</td>\n",
              "    </tr>\n",
              "    <tr>\n",
              "      <th>5</th>\n",
              "      <td>14</td>\n",
              "      <td>0.574</td>\n",
              "      <td>0.483</td>\n",
              "    </tr>\n",
              "    <tr>\n",
              "      <th>6</th>\n",
              "      <td>16</td>\n",
              "      <td>0.574</td>\n",
              "      <td>0.483</td>\n",
              "    </tr>\n",
              "    <tr>\n",
              "      <th>7</th>\n",
              "      <td>18</td>\n",
              "      <td>0.574</td>\n",
              "      <td>0.483</td>\n",
              "    </tr>\n",
              "    <tr>\n",
              "      <th>8</th>\n",
              "      <td>20</td>\n",
              "      <td>0.574</td>\n",
              "      <td>0.483</td>\n",
              "    </tr>\n",
              "    <tr>\n",
              "      <th>9</th>\n",
              "      <td>22</td>\n",
              "      <td>0.574</td>\n",
              "      <td>0.483</td>\n",
              "    </tr>\n",
              "    <tr>\n",
              "      <th>10</th>\n",
              "      <td>24</td>\n",
              "      <td>0.574</td>\n",
              "      <td>0.483</td>\n",
              "    </tr>\n",
              "    <tr>\n",
              "      <th>11</th>\n",
              "      <td>26</td>\n",
              "      <td>0.574</td>\n",
              "      <td>0.483</td>\n",
              "    </tr>\n",
              "    <tr>\n",
              "      <th>12</th>\n",
              "      <td>28</td>\n",
              "      <td>0.574</td>\n",
              "      <td>0.483</td>\n",
              "    </tr>\n",
              "    <tr>\n",
              "      <th>13</th>\n",
              "      <td>30</td>\n",
              "      <td>0.574</td>\n",
              "      <td>0.483</td>\n",
              "    </tr>\n",
              "    <tr>\n",
              "      <th>14</th>\n",
              "      <td>32</td>\n",
              "      <td>0.569</td>\n",
              "      <td>0.481</td>\n",
              "    </tr>\n",
              "    <tr>\n",
              "      <th>15</th>\n",
              "      <td>34</td>\n",
              "      <td>0.565</td>\n",
              "      <td>0.479</td>\n",
              "    </tr>\n",
              "    <tr>\n",
              "      <th>16</th>\n",
              "      <td>36</td>\n",
              "      <td>0.563</td>\n",
              "      <td>0.478</td>\n",
              "    </tr>\n",
              "    <tr>\n",
              "      <th>17</th>\n",
              "      <td>38</td>\n",
              "      <td>0.559</td>\n",
              "      <td>0.477</td>\n",
              "    </tr>\n",
              "    <tr>\n",
              "      <th>18</th>\n",
              "      <td>40</td>\n",
              "      <td>0.554</td>\n",
              "      <td>0.476</td>\n",
              "    </tr>\n",
              "  </tbody>\n",
              "</table>\n",
              "</div>"
            ],
            "text/plain": [
              "    MinSamplesSplit  TrainScore  TestScore\n",
              "0                 4       0.574      0.483\n",
              "1                 6       0.574      0.483\n",
              "2                 8       0.574      0.483\n",
              "3                10       0.574      0.483\n",
              "4                12       0.574      0.483\n",
              "5                14       0.574      0.483\n",
              "6                16       0.574      0.483\n",
              "7                18       0.574      0.483\n",
              "8                20       0.574      0.483\n",
              "9                22       0.574      0.483\n",
              "10               24       0.574      0.483\n",
              "11               26       0.574      0.483\n",
              "12               28       0.574      0.483\n",
              "13               30       0.574      0.483\n",
              "14               32       0.569      0.481\n",
              "15               34       0.565      0.479\n",
              "16               36       0.563      0.478\n",
              "17               38       0.559      0.477\n",
              "18               40       0.554      0.476"
            ]
          },
          "execution_count": 13,
          "metadata": {},
          "output_type": "execute_result"
        }
      ],
      "source": [
        "# train 및 test 설명력 결과 저장\n",
        "# train 및 test 설명력 결과 저장\n",
        "train_score = []; test_score = []\n",
        "# min_samples_split: 분할하기 위한 노드의 최소 자료 수\n",
        "para_split = [n_split * 2 for n_split in range(2, 21)]\n",
        "\n",
        "for v_min_samples_split in para_split:\n",
        "    rf = RandomForestRegressor(random_state=1234, n_estimators = 50, min_samples_leaf = 15,\n",
        "                               min_samples_split = v_min_samples_split)\n",
        "    rf.fit(df_train_x, df_train_y)\n",
        "    train_score.append(rf.score(df_train_x, df_train_y))\n",
        "    test_score.append(rf.score(df_test_x, df_test_y))\n",
        "\n",
        "# 데이터 테이블로 저장\n",
        "df_score_split = pd.DataFrame()\n",
        "df_score_split[\"MinSamplesSplit\"] = para_split\n",
        "df_score_split[\"TrainScore\"] = train_score\n",
        "df_score_split[\"TestScore\"] = test_score\n",
        "df_score_split.round(3)"
      ]
    },
    {
      "cell_type": "code",
      "execution_count": null,
      "id": "50550033",
      "metadata": {
        "id": "50550033",
        "outputId": "604ba787-8672-4a67-a8d4-fe51a5fa2f22"
      },
      "outputs": [
        {
          "data": {
            "text/plain": [
              "<matplotlib.legend.Legend at 0x7f0e3d8dd870>"
            ]
          },
          "execution_count": 14,
          "metadata": {},
          "output_type": "execute_result"
        },
        {
          "data": {
            "image/png": "[encoded data removed]",
            "text/plain": [
              "<Figure size 640x480 with 1 Axes>"
            ]
          },
          "metadata": {},
          "output_type": "display_data"
        }
      ],
      "source": [
        "# 모델 설명력 그래프 확인\n",
        "plt.plot(para_split, train_score, linestyle = \"-\", label = \"Train Score\")\n",
        "plt.plot(para_split, test_score, linestyle = \"--\", label = \"Test Score\")\n",
        "plt.ylabel(\"score\"); plt.xlabel(\"min samples split\")\n",
        "plt.legend()"
      ]
    },
    {
      "cell_type": "markdown",
      "id": "bebec47d",
      "metadata": {
        "id": "bebec47d"
      },
      "source": [
        "### <그래프 확인 결과>\n",
        "- 분리 노드 최소 자료 수가 증가에 따라 모델의 설명력은 일정하다가 30에서 떨어지기 시작함.\n",
        "- train, test 데이터의 성능 변화를 고려하여 30을 선택"
      ]
    },
    {
      "cell_type": "markdown",
      "id": "cc718876",
      "metadata": {
        "id": "cc718876"
      },
      "source": [
        "## (6) 모델 parameter 조정 : max_depth"
      ]
    },
    {
      "cell_type": "code",
      "execution_count": null,
      "id": "6fbb59ab",
      "metadata": {
        "id": "6fbb59ab",
        "outputId": "bb357eab-df2a-4270-b7fe-8ad0761dee9c"
      },
      "outputs": [
        {
          "data": {
            "text/html": [
              "<div>\n",
              "<style scoped>\n",
              "    .dataframe tbody tr th:only-of-type {\n",
              "        vertical-align: middle;\n",
              "    }\n",
              "\n",
              "    .dataframe tbody tr th {\n",
              "        vertical-align: top;\n",
              "    }\n",
              "\n",
              "    .dataframe thead th {\n",
              "        text-align: right;\n",
              "    }\n",
              "</style>\n",
              "<table border=\"1\" class=\"dataframe\">\n",
              "  <thead>\n",
              "    <tr style=\"text-align: right;\">\n",
              "      <th></th>\n",
              "      <th>Depth</th>\n",
              "      <th>TrainScore</th>\n",
              "      <th>TestScore</th>\n",
              "    </tr>\n",
              "  </thead>\n",
              "  <tbody>\n",
              "    <tr>\n",
              "      <th>0</th>\n",
              "      <td>1</td>\n",
              "      <td>0.386</td>\n",
              "      <td>0.399</td>\n",
              "    </tr>\n",
              "    <tr>\n",
              "      <th>1</th>\n",
              "      <td>2</td>\n",
              "      <td>0.488</td>\n",
              "      <td>0.469</td>\n",
              "    </tr>\n",
              "    <tr>\n",
              "      <th>2</th>\n",
              "      <td>3</td>\n",
              "      <td>0.546</td>\n",
              "      <td>0.489</td>\n",
              "    </tr>\n",
              "    <tr>\n",
              "      <th>3</th>\n",
              "      <td>4</td>\n",
              "      <td>0.567</td>\n",
              "      <td>0.485</td>\n",
              "    </tr>\n",
              "    <tr>\n",
              "      <th>4</th>\n",
              "      <td>5</td>\n",
              "      <td>0.574</td>\n",
              "      <td>0.484</td>\n",
              "    </tr>\n",
              "    <tr>\n",
              "      <th>5</th>\n",
              "      <td>6</td>\n",
              "      <td>0.574</td>\n",
              "      <td>0.483</td>\n",
              "    </tr>\n",
              "    <tr>\n",
              "      <th>6</th>\n",
              "      <td>7</td>\n",
              "      <td>0.574</td>\n",
              "      <td>0.483</td>\n",
              "    </tr>\n",
              "    <tr>\n",
              "      <th>7</th>\n",
              "      <td>8</td>\n",
              "      <td>0.574</td>\n",
              "      <td>0.483</td>\n",
              "    </tr>\n",
              "    <tr>\n",
              "      <th>8</th>\n",
              "      <td>9</td>\n",
              "      <td>0.574</td>\n",
              "      <td>0.483</td>\n",
              "    </tr>\n",
              "    <tr>\n",
              "      <th>9</th>\n",
              "      <td>10</td>\n",
              "      <td>0.574</td>\n",
              "      <td>0.483</td>\n",
              "    </tr>\n",
              "  </tbody>\n",
              "</table>\n",
              "</div>"
            ],
            "text/plain": [
              "   Depth  TrainScore  TestScore\n",
              "0      1       0.386      0.399\n",
              "1      2       0.488      0.469\n",
              "2      3       0.546      0.489\n",
              "3      4       0.567      0.485\n",
              "4      5       0.574      0.484\n",
              "5      6       0.574      0.483\n",
              "6      7       0.574      0.483\n",
              "7      8       0.574      0.483\n",
              "8      9       0.574      0.483\n",
              "9     10       0.574      0.483"
            ]
          },
          "execution_count": 15,
          "metadata": {},
          "output_type": "execute_result"
        }
      ],
      "source": [
        "# train 및 test 설명력 결과 저장\n",
        "train_score = []; test_score = []\n",
        "# max_depth: 최대 깊이 변경\n",
        "para_depth = [depth for depth in range(1, 11)]\n",
        "\n",
        "for v_max_depth in para_depth:\n",
        "    rf = RandomForestRegressor(random_state=1234, n_estimators = 50,\n",
        "                               min_samples_leaf = 15, min_samples_split = 30,\n",
        "                               max_depth = v_max_depth)\n",
        "    rf.fit(df_train_x, df_train_y)\n",
        "    train_score.append(rf.score(df_train_x, df_train_y))\n",
        "    test_score.append(rf.score(df_test_x, df_test_y))\n",
        "\n",
        "# 데이터 테이블로 저장\n",
        "df_score_depth = pd.DataFrame()\n",
        "df_score_depth[\"Depth\"] = para_depth\n",
        "df_score_depth[\"TrainScore\"] = train_score\n",
        "df_score_depth[\"TestScore\"] = test_score\n",
        "df_score_depth.round(3)"
      ]
    },
    {
      "cell_type": "code",
      "execution_count": null,
      "id": "3ad778f4",
      "metadata": {
        "id": "3ad778f4",
        "outputId": "ae5ff48f-70b5-43c8-f9b3-4488a617c886"
      },
      "outputs": [
        {
          "data": {
            "text/plain": [
              "<matplotlib.legend.Legend at 0x7f0e3d74fd60>"
            ]
          },
          "execution_count": 16,
          "metadata": {},
          "output_type": "execute_result"
        },
        {
          "data": {
            "image/png": "[encoded data removed]",
            "text/plain": [
              "<Figure size 640x480 with 1 Axes>"
            ]
          },
          "metadata": {},
          "output_type": "display_data"
        }
      ],
      "source": [
        "# 모델 설명력 그래프 확인\n",
        "plt.plot(para_depth, train_score, linestyle = \"-\", label = \"Train Score\")\n",
        "plt.plot(para_depth, test_score, linestyle = \"--\", label = \"Test Score\")\n",
        "plt.ylabel(\"score\"); plt.xlabel(\"max depth\")\n",
        "plt.legend()"
      ]
    },
    {
      "cell_type": "markdown",
      "id": "398a5f44",
      "metadata": {
        "id": "398a5f44"
      },
      "source": [
        "### <그래프 확인 결과>\n",
        "- 최대 깊이 증가에 따라 모델의 설명력은 증가함\n",
        "- train, test데이터의 정확도 변화를 고려하여 3으로 선택"
      ]
    },
    {
      "cell_type": "markdown",
      "id": "3895fdf3",
      "metadata": {
        "id": "3895fdf3"
      },
      "source": [
        "## (7) 결론 도출 - 최종 모델 생성"
      ]
    },
    {
      "cell_type": "code",
      "execution_count": null,
      "id": "76a4a3e5",
      "metadata": {
        "id": "76a4a3e5",
        "outputId": "30dca8d4-1d5f-4984-bfaf-0cf35efc3646"
      },
      "outputs": [
        {
          "name": "stdout",
          "output_type": "stream",
          "text": [
            "Score on training set: 0.546\n",
            "Score on test set: 0.489\n"
          ]
        }
      ],
      "source": [
        "rf_final = RandomForestRegressor(random_state=1234, n_estimators = 50, min_samples_leaf = 15,\n",
        "                                 min_samples_split = 30, max_depth = 3)\n",
        "rf_final.fit(df_train_x, df_train_y)\n",
        "# Train 데이터 설명력\n",
        "print(\"Score on training set: {:.3f}\".format(rf_final.score(df_train_x, df_train_y)))\n",
        "# Test 데이터 설명력\n",
        "print(\"Score on test set: {:.3f}\".format(rf_final.score(df_test_x, df_test_y)))"
      ]
    },
    {
      "cell_type": "markdown",
      "id": "0afbc061",
      "metadata": {
        "id": "0afbc061"
      },
      "source": [
        "### <최종 모델의 training set, test set score 비교>\n",
        "- Score on training set: 0.546\n",
        "- Score on test set: 0.489\n",
        "- 기본 옵션으로 설정한 파라미터보다 test 데이터 설명력이 0.455에서 0.489로 소폭 상승함.\n",
        "- training 데이터 설명력이 과적합되어 있던 것이 0.546으로 줄어들었으므로 유의미한 변화가 있음."
      ]
    },
    {
      "cell_type": "code",
      "execution_count": null,
      "id": "de47864a",
      "metadata": {
        "id": "de47864a",
        "outputId": "684b2002-0cd9-40e1-a8dc-b3c4aea7c8ae"
      },
      "outputs": [
        {
          "name": "stdout",
          "output_type": "stream",
          "text": [
            "test data의 실제값 : \n",
            " 353    109\n",
            "29     283\n",
            "173    101\n",
            "131    158\n",
            "387    201\n",
            "92      48\n",
            "40     100\n",
            "261    103\n",
            "64      71\n",
            "74      85\n",
            "Name: Y, dtype: int64\n",
            "test data의 예측값 : \n",
            " [158.0102889  174.86967561 110.54460673  94.25734907 152.52720231\n",
            " 157.745538   157.90507264  97.61964729 113.58984349 140.59608683]\n"
          ]
        }
      ],
      "source": [
        "# 평가용 데이터에 대한 실제값과 예측값(10개) 확인\n",
        "test_pred = rf_final.predict(df_test_x)\n",
        "print('test data의 실제값 : \\n', df_test_y[:10])\n",
        "print('test data의 예측값 : \\n', test_pred[:10])"
      ]
    },
    {
      "cell_type": "code",
      "execution_count": null,
      "id": "0042d2e7",
      "metadata": {
        "id": "0042d2e7",
        "outputId": "15220dd8-7c1d-4c32-a8ec-2854b16f85c6"
      },
      "outputs": [
        {
          "data": {
            "text/plain": [
              "{'bootstrap': True,\n",
              " 'ccp_alpha': 0.0,\n",
              " 'criterion': 'squared_error',\n",
              " 'max_depth': 3,\n",
              " 'max_features': 1.0,\n",
              " 'max_leaf_nodes': None,\n",
              " 'max_samples': None,\n",
              " 'min_impurity_decrease': 0.0,\n",
              " 'min_samples_leaf': 15,\n",
              " 'min_samples_split': 30,\n",
              " 'min_weight_fraction_leaf': 0.0,\n",
              " 'n_estimators': 50,\n",
              " 'n_jobs': None,\n",
              " 'oob_score': False,\n",
              " 'random_state': 1234,\n",
              " 'verbose': 0,\n",
              " 'warm_start': False}"
            ]
          },
          "execution_count": 19,
          "metadata": {},
          "output_type": "execute_result"
        }
      ],
      "source": [
        "#파라미터 값 확인\n",
        "rf_final.get_params()\n",
        "\n",
        "# <최종 모델의 하이퍼 파라미터>\n",
        "# n_estimators : 50\n",
        "# min_samples_leaf : 15\n",
        "# min_samples_split : 30\n",
        "# max_depth : 3"
      ]
    },
    {
      "cell_type": "code",
      "execution_count": null,
      "id": "cc60859d",
      "metadata": {
        "id": "cc60859d",
        "outputId": "b520443a-c8b2-4442-95a9-648dcabe13e9"
      },
      "outputs": [
        {
          "data": {
            "image/svg+xml": [
              "<?xml version=\"1.0\" encoding=\"UTF-8\" standalone=\"no\"?>\n",
              "<!DOCTYPE svg PUBLIC \"-//W3C//DTD SVG 1.1//EN\"\n",
              " \"http://www.w3.org/Graphics/SVG/1.1/DTD/svg11.dtd\">\n",
              "<!-- Generated by graphviz version 2.50.0 (0)\n",
              " -->\n",
              "<!-- Title: Tree Pages: 1 -->\n",
              "<svg width=\"1301pt\" height=\"373pt\"\n",
              " viewBox=\"0.00 0.00 1301.00 373.00\" xmlns=\"http://www.w3.org/2000/svg\" xmlns:xlink=\"http://www.w3.org/1999/xlink\">\n",
              "<g id=\"graph0\" class=\"graph\" transform=\"scale(1 1) rotate(0) translate(4 369)\">\n",
              "<title>Tree</title>\n",
              "<polygon fill=\"white\" stroke=\"transparent\" points=\"-4,4 -4,-369 1297,-369 1297,4 -4,4\"/>\n",
              "<!-- 0 -->\n",
              "<g id=\"node1\" class=\"node\">\n",
              "<title>0</title>\n",
              "<polygon fill=\"#f5cfb3\" stroke=\"black\" points=\"747,-365 546,-365 546,-297 747,-297 747,-365\"/>\n",
              "<text text-anchor=\"middle\" x=\"646.5\" y=\"-349.8\" font-family=\"Helvetica,sans-Serif\" font-size=\"14.00\">BMI &lt;= 26.85</text>\n",
              "<text text-anchor=\"middle\" x=\"646.5\" y=\"-334.8\" font-family=\"Helvetica,sans-Serif\" font-size=\"14.00\">squared_error = 6815.251</text>\n",
              "<text text-anchor=\"middle\" x=\"646.5\" y=\"-319.8\" font-family=\"Helvetica,sans-Serif\" font-size=\"14.00\">samples = 199</text>\n",
              "<text text-anchor=\"middle\" x=\"646.5\" y=\"-304.8\" font-family=\"Helvetica,sans-Serif\" font-size=\"14.00\">value = 153.314</text>\n",
              "</g>\n",
              "<!-- 1 -->\n",
              "<g id=\"node2\" class=\"node\">\n",
              "<title>1</title>\n",
              "<polygon fill=\"#fbeadd\" stroke=\"black\" points=\"638,-261 437,-261 437,-193 638,-193 638,-261\"/>\n",
              "<text text-anchor=\"middle\" x=\"537.5\" y=\"-245.8\" font-family=\"Helvetica,sans-Serif\" font-size=\"14.00\">LTG &lt;= 4.714</text>\n",
              "<text text-anchor=\"middle\" x=\"537.5\" y=\"-230.8\" font-family=\"Helvetica,sans-Serif\" font-size=\"14.00\">squared_error = 3329.935</text>\n",
              "<text text-anchor=\"middle\" x=\"537.5\" y=\"-215.8\" font-family=\"Helvetica,sans-Serif\" font-size=\"14.00\">samples = 117</text>\n",
              "<text text-anchor=\"middle\" x=\"537.5\" y=\"-200.8\" font-family=\"Helvetica,sans-Serif\" font-size=\"14.00\">value = 111.979</text>\n",
              "</g>\n",
              "<!-- 0&#45;&gt;1 -->\n",
              "<g id=\"edge1\" class=\"edge\">\n",
              "<title>0&#45;&gt;1</title>\n",
              "<path fill=\"none\" stroke=\"black\" d=\"M611.11,-296.88C601.4,-287.8 590.77,-277.85 580.67,-268.4\"/>\n",
              "<polygon fill=\"black\" stroke=\"black\" points=\"582.78,-265.58 573.08,-261.3 577.99,-270.69 582.78,-265.58\"/>\n",
              "<text text-anchor=\"middle\" x=\"573.91\" y=\"-282.59\" font-family=\"Helvetica,sans-Serif\" font-size=\"14.00\">True</text>\n",
              "</g>\n",
              "<!-- 8 -->\n",
              "<g id=\"node9\" class=\"node\">\n",
              "<title>8</title>\n",
              "<polygon fill=\"#eca572\" stroke=\"black\" points=\"857,-261 656,-261 656,-193 857,-193 857,-261\"/>\n",
              "<text text-anchor=\"middle\" x=\"756.5\" y=\"-245.8\" font-family=\"Helvetica,sans-Serif\" font-size=\"14.00\">LTG &lt;= 4.413</text>\n",
              "<text text-anchor=\"middle\" x=\"756.5\" y=\"-230.8\" font-family=\"Helvetica,sans-Serif\" font-size=\"14.00\">squared_error = 5524.302</text>\n",
              "<text text-anchor=\"middle\" x=\"756.5\" y=\"-215.8\" font-family=\"Helvetica,sans-Serif\" font-size=\"14.00\">samples = 82</text>\n",
              "<text text-anchor=\"middle\" x=\"756.5\" y=\"-200.8\" font-family=\"Helvetica,sans-Serif\" font-size=\"14.00\">value = 216.672</text>\n",
              "</g>\n",
              "<!-- 0&#45;&gt;8 -->\n",
              "<g id=\"edge8\" class=\"edge\">\n",
              "<title>0&#45;&gt;8</title>\n",
              "<path fill=\"none\" stroke=\"black\" d=\"M682.21,-296.88C692.11,-287.71 702.96,-277.65 713.23,-268.12\"/>\n",
              "<polygon fill=\"black\" stroke=\"black\" points=\"715.64,-270.67 720.59,-261.3 710.88,-265.53 715.64,-270.67\"/>\n",
              "<text text-anchor=\"middle\" x=\"719.65\" y=\"-282.58\" font-family=\"Helvetica,sans-Serif\" font-size=\"14.00\">False</text>\n",
              "</g>\n",
              "<!-- 2 -->\n",
              "<g id=\"node3\" class=\"node\">\n",
              "<title>2</title>\n",
              "<polygon fill=\"#fdf4ed\" stroke=\"black\" points=\"419,-157 218,-157 218,-89 419,-89 419,-157\"/>\n",
              "<text text-anchor=\"middle\" x=\"318.5\" y=\"-141.8\" font-family=\"Helvetica,sans-Serif\" font-size=\"14.00\">HDL &lt;= 55.5</text>\n",
              "<text text-anchor=\"middle\" x=\"318.5\" y=\"-126.8\" font-family=\"Helvetica,sans-Serif\" font-size=\"14.00\">squared_error = 2490.371</text>\n",
              "<text text-anchor=\"middle\" x=\"318.5\" y=\"-111.8\" font-family=\"Helvetica,sans-Serif\" font-size=\"14.00\">samples = 85</text>\n",
              "<text text-anchor=\"middle\" x=\"318.5\" y=\"-96.8\" font-family=\"Helvetica,sans-Serif\" font-size=\"14.00\">value = 96.265</text>\n",
              "</g>\n",
              "<!-- 1&#45;&gt;2 -->\n",
              "<g id=\"edge2\" class=\"edge\">\n",
              "<title>1&#45;&gt;2</title>\n",
              "<path fill=\"none\" stroke=\"black\" d=\"M466.4,-192.88C444.87,-182.86 421.07,-171.77 398.98,-161.48\"/>\n",
              "<polygon fill=\"black\" stroke=\"black\" points=\"400.16,-158.17 389.62,-157.12 397.21,-164.52 400.16,-158.17\"/>\n",
              "</g>\n",
              "<!-- 5 -->\n",
              "<g id=\"node6\" class=\"node\">\n",
              "<title>5</title>\n",
              "<polygon fill=\"#f5ceb2\" stroke=\"black\" points=\"638,-157 437,-157 437,-89 638,-89 638,-157\"/>\n",
              "<text text-anchor=\"middle\" x=\"537.5\" y=\"-141.8\" font-family=\"Helvetica,sans-Serif\" font-size=\"14.00\">BMI &lt;= 24.25</text>\n",
              "<text text-anchor=\"middle\" x=\"537.5\" y=\"-126.8\" font-family=\"Helvetica,sans-Serif\" font-size=\"14.00\">squared_error = 3154.378</text>\n",
              "<text text-anchor=\"middle\" x=\"537.5\" y=\"-111.8\" font-family=\"Helvetica,sans-Serif\" font-size=\"14.00\">samples = 32</text>\n",
              "<text text-anchor=\"middle\" x=\"537.5\" y=\"-96.8\" font-family=\"Helvetica,sans-Serif\" font-size=\"14.00\">value = 153.882</text>\n",
              "</g>\n",
              "<!-- 1&#45;&gt;5 -->\n",
              "<g id=\"edge5\" class=\"edge\">\n",
              "<title>1&#45;&gt;5</title>\n",
              "<path fill=\"none\" stroke=\"black\" d=\"M537.5,-192.88C537.5,-184.78 537.5,-175.98 537.5,-167.47\"/>\n",
              "<polygon fill=\"black\" stroke=\"black\" points=\"541,-167.3 537.5,-157.3 534,-167.3 541,-167.3\"/>\n",
              "</g>\n",
              "<!-- 3 -->\n",
              "<g id=\"node4\" class=\"node\">\n",
              "<title>3</title>\n",
              "<polygon fill=\"#fbeadf\" stroke=\"black\" points=\"201,-53 0,-53 0,0 201,0 201,-53\"/>\n",
              "<text text-anchor=\"middle\" x=\"100.5\" y=\"-37.8\" font-family=\"Helvetica,sans-Serif\" font-size=\"14.00\">squared_error = 3182.322</text>\n",
              "<text text-anchor=\"middle\" x=\"100.5\" y=\"-22.8\" font-family=\"Helvetica,sans-Serif\" font-size=\"14.00\">samples = 46</text>\n",
              "<text text-anchor=\"middle\" x=\"100.5\" y=\"-7.8\" font-family=\"Helvetica,sans-Serif\" font-size=\"14.00\">value = 110.595</text>\n",
              "</g>\n",
              "<!-- 2&#45;&gt;3 -->\n",
              "<g id=\"edge3\" class=\"edge\">\n",
              "<title>2&#45;&gt;3</title>\n",
              "<path fill=\"none\" stroke=\"black\" d=\"M242.25,-88.95C218.41,-78.61 192.25,-67.27 168.97,-57.18\"/>\n",
              "<polygon fill=\"black\" stroke=\"black\" points=\"170.09,-53.85 159.53,-53.09 167.31,-60.28 170.09,-53.85\"/>\n",
              "</g>\n",
              "<!-- 4 -->\n",
              "<g id=\"node5\" class=\"node\">\n",
              "<title>4</title>\n",
              "<polygon fill=\"#ffffff\" stroke=\"black\" points=\"420,-53 219,-53 219,0 420,0 420,-53\"/>\n",
              "<text text-anchor=\"middle\" x=\"319.5\" y=\"-37.8\" font-family=\"Helvetica,sans-Serif\" font-size=\"14.00\">squared_error = 1126.877</text>\n",
              "<text text-anchor=\"middle\" x=\"319.5\" y=\"-22.8\" font-family=\"Helvetica,sans-Serif\" font-size=\"14.00\">samples = 39</text>\n",
              "<text text-anchor=\"middle\" x=\"319.5\" y=\"-7.8\" font-family=\"Helvetica,sans-Serif\" font-size=\"14.00\">value = 79.161</text>\n",
              "</g>\n",
              "<!-- 2&#45;&gt;4 -->\n",
              "<g id=\"edge4\" class=\"edge\">\n",
              "<title>2&#45;&gt;4</title>\n",
              "<path fill=\"none\" stroke=\"black\" d=\"M318.85,-88.95C318.94,-80.72 319.03,-71.85 319.12,-63.48\"/>\n",
              "<polygon fill=\"black\" stroke=\"black\" points=\"322.62,-63.27 319.23,-53.24 315.62,-63.2 322.62,-63.27\"/>\n",
              "</g>\n",
              "<!-- 6 -->\n",
              "<g id=\"node7\" class=\"node\">\n",
              "<title>6</title>\n",
              "<polygon fill=\"#f8dcc9\" stroke=\"black\" points=\"632.5,-53 440.5,-53 440.5,0 632.5,0 632.5,-53\"/>\n",
              "<text text-anchor=\"middle\" x=\"536.5\" y=\"-37.8\" font-family=\"Helvetica,sans-Serif\" font-size=\"14.00\">squared_error = 1827.46</text>\n",
              "<text text-anchor=\"middle\" x=\"536.5\" y=\"-22.8\" font-family=\"Helvetica,sans-Serif\" font-size=\"14.00\">samples = 16</text>\n",
              "<text text-anchor=\"middle\" x=\"536.5\" y=\"-7.8\" font-family=\"Helvetica,sans-Serif\" font-size=\"14.00\">value = 132.148</text>\n",
              "</g>\n",
              "<!-- 5&#45;&gt;6 -->\n",
              "<g id=\"edge6\" class=\"edge\">\n",
              "<title>5&#45;&gt;6</title>\n",
              "<path fill=\"none\" stroke=\"black\" d=\"M537.15,-88.95C537.06,-80.72 536.97,-71.85 536.88,-63.48\"/>\n",
              "<polygon fill=\"black\" stroke=\"black\" points=\"540.38,-63.2 536.77,-53.24 533.38,-63.27 540.38,-63.2\"/>\n",
              "</g>\n",
              "<!-- 7 -->\n",
              "<g id=\"node8\" class=\"node\">\n",
              "<title>7</title>\n",
              "<polygon fill=\"#f2be99\" stroke=\"black\" points=\"852,-53 651,-53 651,0 852,0 852,-53\"/>\n",
              "<text text-anchor=\"middle\" x=\"751.5\" y=\"-37.8\" font-family=\"Helvetica,sans-Serif\" font-size=\"14.00\">squared_error = 3517.889</text>\n",
              "<text text-anchor=\"middle\" x=\"751.5\" y=\"-22.8\" font-family=\"Helvetica,sans-Serif\" font-size=\"14.00\">samples = 16</text>\n",
              "<text text-anchor=\"middle\" x=\"751.5\" y=\"-7.8\" font-family=\"Helvetica,sans-Serif\" font-size=\"14.00\">value = 178.333</text>\n",
              "</g>\n",
              "<!-- 5&#45;&gt;7 -->\n",
              "<g id=\"edge7\" class=\"edge\">\n",
              "<title>5&#45;&gt;7</title>\n",
              "<path fill=\"none\" stroke=\"black\" d=\"M612.35,-88.95C635.76,-78.61 661.43,-67.27 684.29,-57.18\"/>\n",
              "<polygon fill=\"black\" stroke=\"black\" points=\"685.82,-60.33 693.56,-53.09 683,-53.92 685.82,-60.33\"/>\n",
              "</g>\n",
              "<!-- 9 -->\n",
              "<g id=\"node10\" class=\"node\">\n",
              "<title>9</title>\n",
              "<polygon fill=\"#f6d3ba\" stroke=\"black\" points=\"857,-149.5 656,-149.5 656,-96.5 857,-96.5 857,-149.5\"/>\n",
              "<text text-anchor=\"middle\" x=\"756.5\" y=\"-134.3\" font-family=\"Helvetica,sans-Serif\" font-size=\"14.00\">squared_error = 4089.089</text>\n",
              "<text text-anchor=\"middle\" x=\"756.5\" y=\"-119.3\" font-family=\"Helvetica,sans-Serif\" font-size=\"14.00\">samples = 17</text>\n",
              "<text text-anchor=\"middle\" x=\"756.5\" y=\"-104.3\" font-family=\"Helvetica,sans-Serif\" font-size=\"14.00\">value = 146.852</text>\n",
              "</g>\n",
              "<!-- 8&#45;&gt;9 -->\n",
              "<g id=\"edge9\" class=\"edge\">\n",
              "<title>8&#45;&gt;9</title>\n",
              "<path fill=\"none\" stroke=\"black\" d=\"M756.5,-192.88C756.5,-182.33 756.5,-170.6 756.5,-159.85\"/>\n",
              "<polygon fill=\"black\" stroke=\"black\" points=\"760,-159.52 756.5,-149.52 753,-159.52 760,-159.52\"/>\n",
              "</g>\n",
              "<!-- 10 -->\n",
              "<g id=\"node11\" class=\"node\">\n",
              "<title>10</title>\n",
              "<polygon fill=\"#ea985d\" stroke=\"black\" points=\"1076,-157 875,-157 875,-89 1076,-89 1076,-157\"/>\n",
              "<text text-anchor=\"middle\" x=\"975.5\" y=\"-141.8\" font-family=\"Helvetica,sans-Serif\" font-size=\"14.00\">HDL &lt;= 38.5</text>\n",
              "<text text-anchor=\"middle\" x=\"975.5\" y=\"-126.8\" font-family=\"Helvetica,sans-Serif\" font-size=\"14.00\">squared_error = 4152.944</text>\n",
              "<text text-anchor=\"middle\" x=\"975.5\" y=\"-111.8\" font-family=\"Helvetica,sans-Serif\" font-size=\"14.00\">samples = 65</text>\n",
              "<text text-anchor=\"middle\" x=\"975.5\" y=\"-96.8\" font-family=\"Helvetica,sans-Serif\" font-size=\"14.00\">value = 236.516</text>\n",
              "</g>\n",
              "<!-- 8&#45;&gt;10 -->\n",
              "<g id=\"edge10\" class=\"edge\">\n",
              "<title>8&#45;&gt;10</title>\n",
              "<path fill=\"none\" stroke=\"black\" d=\"M827.6,-192.88C849.13,-182.86 872.93,-171.77 895.02,-161.48\"/>\n",
              "<polygon fill=\"black\" stroke=\"black\" points=\"896.79,-164.52 904.38,-157.12 893.84,-158.17 896.79,-164.52\"/>\n",
              "</g>\n",
              "<!-- 11 -->\n",
              "<g id=\"node12\" class=\"node\">\n",
              "<title>11</title>\n",
              "<polygon fill=\"#e58139\" stroke=\"black\" points=\"1074,-53 873,-53 873,0 1074,0 1074,-53\"/>\n",
              "<text text-anchor=\"middle\" x=\"973.5\" y=\"-37.8\" font-family=\"Helvetica,sans-Serif\" font-size=\"14.00\">squared_error = 2546.216</text>\n",
              "<text text-anchor=\"middle\" x=\"973.5\" y=\"-22.8\" font-family=\"Helvetica,sans-Serif\" font-size=\"14.00\">samples = 17</text>\n",
              "<text text-anchor=\"middle\" x=\"973.5\" y=\"-7.8\" font-family=\"Helvetica,sans-Serif\" font-size=\"14.00\">value = 272.043</text>\n",
              "</g>\n",
              "<!-- 10&#45;&gt;11 -->\n",
              "<g id=\"edge11\" class=\"edge\">\n",
              "<title>10&#45;&gt;11</title>\n",
              "<path fill=\"none\" stroke=\"black\" d=\"M974.8,-88.95C974.63,-80.72 974.44,-71.85 974.26,-63.48\"/>\n",
              "<polygon fill=\"black\" stroke=\"black\" points=\"977.76,-63.16 974.04,-53.24 970.76,-63.31 977.76,-63.16\"/>\n",
              "</g>\n",
              "<!-- 12 -->\n",
              "<g id=\"node13\" class=\"node\">\n",
              "<title>12</title>\n",
              "<polygon fill=\"#eba069\" stroke=\"black\" points=\"1293,-53 1092,-53 1092,0 1293,0 1293,-53\"/>\n",
              "<text text-anchor=\"middle\" x=\"1192.5\" y=\"-37.8\" font-family=\"Helvetica,sans-Serif\" font-size=\"14.00\">squared_error = 4134.194</text>\n",
              "<text text-anchor=\"middle\" x=\"1192.5\" y=\"-22.8\" font-family=\"Helvetica,sans-Serif\" font-size=\"14.00\">samples = 48</text>\n",
              "<text text-anchor=\"middle\" x=\"1192.5\" y=\"-7.8\" font-family=\"Helvetica,sans-Serif\" font-size=\"14.00\">value = 225.167</text>\n",
              "</g>\n",
              "<!-- 10&#45;&gt;12 -->\n",
              "<g id=\"edge12\" class=\"edge\">\n",
              "<title>10&#45;&gt;12</title>\n",
              "<path fill=\"none\" stroke=\"black\" d=\"M1051.4,-88.95C1075.14,-78.61 1101.17,-67.27 1124.34,-57.18\"/>\n",
              "<polygon fill=\"black\" stroke=\"black\" points=\"1125.97,-60.29 1133.75,-53.09 1123.18,-53.87 1125.97,-60.29\"/>\n",
              "</g>\n",
              "</g>\n",
              "</svg>\n"
            ],
            "text/plain": [
              "<graphviz.sources.Source at 0x7f0e3d7bb970>"
            ]
          },
          "metadata": {},
          "output_type": "display_data"
        }
      ],
      "source": [
        "# 0번 트리 확인\n",
        "v_feature_name = df_train_x.columns\n",
        "export_graphviz(rf_final.estimators_[0], out_file=\"rfr_final_0.dot\", feature_names = v_feature_name ,\n",
        "                impurity = True, filled = True)\n",
        "with open(\"rfr_final_0.dot\") as f:\n",
        "    dot_graph = f.read()\n",
        "display(graphviz.Source(dot_graph))"
      ]
    },
    {
      "cell_type": "code",
      "execution_count": null,
      "id": "ebf54113",
      "metadata": {
        "id": "ebf54113",
        "outputId": "1043536b-8c1f-4bd9-da4d-adc2afaac2d4"
      },
      "outputs": [
        {
          "data": {
            "image/svg+xml": [
              "<?xml version=\"1.0\" encoding=\"UTF-8\" standalone=\"no\"?>\n",
              "<!DOCTYPE svg PUBLIC \"-//W3C//DTD SVG 1.1//EN\"\n",
              " \"http://www.w3.org/Graphics/SVG/1.1/DTD/svg11.dtd\">\n",
              "<!-- Generated by graphviz version 2.50.0 (0)\n",
              " -->\n",
              "<!-- Title: Tree Pages: 1 -->\n",
              "<svg width=\"1304pt\" height=\"373pt\"\n",
              " viewBox=\"0.00 0.00 1304.00 373.00\" xmlns=\"http://www.w3.org/2000/svg\" xmlns:xlink=\"http://www.w3.org/1999/xlink\">\n",
              "<g id=\"graph0\" class=\"graph\" transform=\"scale(1 1) rotate(0) translate(4 369)\">\n",
              "<title>Tree</title>\n",
              "<polygon fill=\"white\" stroke=\"transparent\" points=\"-4,4 -4,-369 1300,-369 1300,4 -4,4\"/>\n",
              "<!-- 0 -->\n",
              "<g id=\"node1\" class=\"node\">\n",
              "<title>0</title>\n",
              "<polygon fill=\"#f5d0b6\" stroke=\"black\" points=\"967,-365 766,-365 766,-297 967,-297 967,-365\"/>\n",
              "<text text-anchor=\"middle\" x=\"866.5\" y=\"-349.8\" font-family=\"Helvetica,sans-Serif\" font-size=\"14.00\">LTG &lt;= 4.824</text>\n",
              "<text text-anchor=\"middle\" x=\"866.5\" y=\"-334.8\" font-family=\"Helvetica,sans-Serif\" font-size=\"14.00\">squared_error = 5958.392</text>\n",
              "<text text-anchor=\"middle\" x=\"866.5\" y=\"-319.8\" font-family=\"Helvetica,sans-Serif\" font-size=\"14.00\">samples = 198</text>\n",
              "<text text-anchor=\"middle\" x=\"866.5\" y=\"-304.8\" font-family=\"Helvetica,sans-Serif\" font-size=\"14.00\">value = 148.699</text>\n",
              "</g>\n",
              "<!-- 1 -->\n",
              "<g id=\"node2\" class=\"node\">\n",
              "<title>1</title>\n",
              "<polygon fill=\"#fae7d9\" stroke=\"black\" points=\"748,-261 547,-261 547,-193 748,-193 748,-261\"/>\n",
              "<text text-anchor=\"middle\" x=\"647.5\" y=\"-245.8\" font-family=\"Helvetica,sans-Serif\" font-size=\"14.00\">BMI &lt;= 26.85</text>\n",
              "<text text-anchor=\"middle\" x=\"647.5\" y=\"-230.8\" font-family=\"Helvetica,sans-Serif\" font-size=\"14.00\">squared_error = 3560.162</text>\n",
              "<text text-anchor=\"middle\" x=\"647.5\" y=\"-215.8\" font-family=\"Helvetica,sans-Serif\" font-size=\"14.00\">samples = 132</text>\n",
              "<text text-anchor=\"middle\" x=\"647.5\" y=\"-200.8\" font-family=\"Helvetica,sans-Serif\" font-size=\"14.00\">value = 117.361</text>\n",
              "</g>\n",
              "<!-- 0&#45;&gt;1 -->\n",
              "<g id=\"edge1\" class=\"edge\">\n",
              "<title>0&#45;&gt;1</title>\n",
              "<path fill=\"none\" stroke=\"black\" d=\"M795.4,-296.88C773.87,-286.86 750.07,-275.77 727.98,-265.48\"/>\n",
              "<polygon fill=\"black\" stroke=\"black\" points=\"729.16,-262.17 718.62,-261.12 726.21,-268.52 729.16,-262.17\"/>\n",
              "<text text-anchor=\"middle\" x=\"727.18\" y=\"-280.91\" font-family=\"Helvetica,sans-Serif\" font-size=\"14.00\">True</text>\n",
              "</g>\n",
              "<!-- 8 -->\n",
              "<g id=\"node9\" class=\"node\">\n",
              "<title>8</title>\n",
              "<polygon fill=\"#eca572\" stroke=\"black\" points=\"1077,-261 876,-261 876,-193 1077,-193 1077,-261\"/>\n",
              "<text text-anchor=\"middle\" x=\"976.5\" y=\"-245.8\" font-family=\"Helvetica,sans-Serif\" font-size=\"14.00\">BP &lt;= 111.5</text>\n",
              "<text text-anchor=\"middle\" x=\"976.5\" y=\"-230.8\" font-family=\"Helvetica,sans-Serif\" font-size=\"14.00\">squared_error = 4934.057</text>\n",
              "<text text-anchor=\"middle\" x=\"976.5\" y=\"-215.8\" font-family=\"Helvetica,sans-Serif\" font-size=\"14.00\">samples = 66</text>\n",
              "<text text-anchor=\"middle\" x=\"976.5\" y=\"-200.8\" font-family=\"Helvetica,sans-Serif\" font-size=\"14.00\">value = 210.471</text>\n",
              "</g>\n",
              "<!-- 0&#45;&gt;8 -->\n",
              "<g id=\"edge8\" class=\"edge\">\n",
              "<title>0&#45;&gt;8</title>\n",
              "<path fill=\"none\" stroke=\"black\" d=\"M902.21,-296.88C912.11,-287.71 922.96,-277.65 933.23,-268.12\"/>\n",
              "<polygon fill=\"black\" stroke=\"black\" points=\"935.64,-270.67 940.59,-261.3 930.88,-265.53 935.64,-270.67\"/>\n",
              "<text text-anchor=\"middle\" x=\"939.65\" y=\"-282.58\" font-family=\"Helvetica,sans-Serif\" font-size=\"14.00\">False</text>\n",
              "</g>\n",
              "<!-- 2 -->\n",
              "<g id=\"node3\" class=\"node\">\n",
              "<title>2</title>\n",
              "<polygon fill=\"#fcf0e8\" stroke=\"black\" points=\"420,-157 219,-157 219,-89 420,-89 420,-157\"/>\n",
              "<text text-anchor=\"middle\" x=\"319.5\" y=\"-141.8\" font-family=\"Helvetica,sans-Serif\" font-size=\"14.00\">HDL &lt;= 55.5</text>\n",
              "<text text-anchor=\"middle\" x=\"319.5\" y=\"-126.8\" font-family=\"Helvetica,sans-Serif\" font-size=\"14.00\">squared_error = 2192.611</text>\n",
              "<text text-anchor=\"middle\" x=\"319.5\" y=\"-111.8\" font-family=\"Helvetica,sans-Serif\" font-size=\"14.00\">samples = 102</text>\n",
              "<text text-anchor=\"middle\" x=\"319.5\" y=\"-96.8\" font-family=\"Helvetica,sans-Serif\" font-size=\"14.00\">value = 103.303</text>\n",
              "</g>\n",
              "<!-- 1&#45;&gt;2 -->\n",
              "<g id=\"edge2\" class=\"edge\">\n",
              "<title>1&#45;&gt;2</title>\n",
              "<path fill=\"none\" stroke=\"black\" d=\"M546.86,-194.7C509.95,-183.23 467.99,-170.18 430.24,-158.44\"/>\n",
              "<polygon fill=\"black\" stroke=\"black\" points=\"430.82,-154.95 420.23,-155.33 428.74,-161.64 430.82,-154.95\"/>\n",
              "</g>\n",
              "<!-- 5 -->\n",
              "<g id=\"node6\" class=\"node\">\n",
              "<title>5</title>\n",
              "<polygon fill=\"#f2be98\" stroke=\"black\" points=\"748,-157 547,-157 547,-89 748,-89 748,-157\"/>\n",
              "<text text-anchor=\"middle\" x=\"647.5\" y=\"-141.8\" font-family=\"Helvetica,sans-Serif\" font-size=\"14.00\">BP &lt;= 101.0</text>\n",
              "<text text-anchor=\"middle\" x=\"647.5\" y=\"-126.8\" font-family=\"Helvetica,sans-Serif\" font-size=\"14.00\">squared_error = 5023.378</text>\n",
              "<text text-anchor=\"middle\" x=\"647.5\" y=\"-111.8\" font-family=\"Helvetica,sans-Serif\" font-size=\"14.00\">samples = 30</text>\n",
              "<text text-anchor=\"middle\" x=\"647.5\" y=\"-96.8\" font-family=\"Helvetica,sans-Serif\" font-size=\"14.00\">value = 175.35</text>\n",
              "</g>\n",
              "<!-- 1&#45;&gt;5 -->\n",
              "<g id=\"edge5\" class=\"edge\">\n",
              "<title>1&#45;&gt;5</title>\n",
              "<path fill=\"none\" stroke=\"black\" d=\"M647.5,-192.88C647.5,-184.78 647.5,-175.98 647.5,-167.47\"/>\n",
              "<polygon fill=\"black\" stroke=\"black\" points=\"651,-167.3 647.5,-157.3 644,-167.3 651,-167.3\"/>\n",
              "</g>\n",
              "<!-- 3 -->\n",
              "<g id=\"node4\" class=\"node\">\n",
              "<title>3</title>\n",
              "<polygon fill=\"#fae5d6\" stroke=\"black\" points=\"201,-53 0,-53 0,0 201,0 201,-53\"/>\n",
              "<text text-anchor=\"middle\" x=\"100.5\" y=\"-37.8\" font-family=\"Helvetica,sans-Serif\" font-size=\"14.00\">squared_error = 2519.638</text>\n",
              "<text text-anchor=\"middle\" x=\"100.5\" y=\"-22.8\" font-family=\"Helvetica,sans-Serif\" font-size=\"14.00\">samples = 60</text>\n",
              "<text text-anchor=\"middle\" x=\"100.5\" y=\"-7.8\" font-family=\"Helvetica,sans-Serif\" font-size=\"14.00\">value = 119.717</text>\n",
              "</g>\n",
              "<!-- 2&#45;&gt;3 -->\n",
              "<g id=\"edge3\" class=\"edge\">\n",
              "<title>2&#45;&gt;3</title>\n",
              "<path fill=\"none\" stroke=\"black\" d=\"M242.9,-88.95C218.95,-78.61 192.67,-67.27 169.28,-57.18\"/>\n",
              "<polygon fill=\"black\" stroke=\"black\" points=\"170.36,-53.84 159.8,-53.09 167.59,-60.26 170.36,-53.84\"/>\n",
              "</g>\n",
              "<!-- 4 -->\n",
              "<g id=\"node5\" class=\"node\">\n",
              "<title>4</title>\n",
              "<polygon fill=\"#ffffff\" stroke=\"black\" points=\"420,-53 219,-53 219,0 420,0 420,-53\"/>\n",
              "<text text-anchor=\"middle\" x=\"319.5\" y=\"-37.8\" font-family=\"Helvetica,sans-Serif\" font-size=\"14.00\">squared_error = 1012.976</text>\n",
              "<text text-anchor=\"middle\" x=\"319.5\" y=\"-22.8\" font-family=\"Helvetica,sans-Serif\" font-size=\"14.00\">samples = 42</text>\n",
              "<text text-anchor=\"middle\" x=\"319.5\" y=\"-7.8\" font-family=\"Helvetica,sans-Serif\" font-size=\"14.00\">value = 82.616</text>\n",
              "</g>\n",
              "<!-- 2&#45;&gt;4 -->\n",
              "<g id=\"edge4\" class=\"edge\">\n",
              "<title>2&#45;&gt;4</title>\n",
              "<path fill=\"none\" stroke=\"black\" d=\"M319.5,-88.95C319.5,-80.72 319.5,-71.85 319.5,-63.48\"/>\n",
              "<polygon fill=\"black\" stroke=\"black\" points=\"323,-63.24 319.5,-53.24 316,-63.24 323,-63.24\"/>\n",
              "</g>\n",
              "<!-- 6 -->\n",
              "<g id=\"node7\" class=\"node\">\n",
              "<title>6</title>\n",
              "<polygon fill=\"#f6d4bb\" stroke=\"black\" points=\"639,-53 438,-53 438,0 639,0 639,-53\"/>\n",
              "<text text-anchor=\"middle\" x=\"538.5\" y=\"-37.8\" font-family=\"Helvetica,sans-Serif\" font-size=\"14.00\">squared_error = 1890.966</text>\n",
              "<text text-anchor=\"middle\" x=\"538.5\" y=\"-22.8\" font-family=\"Helvetica,sans-Serif\" font-size=\"14.00\">samples = 15</text>\n",
              "<text text-anchor=\"middle\" x=\"538.5\" y=\"-7.8\" font-family=\"Helvetica,sans-Serif\" font-size=\"14.00\">value = 143.714</text>\n",
              "</g>\n",
              "<!-- 5&#45;&gt;6 -->\n",
              "<g id=\"edge6\" class=\"edge\">\n",
              "<title>5&#45;&gt;6</title>\n",
              "<path fill=\"none\" stroke=\"black\" d=\"M609.38,-88.95C598.51,-79.53 586.68,-69.27 575.86,-59.89\"/>\n",
              "<polygon fill=\"black\" stroke=\"black\" points=\"578.03,-57.14 568.19,-53.24 573.45,-62.43 578.03,-57.14\"/>\n",
              "</g>\n",
              "<!-- 7 -->\n",
              "<g id=\"node8\" class=\"node\">\n",
              "<title>7</title>\n",
              "<polygon fill=\"#eca572\" stroke=\"black\" points=\"858,-53 657,-53 657,0 858,0 858,-53\"/>\n",
              "<text text-anchor=\"middle\" x=\"757.5\" y=\"-37.8\" font-family=\"Helvetica,sans-Serif\" font-size=\"14.00\">squared_error = 6156.742</text>\n",
              "<text text-anchor=\"middle\" x=\"757.5\" y=\"-22.8\" font-family=\"Helvetica,sans-Serif\" font-size=\"14.00\">samples = 15</text>\n",
              "<text text-anchor=\"middle\" x=\"757.5\" y=\"-7.8\" font-family=\"Helvetica,sans-Serif\" font-size=\"14.00\">value = 210.316</text>\n",
              "</g>\n",
              "<!-- 5&#45;&gt;7 -->\n",
              "<g id=\"edge7\" class=\"edge\">\n",
              "<title>5&#45;&gt;7</title>\n",
              "<path fill=\"none\" stroke=\"black\" d=\"M685.97,-88.95C696.94,-79.53 708.88,-69.27 719.8,-59.89\"/>\n",
              "<polygon fill=\"black\" stroke=\"black\" points=\"722.24,-62.41 727.54,-53.24 717.68,-57.1 722.24,-62.41\"/>\n",
              "</g>\n",
              "<!-- 9 -->\n",
              "<g id=\"node10\" class=\"node\">\n",
              "<title>9</title>\n",
              "<polygon fill=\"#efb489\" stroke=\"black\" points=\"1077,-157 876,-157 876,-89 1077,-89 1077,-157\"/>\n",
              "<text text-anchor=\"middle\" x=\"976.5\" y=\"-141.8\" font-family=\"Helvetica,sans-Serif\" font-size=\"14.00\">LTG &lt;= 5.109</text>\n",
              "<text text-anchor=\"middle\" x=\"976.5\" y=\"-126.8\" font-family=\"Helvetica,sans-Serif\" font-size=\"14.00\">squared_error = 4935.474</text>\n",
              "<text text-anchor=\"middle\" x=\"976.5\" y=\"-111.8\" font-family=\"Helvetica,sans-Serif\" font-size=\"14.00\">samples = 51</text>\n",
              "<text text-anchor=\"middle\" x=\"976.5\" y=\"-96.8\" font-family=\"Helvetica,sans-Serif\" font-size=\"14.00\">value = 189.716</text>\n",
              "</g>\n",
              "<!-- 8&#45;&gt;9 -->\n",
              "<g id=\"edge9\" class=\"edge\">\n",
              "<title>8&#45;&gt;9</title>\n",
              "<path fill=\"none\" stroke=\"black\" d=\"M976.5,-192.88C976.5,-184.78 976.5,-175.98 976.5,-167.47\"/>\n",
              "<polygon fill=\"black\" stroke=\"black\" points=\"980,-167.3 976.5,-157.3 973,-167.3 980,-167.3\"/>\n",
              "</g>\n",
              "<!-- 12 -->\n",
              "<g id=\"node13\" class=\"node\">\n",
              "<title>12</title>\n",
              "<polygon fill=\"#e58139\" stroke=\"black\" points=\"1296,-149.5 1095,-149.5 1095,-96.5 1296,-96.5 1296,-149.5\"/>\n",
              "<text text-anchor=\"middle\" x=\"1195.5\" y=\"-134.3\" font-family=\"Helvetica,sans-Serif\" font-size=\"14.00\">squared_error = 1247.022</text>\n",
              "<text text-anchor=\"middle\" x=\"1195.5\" y=\"-119.3\" font-family=\"Helvetica,sans-Serif\" font-size=\"14.00\">samples = 15</text>\n",
              "<text text-anchor=\"middle\" x=\"1195.5\" y=\"-104.3\" font-family=\"Helvetica,sans-Serif\" font-size=\"14.00\">value = 261.667</text>\n",
              "</g>\n",
              "<!-- 8&#45;&gt;12 -->\n",
              "<g id=\"edge12\" class=\"edge\">\n",
              "<title>8&#45;&gt;12</title>\n",
              "<path fill=\"none\" stroke=\"black\" d=\"M1047.6,-192.88C1074.64,-180.29 1105.25,-166.03 1131.58,-153.77\"/>\n",
              "<polygon fill=\"black\" stroke=\"black\" points=\"1133.12,-156.91 1140.71,-149.52 1130.16,-150.57 1133.12,-156.91\"/>\n",
              "</g>\n",
              "<!-- 10 -->\n",
              "<g id=\"node11\" class=\"node\">\n",
              "<title>10</title>\n",
              "<polygon fill=\"#f4c9aa\" stroke=\"black\" points=\"1077,-53 876,-53 876,0 1077,0 1077,-53\"/>\n",
              "<text text-anchor=\"middle\" x=\"976.5\" y=\"-37.8\" font-family=\"Helvetica,sans-Serif\" font-size=\"14.00\">squared_error = 4899.799</text>\n",
              "<text text-anchor=\"middle\" x=\"976.5\" y=\"-22.8\" font-family=\"Helvetica,sans-Serif\" font-size=\"14.00\">samples = 25</text>\n",
              "<text text-anchor=\"middle\" x=\"976.5\" y=\"-7.8\" font-family=\"Helvetica,sans-Serif\" font-size=\"14.00\">value = 159.171</text>\n",
              "</g>\n",
              "<!-- 9&#45;&gt;10 -->\n",
              "<g id=\"edge10\" class=\"edge\">\n",
              "<title>9&#45;&gt;10</title>\n",
              "<path fill=\"none\" stroke=\"black\" d=\"M976.5,-88.95C976.5,-80.72 976.5,-71.85 976.5,-63.48\"/>\n",
              "<polygon fill=\"black\" stroke=\"black\" points=\"980,-63.24 976.5,-53.24 973,-63.24 980,-63.24\"/>\n",
              "</g>\n",
              "<!-- 11 -->\n",
              "<g id=\"node12\" class=\"node\">\n",
              "<title>11</title>\n",
              "<polygon fill=\"#eba06a\" stroke=\"black\" points=\"1296,-53 1095,-53 1095,0 1296,0 1296,-53\"/>\n",
              "<text text-anchor=\"middle\" x=\"1195.5\" y=\"-37.8\" font-family=\"Helvetica,sans-Serif\" font-size=\"14.00\">squared_error = 3378.778</text>\n",
              "<text text-anchor=\"middle\" x=\"1195.5\" y=\"-22.8\" font-family=\"Helvetica,sans-Serif\" font-size=\"14.00\">samples = 26</text>\n",
              "<text text-anchor=\"middle\" x=\"1195.5\" y=\"-7.8\" font-family=\"Helvetica,sans-Serif\" font-size=\"14.00\">value = 217.128</text>\n",
              "</g>\n",
              "<!-- 9&#45;&gt;11 -->\n",
              "<g id=\"edge11\" class=\"edge\">\n",
              "<title>9&#45;&gt;11</title>\n",
              "<path fill=\"none\" stroke=\"black\" d=\"M1053.1,-88.95C1077.05,-78.61 1103.33,-67.27 1126.72,-57.18\"/>\n",
              "<polygon fill=\"black\" stroke=\"black\" points=\"1128.41,-60.26 1136.2,-53.09 1125.64,-53.84 1128.41,-60.26\"/>\n",
              "</g>\n",
              "</g>\n",
              "</svg>\n"
            ],
            "text/plain": [
              "<graphviz.sources.Source at 0x7f0e3d8dfa90>"
            ]
          },
          "metadata": {},
          "output_type": "display_data"
        }
      ],
      "source": [
        "# 5번 트리 확인\n",
        "v_feature_name = df_train_x.columns\n",
        "export_graphviz(rf_final.estimators_[5], out_file=\"rfr_final_0.dot\", feature_names = v_feature_name ,\n",
        "                impurity = True, filled = True)\n",
        "with open(\"rfr_final_0.dot\") as f:\n",
        "    dot_graph = f.read()\n",
        "display(graphviz.Source(dot_graph))"
      ]
    },
    {
      "cell_type": "code",
      "execution_count": null,
      "id": "8eeba659",
      "metadata": {
        "id": "8eeba659",
        "outputId": "47523291-4395-45c1-80cb-336605e709cc"
      },
      "outputs": [
        {
          "data": {
            "image/svg+xml": [
              "<?xml version=\"1.0\" encoding=\"UTF-8\" standalone=\"no\"?>\n",
              "<!DOCTYPE svg PUBLIC \"-//W3C//DTD SVG 1.1//EN\"\n",
              " \"http://www.w3.org/Graphics/SVG/1.1/DTD/svg11.dtd\">\n",
              "<!-- Generated by graphviz version 2.50.0 (0)\n",
              " -->\n",
              "<!-- Title: Tree Pages: 1 -->\n",
              "<svg width=\"1716pt\" height=\"373pt\"\n",
              " viewBox=\"0.00 0.00 1716.00 373.00\" xmlns=\"http://www.w3.org/2000/svg\" xmlns:xlink=\"http://www.w3.org/1999/xlink\">\n",
              "<g id=\"graph0\" class=\"graph\" transform=\"scale(1 1) rotate(0) translate(4 369)\">\n",
              "<title>Tree</title>\n",
              "<polygon fill=\"white\" stroke=\"transparent\" points=\"-4,4 -4,-369 1712,-369 1712,4 -4,4\"/>\n",
              "<!-- 0 -->\n",
              "<g id=\"node1\" class=\"node\">\n",
              "<title>0</title>\n",
              "<polygon fill=\"#f4c9aa\" stroke=\"black\" points=\"936.5,-365 744.5,-365 744.5,-297 936.5,-297 936.5,-365\"/>\n",
              "<text text-anchor=\"middle\" x=\"840.5\" y=\"-349.8\" font-family=\"Helvetica,sans-Serif\" font-size=\"14.00\">BMI &lt;= 25.0</text>\n",
              "<text text-anchor=\"middle\" x=\"840.5\" y=\"-334.8\" font-family=\"Helvetica,sans-Serif\" font-size=\"14.00\">squared_error = 6268.13</text>\n",
              "<text text-anchor=\"middle\" x=\"840.5\" y=\"-319.8\" font-family=\"Helvetica,sans-Serif\" font-size=\"14.00\">samples = 204</text>\n",
              "<text text-anchor=\"middle\" x=\"840.5\" y=\"-304.8\" font-family=\"Helvetica,sans-Serif\" font-size=\"14.00\">value = 153.922</text>\n",
              "</g>\n",
              "<!-- 1 -->\n",
              "<g id=\"node2\" class=\"node\">\n",
              "<title>1</title>\n",
              "<polygon fill=\"#f9e4d5\" stroke=\"black\" points=\"731,-261 530,-261 530,-193 731,-193 731,-261\"/>\n",
              "<text text-anchor=\"middle\" x=\"630.5\" y=\"-245.8\" font-family=\"Helvetica,sans-Serif\" font-size=\"14.00\">HDL &lt;= 54.5</text>\n",
              "<text text-anchor=\"middle\" x=\"630.5\" y=\"-230.8\" font-family=\"Helvetica,sans-Serif\" font-size=\"14.00\">squared_error = 2966.575</text>\n",
              "<text text-anchor=\"middle\" x=\"630.5\" y=\"-215.8\" font-family=\"Helvetica,sans-Serif\" font-size=\"14.00\">samples = 101</text>\n",
              "<text text-anchor=\"middle\" x=\"630.5\" y=\"-200.8\" font-family=\"Helvetica,sans-Serif\" font-size=\"14.00\">value = 111.038</text>\n",
              "</g>\n",
              "<!-- 0&#45;&gt;1 -->\n",
              "<g id=\"edge1\" class=\"edge\">\n",
              "<title>0&#45;&gt;1</title>\n",
              "<path fill=\"none\" stroke=\"black\" d=\"M772.32,-296.88C751.77,-286.9 729.06,-275.87 707.95,-265.62\"/>\n",
              "<polygon fill=\"black\" stroke=\"black\" points=\"709.22,-262.35 698.7,-261.12 706.16,-268.64 709.22,-262.35\"/>\n",
              "<text text-anchor=\"middle\" x=\"706.88\" y=\"-281.05\" font-family=\"Helvetica,sans-Serif\" font-size=\"14.00\">True</text>\n",
              "</g>\n",
              "<!-- 8 -->\n",
              "<g id=\"node9\" class=\"node\">\n",
              "<title>8</title>\n",
              "<polygon fill=\"#eead7f\" stroke=\"black\" points=\"1160,-261 959,-261 959,-193 1160,-193 1160,-261\"/>\n",
              "<text text-anchor=\"middle\" x=\"1059.5\" y=\"-245.8\" font-family=\"Helvetica,sans-Serif\" font-size=\"14.00\">BMI &lt;= 31.35</text>\n",
              "<text text-anchor=\"middle\" x=\"1059.5\" y=\"-230.8\" font-family=\"Helvetica,sans-Serif\" font-size=\"14.00\">squared_error = 5847.483</text>\n",
              "<text text-anchor=\"middle\" x=\"1059.5\" y=\"-215.8\" font-family=\"Helvetica,sans-Serif\" font-size=\"14.00\">samples = 103</text>\n",
              "<text text-anchor=\"middle\" x=\"1059.5\" y=\"-200.8\" font-family=\"Helvetica,sans-Serif\" font-size=\"14.00\">value = 197.647</text>\n",
              "</g>\n",
              "<!-- 0&#45;&gt;8 -->\n",
              "<g id=\"edge8\" class=\"edge\">\n",
              "<title>0&#45;&gt;8</title>\n",
              "<path fill=\"none\" stroke=\"black\" d=\"M911.6,-296.88C933.13,-286.86 956.93,-275.77 979.02,-265.48\"/>\n",
              "<polygon fill=\"black\" stroke=\"black\" points=\"980.79,-268.52 988.38,-261.12 977.84,-262.17 980.79,-268.52\"/>\n",
              "<text text-anchor=\"middle\" x=\"979.82\" y=\"-280.91\" font-family=\"Helvetica,sans-Serif\" font-size=\"14.00\">False</text>\n",
              "</g>\n",
              "<!-- 2 -->\n",
              "<g id=\"node3\" class=\"node\">\n",
              "<title>2</title>\n",
              "<polygon fill=\"#f7d7c0\" stroke=\"black\" points=\"416,-157 215,-157 215,-89 416,-89 416,-157\"/>\n",
              "<text text-anchor=\"middle\" x=\"315.5\" y=\"-141.8\" font-family=\"Helvetica,sans-Serif\" font-size=\"14.00\">CHOLESTEROL &lt;= 195.5</text>\n",
              "<text text-anchor=\"middle\" x=\"315.5\" y=\"-126.8\" font-family=\"Helvetica,sans-Serif\" font-size=\"14.00\">squared_error = 3306.129</text>\n",
              "<text text-anchor=\"middle\" x=\"315.5\" y=\"-111.8\" font-family=\"Helvetica,sans-Serif\" font-size=\"14.00\">samples = 58</text>\n",
              "<text text-anchor=\"middle\" x=\"315.5\" y=\"-96.8\" font-family=\"Helvetica,sans-Serif\" font-size=\"14.00\">value = 131.781</text>\n",
              "</g>\n",
              "<!-- 1&#45;&gt;2 -->\n",
              "<g id=\"edge2\" class=\"edge\">\n",
              "<title>1&#45;&gt;2</title>\n",
              "<path fill=\"none\" stroke=\"black\" d=\"M529.97,-193.45C496.86,-182.73 459.88,-170.75 426.07,-159.8\"/>\n",
              "<polygon fill=\"black\" stroke=\"black\" points=\"426.75,-156.35 416.16,-156.59 424.59,-163 426.75,-156.35\"/>\n",
              "</g>\n",
              "<!-- 5 -->\n",
              "<g id=\"node6\" class=\"node\">\n",
              "<title>5</title>\n",
              "<polygon fill=\"#fef9f6\" stroke=\"black\" points=\"726.5,-157 534.5,-157 534.5,-89 726.5,-89 726.5,-157\"/>\n",
              "<text text-anchor=\"middle\" x=\"630.5\" y=\"-141.8\" font-family=\"Helvetica,sans-Serif\" font-size=\"14.00\">LTG &lt;= 4.151</text>\n",
              "<text text-anchor=\"middle\" x=\"630.5\" y=\"-126.8\" font-family=\"Helvetica,sans-Serif\" font-size=\"14.00\">squared_error = 633.394</text>\n",
              "<text text-anchor=\"middle\" x=\"630.5\" y=\"-111.8\" font-family=\"Helvetica,sans-Serif\" font-size=\"14.00\">samples = 43</text>\n",
              "<text text-anchor=\"middle\" x=\"630.5\" y=\"-96.8\" font-family=\"Helvetica,sans-Serif\" font-size=\"14.00\">value = 77.85</text>\n",
              "</g>\n",
              "<!-- 1&#45;&gt;5 -->\n",
              "<g id=\"edge5\" class=\"edge\">\n",
              "<title>1&#45;&gt;5</title>\n",
              "<path fill=\"none\" stroke=\"black\" d=\"M630.5,-192.88C630.5,-184.78 630.5,-175.98 630.5,-167.47\"/>\n",
              "<polygon fill=\"black\" stroke=\"black\" points=\"634,-167.3 630.5,-157.3 627,-167.3 634,-167.3\"/>\n",
              "</g>\n",
              "<!-- 3 -->\n",
              "<g id=\"node4\" class=\"node\">\n",
              "<title>3</title>\n",
              "<polygon fill=\"#f9e1d0\" stroke=\"black\" points=\"201,-53 0,-53 0,0 201,0 201,-53\"/>\n",
              "<text text-anchor=\"middle\" x=\"100.5\" y=\"-37.8\" font-family=\"Helvetica,sans-Serif\" font-size=\"14.00\">squared_error = 1963.187</text>\n",
              "<text text-anchor=\"middle\" x=\"100.5\" y=\"-22.8\" font-family=\"Helvetica,sans-Serif\" font-size=\"14.00\">samples = 43</text>\n",
              "<text text-anchor=\"middle\" x=\"100.5\" y=\"-7.8\" font-family=\"Helvetica,sans-Serif\" font-size=\"14.00\">value = 115.545</text>\n",
              "</g>\n",
              "<!-- 2&#45;&gt;3 -->\n",
              "<g id=\"edge3\" class=\"edge\">\n",
              "<title>2&#45;&gt;3</title>\n",
              "<path fill=\"none\" stroke=\"black\" d=\"M240.3,-88.95C216.78,-78.61 190.99,-67.27 168.03,-57.18\"/>\n",
              "<polygon fill=\"black\" stroke=\"black\" points=\"169.28,-53.91 158.71,-53.09 166.46,-60.31 169.28,-53.91\"/>\n",
              "</g>\n",
              "<!-- 4 -->\n",
              "<g id=\"node5\" class=\"node\">\n",
              "<title>4</title>\n",
              "<polygon fill=\"#f2c19d\" stroke=\"black\" points=\"411.5,-53 219.5,-53 219.5,0 411.5,0 411.5,-53\"/>\n",
              "<text text-anchor=\"middle\" x=\"315.5\" y=\"-37.8\" font-family=\"Helvetica,sans-Serif\" font-size=\"14.00\">squared_error = 4404.85</text>\n",
              "<text text-anchor=\"middle\" x=\"315.5\" y=\"-22.8\" font-family=\"Helvetica,sans-Serif\" font-size=\"14.00\">samples = 15</text>\n",
              "<text text-anchor=\"middle\" x=\"315.5\" y=\"-7.8\" font-family=\"Helvetica,sans-Serif\" font-size=\"14.00\">value = 167.5</text>\n",
              "</g>\n",
              "<!-- 2&#45;&gt;4 -->\n",
              "<g id=\"edge4\" class=\"edge\">\n",
              "<title>2&#45;&gt;4</title>\n",
              "<path fill=\"none\" stroke=\"black\" d=\"M315.5,-88.95C315.5,-80.72 315.5,-71.85 315.5,-63.48\"/>\n",
              "<polygon fill=\"black\" stroke=\"black\" points=\"319,-63.24 315.5,-53.24 312,-63.24 319,-63.24\"/>\n",
              "</g>\n",
              "<!-- 6 -->\n",
              "<g id=\"node7\" class=\"node\">\n",
              "<title>6</title>\n",
              "<polygon fill=\"#ffffff\" stroke=\"black\" points=\"621.5,-53 429.5,-53 429.5,0 621.5,0 621.5,-53\"/>\n",
              "<text text-anchor=\"middle\" x=\"525.5\" y=\"-37.8\" font-family=\"Helvetica,sans-Serif\" font-size=\"14.00\">squared_error = 336.136</text>\n",
              "<text text-anchor=\"middle\" x=\"525.5\" y=\"-22.8\" font-family=\"Helvetica,sans-Serif\" font-size=\"14.00\">samples = 17</text>\n",
              "<text text-anchor=\"middle\" x=\"525.5\" y=\"-7.8\" font-family=\"Helvetica,sans-Serif\" font-size=\"14.00\">value = 68.692</text>\n",
              "</g>\n",
              "<!-- 5&#45;&gt;6 -->\n",
              "<g id=\"edge6\" class=\"edge\">\n",
              "<title>5&#45;&gt;6</title>\n",
              "<path fill=\"none\" stroke=\"black\" d=\"M593.78,-88.95C583.41,-79.62 572.14,-69.47 561.79,-60.16\"/>\n",
              "<polygon fill=\"black\" stroke=\"black\" points=\"563.87,-57.32 554.1,-53.24 559.19,-62.53 563.87,-57.32\"/>\n",
              "</g>\n",
              "<!-- 7 -->\n",
              "<g id=\"node8\" class=\"node\">\n",
              "<title>7</title>\n",
              "<polygon fill=\"#fdf5ef\" stroke=\"black\" points=\"831.5,-53 639.5,-53 639.5,0 831.5,0 831.5,-53\"/>\n",
              "<text text-anchor=\"middle\" x=\"735.5\" y=\"-37.8\" font-family=\"Helvetica,sans-Serif\" font-size=\"14.00\">squared_error = 747.537</text>\n",
              "<text text-anchor=\"middle\" x=\"735.5\" y=\"-22.8\" font-family=\"Helvetica,sans-Serif\" font-size=\"14.00\">samples = 26</text>\n",
              "<text text-anchor=\"middle\" x=\"735.5\" y=\"-7.8\" font-family=\"Helvetica,sans-Serif\" font-size=\"14.00\">value = 84.853</text>\n",
              "</g>\n",
              "<!-- 5&#45;&gt;7 -->\n",
              "<g id=\"edge7\" class=\"edge\">\n",
              "<title>5&#45;&gt;7</title>\n",
              "<path fill=\"none\" stroke=\"black\" d=\"M667.22,-88.95C677.59,-79.62 688.86,-69.47 699.21,-60.16\"/>\n",
              "<polygon fill=\"black\" stroke=\"black\" points=\"701.81,-62.53 706.9,-53.24 697.13,-57.32 701.81,-62.53\"/>\n",
              "</g>\n",
              "<!-- 9 -->\n",
              "<g id=\"node10\" class=\"node\">\n",
              "<title>9</title>\n",
              "<polygon fill=\"#f1bc95\" stroke=\"black\" points=\"1160,-157 959,-157 959,-89 1160,-89 1160,-157\"/>\n",
              "<text text-anchor=\"middle\" x=\"1059.5\" y=\"-141.8\" font-family=\"Helvetica,sans-Serif\" font-size=\"14.00\">LTG &lt;= 4.58</text>\n",
              "<text text-anchor=\"middle\" x=\"1059.5\" y=\"-126.8\" font-family=\"Helvetica,sans-Serif\" font-size=\"14.00\">squared_error = 5048.155</text>\n",
              "<text text-anchor=\"middle\" x=\"1059.5\" y=\"-111.8\" font-family=\"Helvetica,sans-Serif\" font-size=\"14.00\">samples = 70</text>\n",
              "<text text-anchor=\"middle\" x=\"1059.5\" y=\"-96.8\" font-family=\"Helvetica,sans-Serif\" font-size=\"14.00\">value = 175.059</text>\n",
              "</g>\n",
              "<!-- 8&#45;&gt;9 -->\n",
              "<g id=\"edge9\" class=\"edge\">\n",
              "<title>8&#45;&gt;9</title>\n",
              "<path fill=\"none\" stroke=\"black\" d=\"M1059.5,-192.88C1059.5,-184.78 1059.5,-175.98 1059.5,-167.47\"/>\n",
              "<polygon fill=\"black\" stroke=\"black\" points=\"1063,-167.3 1059.5,-157.3 1056,-167.3 1063,-167.3\"/>\n",
              "</g>\n",
              "<!-- 12 -->\n",
              "<g id=\"node13\" class=\"node\">\n",
              "<title>12</title>\n",
              "<polygon fill=\"#e89253\" stroke=\"black\" points=\"1489,-157 1288,-157 1288,-89 1489,-89 1489,-157\"/>\n",
              "<text text-anchor=\"middle\" x=\"1388.5\" y=\"-141.8\" font-family=\"Helvetica,sans-Serif\" font-size=\"14.00\">LTG &lt;= 4.938</text>\n",
              "<text text-anchor=\"middle\" x=\"1388.5\" y=\"-126.8\" font-family=\"Helvetica,sans-Serif\" font-size=\"14.00\">squared_error = 4484.288</text>\n",
              "<text text-anchor=\"middle\" x=\"1388.5\" y=\"-111.8\" font-family=\"Helvetica,sans-Serif\" font-size=\"14.00\">samples = 33</text>\n",
              "<text text-anchor=\"middle\" x=\"1388.5\" y=\"-96.8\" font-family=\"Helvetica,sans-Serif\" font-size=\"14.00\">value = 241.519</text>\n",
              "</g>\n",
              "<!-- 8&#45;&gt;12 -->\n",
              "<g id=\"edge12\" class=\"edge\">\n",
              "<title>8&#45;&gt;12</title>\n",
              "<path fill=\"none\" stroke=\"black\" d=\"M1160.45,-194.7C1197.71,-183.15 1240.12,-170 1278.17,-158.21\"/>\n",
              "<polygon fill=\"black\" stroke=\"black\" points=\"1279.23,-161.54 1287.74,-155.24 1277.16,-154.86 1279.23,-161.54\"/>\n",
              "</g>\n",
              "<!-- 10 -->\n",
              "<g id=\"node11\" class=\"node\">\n",
              "<title>10</title>\n",
              "<polygon fill=\"#f7d7c0\" stroke=\"black\" points=\"1051,-53 850,-53 850,0 1051,0 1051,-53\"/>\n",
              "<text text-anchor=\"middle\" x=\"950.5\" y=\"-37.8\" font-family=\"Helvetica,sans-Serif\" font-size=\"14.00\">squared_error = 4168.371</text>\n",
              "<text text-anchor=\"middle\" x=\"950.5\" y=\"-22.8\" font-family=\"Helvetica,sans-Serif\" font-size=\"14.00\">samples = 19</text>\n",
              "<text text-anchor=\"middle\" x=\"950.5\" y=\"-7.8\" font-family=\"Helvetica,sans-Serif\" font-size=\"14.00\">value = 132.207</text>\n",
              "</g>\n",
              "<!-- 9&#45;&gt;10 -->\n",
              "<g id=\"edge10\" class=\"edge\">\n",
              "<title>9&#45;&gt;10</title>\n",
              "<path fill=\"none\" stroke=\"black\" d=\"M1021.38,-88.95C1010.51,-79.53 998.68,-69.27 987.86,-59.89\"/>\n",
              "<polygon fill=\"black\" stroke=\"black\" points=\"990.03,-57.14 980.19,-53.24 985.45,-62.43 990.03,-57.14\"/>\n",
              "</g>\n",
              "<!-- 11 -->\n",
              "<g id=\"node12\" class=\"node\">\n",
              "<title>11</title>\n",
              "<polygon fill=\"#efb184\" stroke=\"black\" points=\"1270,-53 1069,-53 1069,0 1270,0 1270,-53\"/>\n",
              "<text text-anchor=\"middle\" x=\"1169.5\" y=\"-37.8\" font-family=\"Helvetica,sans-Serif\" font-size=\"14.00\">squared_error = 4364.967</text>\n",
              "<text text-anchor=\"middle\" x=\"1169.5\" y=\"-22.8\" font-family=\"Helvetica,sans-Serif\" font-size=\"14.00\">samples = 51</text>\n",
              "<text text-anchor=\"middle\" x=\"1169.5\" y=\"-7.8\" font-family=\"Helvetica,sans-Serif\" font-size=\"14.00\">value = 192.319</text>\n",
              "</g>\n",
              "<!-- 9&#45;&gt;11 -->\n",
              "<g id=\"edge11\" class=\"edge\">\n",
              "<title>9&#45;&gt;11</title>\n",
              "<path fill=\"none\" stroke=\"black\" d=\"M1097.97,-88.95C1108.94,-79.53 1120.88,-69.27 1131.8,-59.89\"/>\n",
              "<polygon fill=\"black\" stroke=\"black\" points=\"1134.24,-62.41 1139.54,-53.24 1129.68,-57.1 1134.24,-62.41\"/>\n",
              "</g>\n",
              "<!-- 13 -->\n",
              "<g id=\"node14\" class=\"node\">\n",
              "<title>13</title>\n",
              "<polygon fill=\"#eeaa7a\" stroke=\"black\" points=\"1489,-53 1288,-53 1288,0 1489,0 1489,-53\"/>\n",
              "<text text-anchor=\"middle\" x=\"1388.5\" y=\"-37.8\" font-family=\"Helvetica,sans-Serif\" font-size=\"14.00\">squared_error = 6733.388</text>\n",
              "<text text-anchor=\"middle\" x=\"1388.5\" y=\"-22.8\" font-family=\"Helvetica,sans-Serif\" font-size=\"14.00\">samples = 15</text>\n",
              "<text text-anchor=\"middle\" x=\"1388.5\" y=\"-7.8\" font-family=\"Helvetica,sans-Serif\" font-size=\"14.00\">value = 202.571</text>\n",
              "</g>\n",
              "<!-- 12&#45;&gt;13 -->\n",
              "<g id=\"edge13\" class=\"edge\">\n",
              "<title>12&#45;&gt;13</title>\n",
              "<path fill=\"none\" stroke=\"black\" d=\"M1388.5,-88.95C1388.5,-80.72 1388.5,-71.85 1388.5,-63.48\"/>\n",
              "<polygon fill=\"black\" stroke=\"black\" points=\"1392,-63.24 1388.5,-53.24 1385,-63.24 1392,-63.24\"/>\n",
              "</g>\n",
              "<!-- 14 -->\n",
              "<g id=\"node15\" class=\"node\">\n",
              "<title>14</title>\n",
              "<polygon fill=\"#e58139\" stroke=\"black\" points=\"1708,-53 1507,-53 1507,0 1708,0 1708,-53\"/>\n",
              "<text text-anchor=\"middle\" x=\"1607.5\" y=\"-37.8\" font-family=\"Helvetica,sans-Serif\" font-size=\"14.00\">squared_error = 1236.991</text>\n",
              "<text text-anchor=\"middle\" x=\"1607.5\" y=\"-22.8\" font-family=\"Helvetica,sans-Serif\" font-size=\"14.00\">samples = 18</text>\n",
              "<text text-anchor=\"middle\" x=\"1607.5\" y=\"-7.8\" font-family=\"Helvetica,sans-Serif\" font-size=\"14.00\">value = 267.903</text>\n",
              "</g>\n",
              "<!-- 12&#45;&gt;14 -->\n",
              "<g id=\"edge14\" class=\"edge\">\n",
              "<title>12&#45;&gt;14</title>\n",
              "<path fill=\"none\" stroke=\"black\" d=\"M1465.1,-88.95C1489.05,-78.61 1515.33,-67.27 1538.72,-57.18\"/>\n",
              "<polygon fill=\"black\" stroke=\"black\" points=\"1540.41,-60.26 1548.2,-53.09 1537.64,-53.84 1540.41,-60.26\"/>\n",
              "</g>\n",
              "</g>\n",
              "</svg>\n"
            ],
            "text/plain": [
              "<graphviz.sources.Source at 0x7f0e3d8df1f0>"
            ]
          },
          "metadata": {},
          "output_type": "display_data"
        }
      ],
      "source": [
        "# 30번 트리 확인\n",
        "v_feature_name = df_train_x.columns\n",
        "export_graphviz(rf_final.estimators_[30], out_file=\"rfr_final_0.dot\", feature_names = v_feature_name ,\n",
        "                impurity = True, filled = True)\n",
        "with open(\"rfr_final_0.dot\") as f:\n",
        "    dot_graph = f.read()\n",
        "display(graphviz.Source(dot_graph))"
      ]
    },
    {
      "cell_type": "code",
      "execution_count": null,
      "id": "334f7d82",
      "metadata": {
        "id": "334f7d82"
      },
      "outputs": [],
      "source": [
        "# 위와 같은 트리 50개로 조합하여 최종 모델을 생성함."
      ]
    },
    {
      "cell_type": "markdown",
      "id": "e5a6807e",
      "metadata": {
        "id": "e5a6807e"
      },
      "source": [
        "## (8) 결론 도출 - 설명변수의 중요도"
      ]
    },
    {
      "cell_type": "code",
      "execution_count": null,
      "id": "47ed9a2f",
      "metadata": {
        "id": "47ed9a2f",
        "outputId": "65e8bfd1-a6dc-4e3b-ad3d-dc40b15719d3"
      },
      "outputs": [
        {
          "data": {
            "text/html": [
              "<div>\n",
              "<style scoped>\n",
              "    .dataframe tbody tr th:only-of-type {\n",
              "        vertical-align: middle;\n",
              "    }\n",
              "\n",
              "    .dataframe tbody tr th {\n",
              "        vertical-align: top;\n",
              "    }\n",
              "\n",
              "    .dataframe thead th {\n",
              "        text-align: right;\n",
              "    }\n",
              "</style>\n",
              "<table border=\"1\" class=\"dataframe\">\n",
              "  <thead>\n",
              "    <tr style=\"text-align: right;\">\n",
              "      <th></th>\n",
              "      <th>Feature</th>\n",
              "      <th>Importance</th>\n",
              "    </tr>\n",
              "  </thead>\n",
              "  <tbody>\n",
              "    <tr>\n",
              "      <th>2</th>\n",
              "      <td>BMI</td>\n",
              "      <td>0.455</td>\n",
              "    </tr>\n",
              "    <tr>\n",
              "      <th>8</th>\n",
              "      <td>LTG</td>\n",
              "      <td>0.365</td>\n",
              "    </tr>\n",
              "    <tr>\n",
              "      <th>9</th>\n",
              "      <td>GLUCOSE</td>\n",
              "      <td>0.068</td>\n",
              "    </tr>\n",
              "    <tr>\n",
              "      <th>3</th>\n",
              "      <td>BP</td>\n",
              "      <td>0.047</td>\n",
              "    </tr>\n",
              "    <tr>\n",
              "      <th>6</th>\n",
              "      <td>HDL</td>\n",
              "      <td>0.035</td>\n",
              "    </tr>\n",
              "    <tr>\n",
              "      <th>7</th>\n",
              "      <td>TCH</td>\n",
              "      <td>0.009</td>\n",
              "    </tr>\n",
              "    <tr>\n",
              "      <th>0</th>\n",
              "      <td>AGE</td>\n",
              "      <td>0.008</td>\n",
              "    </tr>\n",
              "    <tr>\n",
              "      <th>5</th>\n",
              "      <td>LDL</td>\n",
              "      <td>0.008</td>\n",
              "    </tr>\n",
              "    <tr>\n",
              "      <th>4</th>\n",
              "      <td>CHOLESTEROL</td>\n",
              "      <td>0.004</td>\n",
              "    </tr>\n",
              "    <tr>\n",
              "      <th>1</th>\n",
              "      <td>GENDER</td>\n",
              "      <td>0.001</td>\n",
              "    </tr>\n",
              "  </tbody>\n",
              "</table>\n",
              "</div>"
            ],
            "text/plain": [
              "       Feature  Importance\n",
              "2          BMI       0.455\n",
              "8          LTG       0.365\n",
              "9      GLUCOSE       0.068\n",
              "3           BP       0.047\n",
              "6          HDL       0.035\n",
              "7          TCH       0.009\n",
              "0          AGE       0.008\n",
              "5          LDL       0.008\n",
              "4  CHOLESTEROL       0.004\n",
              "1       GENDER       0.001"
            ]
          },
          "execution_count": 24,
          "metadata": {},
          "output_type": "execute_result"
        }
      ],
      "source": [
        "# tree.feature_importances_로 설명변수 중요도 확인 및 테이블로 저장\n",
        "df_importance = pd.DataFrame()\n",
        "df_importance[\"Feature\"] = v_feature_name\n",
        "df_importance[\"Importance\"] = rf_final.feature_importances_\n",
        "\n",
        "df_importance.sort_values(\"Importance\", ascending=False, inplace = True)\n",
        "df_importance.round(3)"
      ]
    },
    {
      "cell_type": "code",
      "execution_count": null,
      "id": "1f0d6436",
      "metadata": {
        "id": "1f0d6436",
        "outputId": "5cfb6dc9-1302-40e9-ad3f-7c0b98369f6e"
      },
      "outputs": [
        {
          "data": {
            "text/plain": [
              "Text(0, 0.5, '변수')"
            ]
          },
          "execution_count": 25,
          "metadata": {},
          "output_type": "execute_result"
        },
        {
          "data": {
            "image/png": "[encoded data removed]",
            "text/plain": [
              "<Figure size 640x480 with 1 Axes>"
            ]
          },
          "metadata": {},
          "output_type": "display_data"
        }
      ],
      "source": [
        "# 중요도가 높은 변수를 상위에 그림\n",
        "df_importance.sort_values(\"Importance\", ascending=True, inplace = True)\n",
        "coordinates = range(len(df_importance))\n",
        "plt.barh(y = coordinates, width = df_importance[\"Importance\"])\n",
        "plt.yticks(coordinates, df_importance[\"Feature\"])\n",
        "plt.xlabel(\"변수 중요도\")\n",
        "plt.ylabel(\"변수\")"
      ]
    },
    {
      "cell_type": "markdown",
      "id": "a94e6f5e",
      "metadata": {
        "id": "a94e6f5e"
      },
      "source": [
        "### <최종 모델의 변수 중요도>\n",
        "- BMI(BMI 지수) : 0.455\n",
        "- LTG(라모트리진) : 0.365\n",
        "- GLUCOSE(포도당) : 0.068\n",
        "- BP(혈압) : 0.047\n",
        "- HDL(HDL수치) : 0.040\n",
        "- AGE(나이) : 0.015\n",
        "- BMI, LTG, GLUCOSE, BP, HDL 순으로 모델 예측에 가장 중요한 설명변수로 나타남."
      ]
    },
    {
      "cell_type": "markdown",
      "id": "5343415d",
      "metadata": {
        "id": "5343415d"
      },
      "source": [
        "## (9) GridSearchCV를 이용한 최적의 parameter 찾기"
      ]
    },
    {
      "cell_type": "code",
      "execution_count": null,
      "id": "5b4e8b2e",
      "metadata": {
        "id": "5b4e8b2e",
        "outputId": "93786e57-3d84-44d5-b6a5-73877ce54e6e"
      },
      "outputs": [
        {
          "name": "stdout",
          "output_type": "stream",
          "text": [
            "best estimator model: \n",
            "RandomForestRegressor(max_depth=6, min_samples_leaf=12, min_samples_split=38,\n",
            "                      random_state=1234)\n",
            "\n",
            "best parameter: \n",
            "{'max_depth': 6, 'min_samples_leaf': 12, 'min_samples_split': 38}\n",
            "\n",
            "best score: \n",
            "0.417\n"
          ]
        }
      ],
      "source": [
        "# GridSearchCV를 이용한 최적 parameter 찾기\n",
        "estimator = RandomForestRegressor(random_state=1234)\n",
        "# 구하고자 하는 parameter와 범위\n",
        "param_grid = {\"max_depth\": para_depth, \"min_samples_split\": para_split, \"min_samples_leaf\": para_leaf}\n",
        "# 설명력이 높은 최적 parameter 찾기\n",
        "grid_rf = GridSearchCV(estimator, param_grid, scoring=\"r2\", n_jobs = -1)\n",
        "grid_rf.fit(df_train_x, df_train_y)\n",
        "\n",
        "print(\"best estimator model: \\n{}\".format(grid_rf.best_estimator_))\n",
        "print(\"\\nbest parameter: \\n{}\".format(grid_rf.best_params_))\n",
        "print(\"\\nbest score: \\n{}\".format(grid_rf.best_score_.round(3)))"
      ]
    },
    {
      "cell_type": "markdown",
      "id": "0162c836",
      "metadata": {
        "id": "0162c836"
      },
      "source": [
        "### < gridSearchCV를 이용한 최적의 parameter 결과>\n",
        "- max_depth : 6\n",
        "- min_samples_leaf : 12\n",
        "- min_samples_split: 38\n",
        "- best score : 0.417\n",
        "- 결론 : 직접 hyper paramter를 수정한 앞선 버전의 training score가 0.546, test score가 0.489이므로 grid Search CV보다 유의미하다고 할 수 있음.\n"
      ]
    }
  ],
  "metadata": {
    "kernelspec": {
      "display_name": "Python [conda env:base] *",
      "language": "python",
      "name": "conda-base-py"
    },
    "language_info": {
      "codemirror_mode": {
        "name": "ipython",
        "version": 3
      },
      "file_extension": ".py",
      "mimetype": "text/x-python",
      "name": "python",
      "nbconvert_exporter": "python",
      "pygments_lexer": "ipython3",
      "version": "3.10.9"
    },
    "colab": {
      "provenance": [],
      "include_colab_link": true
    }
  },
  "nbformat": 4,
  "nbformat_minor": 5
}