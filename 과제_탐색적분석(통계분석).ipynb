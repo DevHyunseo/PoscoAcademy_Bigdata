{
  "cells": [
    {
      "cell_type": "markdown",
      "metadata": {
        "id": "view-in-github",
        "colab_type": "text"
      },
      "source": [
        "<a href=\"https://colab.research.google.com/github/DevHyunseo/PoscoAcademy_Bigdata/blob/main/00_%EA%B3%BC%EC%A0%9C_%ED%83%90%EC%83%89%EC%A0%81%EB%B6%84%EC%84%9D(%ED%86%B5%EA%B3%84%EB%B6%84%EC%84%9D).ipynb\" target=\"_parent\"><img src=\"https://colab.research.google.com/assets/colab-badge.svg\" alt=\"Open In Colab\"/></a>"
      ]
    },
    {
      "cell_type": "markdown",
      "id": "213a86fe",
      "metadata": {
        "id": "213a86fe"
      },
      "source": [
        "# **탐색적분석**(통계분석)"
      ]
    },
    {
      "cell_type": "markdown",
      "id": "8e9144a2",
      "metadata": {
        "id": "8e9144a2"
      },
      "source": [
        "#### python 패키지 불러오기"
      ]
    },
    {
      "cell_type": "code",
      "execution_count": null,
      "id": "d0e64786",
      "metadata": {
        "id": "d0e64786"
      },
      "outputs": [],
      "source": [
        "# 데이터 구성 패키지: Series, DataFrame\n",
        "import pandas as pd\n",
        "# 행렬 연산 패키지\n",
        "import numpy as np\n",
        "\n",
        "# 데이터 시각화 패키지\n",
        "import matplotlib\n",
        "import matplotlib.pyplot as plt\n",
        "import seaborn as sns\n",
        "%matplotlib inline\n",
        "\n",
        "# 통계 분석 패키지\n",
        "from scipy import stats\n",
        "import scipy.stats\n",
        "from statsmodels.stats.anova import anova_lm"
      ]
    },
    {
      "cell_type": "markdown",
      "id": "8cf7c05e",
      "metadata": {
        "id": "8cf7c05e"
      },
      "source": [
        "### 1. 실습 (기술통계) : 자동차 연비 Data Set에서 기술통계치 구하기\n",
        "- 시내에서 연비(mpg) 통계치 : 데이터 수,평균,중앙값,표준편차, min, max, Q1, Q3\n",
        "- 고속도로에서 연비(mpg) 통계치 : 구동 방식별 데이터 수,평균,중앙값,표준편차, min, max, Q1, Q3 ( data.set : mycars.csv )"
      ]
    },
    {
      "cell_type": "markdown",
      "id": "c4bbbac7",
      "metadata": {
        "id": "c4bbbac7"
      },
      "source": [
        "STEP ❶ 데이터 구성하기"
      ]
    },
    {
      "cell_type": "code",
      "execution_count": null,
      "id": "97c28520",
      "metadata": {
        "id": "97c28520",
        "outputId": "b139a8bb-d3ba-4394-92f1-de2053930626"
      },
      "outputs": [
        {
          "data": {
            "text/html": [
              "<div>\n",
              "<style scoped>\n",
              "    .dataframe tbody tr th:only-of-type {\n",
              "        vertical-align: middle;\n",
              "    }\n",
              "\n",
              "    .dataframe tbody tr th {\n",
              "        vertical-align: top;\n",
              "    }\n",
              "\n",
              "    .dataframe thead th {\n",
              "        text-align: right;\n",
              "    }\n",
              "</style>\n",
              "<table border=\"1\" class=\"dataframe\">\n",
              "  <thead>\n",
              "    <tr style=\"text-align: right;\">\n",
              "      <th></th>\n",
              "      <th>manufacturer</th>\n",
              "      <th>model</th>\n",
              "      <th>displacement</th>\n",
              "      <th>year</th>\n",
              "      <th>cylinder</th>\n",
              "      <th>automatic</th>\n",
              "      <th>driving</th>\n",
              "      <th>mpg</th>\n",
              "      <th>highway_mileage</th>\n",
              "      <th>fuel</th>\n",
              "      <th>class</th>\n",
              "    </tr>\n",
              "  </thead>\n",
              "  <tbody>\n",
              "    <tr>\n",
              "      <th>0</th>\n",
              "      <td>audi</td>\n",
              "      <td>a4</td>\n",
              "      <td>1.8</td>\n",
              "      <td>1999</td>\n",
              "      <td>4</td>\n",
              "      <td>auto</td>\n",
              "      <td>f</td>\n",
              "      <td>18</td>\n",
              "      <td>29</td>\n",
              "      <td>p</td>\n",
              "      <td>compact</td>\n",
              "    </tr>\n",
              "    <tr>\n",
              "      <th>1</th>\n",
              "      <td>audi</td>\n",
              "      <td>a4</td>\n",
              "      <td>1.8</td>\n",
              "      <td>1999</td>\n",
              "      <td>4</td>\n",
              "      <td>manual</td>\n",
              "      <td>f</td>\n",
              "      <td>21</td>\n",
              "      <td>29</td>\n",
              "      <td>p</td>\n",
              "      <td>compact</td>\n",
              "    </tr>\n",
              "    <tr>\n",
              "      <th>2</th>\n",
              "      <td>audi</td>\n",
              "      <td>a4</td>\n",
              "      <td>2.0</td>\n",
              "      <td>2008</td>\n",
              "      <td>4</td>\n",
              "      <td>manual</td>\n",
              "      <td>f</td>\n",
              "      <td>20</td>\n",
              "      <td>31</td>\n",
              "      <td>p</td>\n",
              "      <td>compact</td>\n",
              "    </tr>\n",
              "    <tr>\n",
              "      <th>3</th>\n",
              "      <td>audi</td>\n",
              "      <td>a4</td>\n",
              "      <td>2.0</td>\n",
              "      <td>2008</td>\n",
              "      <td>4</td>\n",
              "      <td>auto</td>\n",
              "      <td>f</td>\n",
              "      <td>21</td>\n",
              "      <td>30</td>\n",
              "      <td>p</td>\n",
              "      <td>compact</td>\n",
              "    </tr>\n",
              "    <tr>\n",
              "      <th>4</th>\n",
              "      <td>audi</td>\n",
              "      <td>a4</td>\n",
              "      <td>2.8</td>\n",
              "      <td>1999</td>\n",
              "      <td>6</td>\n",
              "      <td>auto</td>\n",
              "      <td>f</td>\n",
              "      <td>16</td>\n",
              "      <td>26</td>\n",
              "      <td>p</td>\n",
              "      <td>compact</td>\n",
              "    </tr>\n",
              "  </tbody>\n",
              "</table>\n",
              "</div>"
            ],
            "text/plain": [
              "  manufacturer model  displacement  year  cylinder automatic driving  mpg  \\\n",
              "0         audi    a4           1.8  1999         4      auto       f   18   \n",
              "1         audi    a4           1.8  1999         4    manual       f   21   \n",
              "2         audi    a4           2.0  2008         4    manual       f   20   \n",
              "3         audi    a4           2.0  2008         4      auto       f   21   \n",
              "4         audi    a4           2.8  1999         6      auto       f   16   \n",
              "\n",
              "   highway_mileage fuel    class  \n",
              "0               29    p  compact  \n",
              "1               29    p  compact  \n",
              "2               31    p  compact  \n",
              "3               30    p  compact  \n",
              "4               26    p  compact  "
            ]
          },
          "execution_count": 2,
          "metadata": {},
          "output_type": "execute_result"
        }
      ],
      "source": [
        "# mycars 데이터 가져오기\n",
        "mycars = pd.read_csv(\"/home/piai/바탕화면/빅데이터주간/01 실습파일/1 Big Data 분석 기초/mycars.csv\")\n",
        "mycars.head()"
      ]
    },
    {
      "cell_type": "markdown",
      "id": "6d27a137",
      "metadata": {
        "id": "6d27a137"
      },
      "source": [
        "STEP ❷ 기술통계분석_시내/자동차 Model 별 연비(mpg) 통계치"
      ]
    },
    {
      "cell_type": "code",
      "execution_count": null,
      "id": "fbdb8679",
      "metadata": {
        "id": "fbdb8679",
        "outputId": "96caa3fc-473b-4c76-83f8-11dd53ead4cc"
      },
      "outputs": [
        {
          "data": {
            "text/html": [
              "<div>\n",
              "<style scoped>\n",
              "    .dataframe tbody tr th:only-of-type {\n",
              "        vertical-align: middle;\n",
              "    }\n",
              "\n",
              "    .dataframe tbody tr th {\n",
              "        vertical-align: top;\n",
              "    }\n",
              "\n",
              "    .dataframe thead th {\n",
              "        text-align: right;\n",
              "    }\n",
              "</style>\n",
              "<table border=\"1\" class=\"dataframe\">\n",
              "  <thead>\n",
              "    <tr style=\"text-align: right;\">\n",
              "      <th></th>\n",
              "      <th>displacement</th>\n",
              "      <th>year</th>\n",
              "      <th>cylinder</th>\n",
              "      <th>mpg</th>\n",
              "      <th>highway_mileage</th>\n",
              "    </tr>\n",
              "  </thead>\n",
              "  <tbody>\n",
              "    <tr>\n",
              "      <th>count</th>\n",
              "      <td>234.00</td>\n",
              "      <td>234.00</td>\n",
              "      <td>234.00</td>\n",
              "      <td>234.00</td>\n",
              "      <td>234.00</td>\n",
              "    </tr>\n",
              "    <tr>\n",
              "      <th>mean</th>\n",
              "      <td>3.47</td>\n",
              "      <td>2003.50</td>\n",
              "      <td>5.89</td>\n",
              "      <td>16.86</td>\n",
              "      <td>23.44</td>\n",
              "    </tr>\n",
              "    <tr>\n",
              "      <th>std</th>\n",
              "      <td>1.29</td>\n",
              "      <td>4.51</td>\n",
              "      <td>1.61</td>\n",
              "      <td>4.26</td>\n",
              "      <td>5.95</td>\n",
              "    </tr>\n",
              "    <tr>\n",
              "      <th>min</th>\n",
              "      <td>1.60</td>\n",
              "      <td>1999.00</td>\n",
              "      <td>4.00</td>\n",
              "      <td>9.00</td>\n",
              "      <td>12.00</td>\n",
              "    </tr>\n",
              "    <tr>\n",
              "      <th>25%</th>\n",
              "      <td>2.40</td>\n",
              "      <td>1999.00</td>\n",
              "      <td>4.00</td>\n",
              "      <td>14.00</td>\n",
              "      <td>18.00</td>\n",
              "    </tr>\n",
              "    <tr>\n",
              "      <th>50%</th>\n",
              "      <td>3.30</td>\n",
              "      <td>2003.50</td>\n",
              "      <td>6.00</td>\n",
              "      <td>17.00</td>\n",
              "      <td>24.00</td>\n",
              "    </tr>\n",
              "    <tr>\n",
              "      <th>75%</th>\n",
              "      <td>4.60</td>\n",
              "      <td>2008.00</td>\n",
              "      <td>8.00</td>\n",
              "      <td>19.00</td>\n",
              "      <td>27.00</td>\n",
              "    </tr>\n",
              "    <tr>\n",
              "      <th>max</th>\n",
              "      <td>7.00</td>\n",
              "      <td>2008.00</td>\n",
              "      <td>8.00</td>\n",
              "      <td>35.00</td>\n",
              "      <td>44.00</td>\n",
              "    </tr>\n",
              "  </tbody>\n",
              "</table>\n",
              "</div>"
            ],
            "text/plain": [
              "       displacement     year  cylinder     mpg  highway_mileage\n",
              "count        234.00   234.00    234.00  234.00           234.00\n",
              "mean           3.47  2003.50      5.89   16.86            23.44\n",
              "std            1.29     4.51      1.61    4.26             5.95\n",
              "min            1.60  1999.00      4.00    9.00            12.00\n",
              "25%            2.40  1999.00      4.00   14.00            18.00\n",
              "50%            3.30  2003.50      6.00   17.00            24.00\n",
              "75%            4.60  2008.00      8.00   19.00            27.00\n",
              "max            7.00  2008.00      8.00   35.00            44.00"
            ]
          },
          "execution_count": 3,
          "metadata": {},
          "output_type": "execute_result"
        }
      ],
      "source": [
        "# 1. 시내에서 연비(mpg) 통계치 : 기술통계량\n",
        "mycars.describe().round(2)"
      ]
    },
    {
      "cell_type": "code",
      "execution_count": null,
      "id": "54f70cd8",
      "metadata": {
        "id": "54f70cd8",
        "outputId": "9b9d92d0-5e34-43fe-8538-5801f452b318"
      },
      "outputs": [
        {
          "data": {
            "text/html": [
              "<div>\n",
              "<style scoped>\n",
              "    .dataframe tbody tr th:only-of-type {\n",
              "        vertical-align: middle;\n",
              "    }\n",
              "\n",
              "    .dataframe tbody tr th {\n",
              "        vertical-align: top;\n",
              "    }\n",
              "\n",
              "    .dataframe thead th {\n",
              "        text-align: right;\n",
              "    }\n",
              "</style>\n",
              "<table border=\"1\" class=\"dataframe\">\n",
              "  <thead>\n",
              "    <tr style=\"text-align: right;\">\n",
              "      <th></th>\n",
              "      <th>model</th>\n",
              "      <th>mpg</th>\n",
              "    </tr>\n",
              "  </thead>\n",
              "  <tbody>\n",
              "    <tr>\n",
              "      <th>0</th>\n",
              "      <td>a4</td>\n",
              "      <td>18</td>\n",
              "    </tr>\n",
              "    <tr>\n",
              "      <th>1</th>\n",
              "      <td>a4</td>\n",
              "      <td>21</td>\n",
              "    </tr>\n",
              "    <tr>\n",
              "      <th>2</th>\n",
              "      <td>a4</td>\n",
              "      <td>20</td>\n",
              "    </tr>\n",
              "    <tr>\n",
              "      <th>3</th>\n",
              "      <td>a4</td>\n",
              "      <td>21</td>\n",
              "    </tr>\n",
              "    <tr>\n",
              "      <th>4</th>\n",
              "      <td>a4</td>\n",
              "      <td>16</td>\n",
              "    </tr>\n",
              "  </tbody>\n",
              "</table>\n",
              "</div>"
            ],
            "text/plain": [
              "  model  mpg\n",
              "0    a4   18\n",
              "1    a4   21\n",
              "2    a4   20\n",
              "3    a4   21\n",
              "4    a4   16"
            ]
          },
          "execution_count": 4,
          "metadata": {},
          "output_type": "execute_result"
        }
      ],
      "source": [
        "# 2. 자동차 모델별, mpg별 통계치 : 모델별 mpg 데이터 subset\n",
        "df = mycars[['model','mpg']]\n",
        "df.head()"
      ]
    },
    {
      "cell_type": "code",
      "execution_count": null,
      "id": "8fddc5ce",
      "metadata": {
        "id": "8fddc5ce",
        "outputId": "c38672f0-512b-41e1-e5ab-fb1b004e1828"
      },
      "outputs": [
        {
          "data": {
            "text/html": [
              "<div>\n",
              "<style scoped>\n",
              "    .dataframe tbody tr th:only-of-type {\n",
              "        vertical-align: middle;\n",
              "    }\n",
              "\n",
              "    .dataframe tbody tr th {\n",
              "        vertical-align: top;\n",
              "    }\n",
              "\n",
              "    .dataframe thead tr th {\n",
              "        text-align: left;\n",
              "    }\n",
              "\n",
              "    .dataframe thead tr:last-of-type th {\n",
              "        text-align: right;\n",
              "    }\n",
              "</style>\n",
              "<table border=\"1\" class=\"dataframe\">\n",
              "  <thead>\n",
              "    <tr>\n",
              "      <th></th>\n",
              "      <th colspan=\"8\" halign=\"left\">mpg</th>\n",
              "    </tr>\n",
              "    <tr>\n",
              "      <th></th>\n",
              "      <th>count</th>\n",
              "      <th>mean</th>\n",
              "      <th>std</th>\n",
              "      <th>min</th>\n",
              "      <th>25%</th>\n",
              "      <th>50%</th>\n",
              "      <th>75%</th>\n",
              "      <th>max</th>\n",
              "    </tr>\n",
              "    <tr>\n",
              "      <th>model</th>\n",
              "      <th></th>\n",
              "      <th></th>\n",
              "      <th></th>\n",
              "      <th></th>\n",
              "      <th></th>\n",
              "      <th></th>\n",
              "      <th></th>\n",
              "      <th></th>\n",
              "    </tr>\n",
              "  </thead>\n",
              "  <tbody>\n",
              "    <tr>\n",
              "      <th>4runner 4wd</th>\n",
              "      <td>6.0</td>\n",
              "      <td>15.166667</td>\n",
              "      <td>0.752773</td>\n",
              "      <td>14.0</td>\n",
              "      <td>15.00</td>\n",
              "      <td>15.0</td>\n",
              "      <td>15.75</td>\n",
              "      <td>16.0</td>\n",
              "    </tr>\n",
              "    <tr>\n",
              "      <th>a4</th>\n",
              "      <td>7.0</td>\n",
              "      <td>18.857143</td>\n",
              "      <td>1.864454</td>\n",
              "      <td>16.0</td>\n",
              "      <td>18.00</td>\n",
              "      <td>18.0</td>\n",
              "      <td>20.50</td>\n",
              "      <td>21.0</td>\n",
              "    </tr>\n",
              "    <tr>\n",
              "      <th>a4 quattro</th>\n",
              "      <td>8.0</td>\n",
              "      <td>17.125000</td>\n",
              "      <td>1.807722</td>\n",
              "      <td>15.0</td>\n",
              "      <td>15.75</td>\n",
              "      <td>17.0</td>\n",
              "      <td>18.25</td>\n",
              "      <td>20.0</td>\n",
              "    </tr>\n",
              "    <tr>\n",
              "      <th>a6 quattro</th>\n",
              "      <td>3.0</td>\n",
              "      <td>16.000000</td>\n",
              "      <td>1.000000</td>\n",
              "      <td>15.0</td>\n",
              "      <td>15.50</td>\n",
              "      <td>16.0</td>\n",
              "      <td>16.50</td>\n",
              "      <td>17.0</td>\n",
              "    </tr>\n",
              "    <tr>\n",
              "      <th>altima</th>\n",
              "      <td>6.0</td>\n",
              "      <td>20.666667</td>\n",
              "      <td>1.966384</td>\n",
              "      <td>19.0</td>\n",
              "      <td>19.00</td>\n",
              "      <td>20.0</td>\n",
              "      <td>22.50</td>\n",
              "      <td>23.0</td>\n",
              "    </tr>\n",
              "    <tr>\n",
              "      <th>c1500 suburban 2wd</th>\n",
              "      <td>5.0</td>\n",
              "      <td>12.800000</td>\n",
              "      <td>1.303840</td>\n",
              "      <td>11.0</td>\n",
              "      <td>12.00</td>\n",
              "      <td>13.0</td>\n",
              "      <td>14.00</td>\n",
              "      <td>14.0</td>\n",
              "    </tr>\n",
              "    <tr>\n",
              "      <th>camry</th>\n",
              "      <td>7.0</td>\n",
              "      <td>19.857143</td>\n",
              "      <td>1.463850</td>\n",
              "      <td>18.0</td>\n",
              "      <td>18.50</td>\n",
              "      <td>21.0</td>\n",
              "      <td>21.00</td>\n",
              "      <td>21.0</td>\n",
              "    </tr>\n",
              "    <tr>\n",
              "      <th>camry solara</th>\n",
              "      <td>7.0</td>\n",
              "      <td>19.857143</td>\n",
              "      <td>1.772811</td>\n",
              "      <td>18.0</td>\n",
              "      <td>18.00</td>\n",
              "      <td>21.0</td>\n",
              "      <td>21.00</td>\n",
              "      <td>22.0</td>\n",
              "    </tr>\n",
              "    <tr>\n",
              "      <th>caravan 2wd</th>\n",
              "      <td>11.0</td>\n",
              "      <td>15.818182</td>\n",
              "      <td>1.834022</td>\n",
              "      <td>11.0</td>\n",
              "      <td>15.50</td>\n",
              "      <td>16.0</td>\n",
              "      <td>17.00</td>\n",
              "      <td>18.0</td>\n",
              "    </tr>\n",
              "    <tr>\n",
              "      <th>civic</th>\n",
              "      <td>9.0</td>\n",
              "      <td>24.444444</td>\n",
              "      <td>1.943651</td>\n",
              "      <td>21.0</td>\n",
              "      <td>24.00</td>\n",
              "      <td>24.0</td>\n",
              "      <td>25.00</td>\n",
              "      <td>28.0</td>\n",
              "    </tr>\n",
              "    <tr>\n",
              "      <th>corolla</th>\n",
              "      <td>5.0</td>\n",
              "      <td>25.600000</td>\n",
              "      <td>1.673320</td>\n",
              "      <td>24.0</td>\n",
              "      <td>24.00</td>\n",
              "      <td>26.0</td>\n",
              "      <td>26.00</td>\n",
              "      <td>28.0</td>\n",
              "    </tr>\n",
              "    <tr>\n",
              "      <th>corvette</th>\n",
              "      <td>5.0</td>\n",
              "      <td>15.400000</td>\n",
              "      <td>0.547723</td>\n",
              "      <td>15.0</td>\n",
              "      <td>15.00</td>\n",
              "      <td>15.0</td>\n",
              "      <td>16.00</td>\n",
              "      <td>16.0</td>\n",
              "    </tr>\n",
              "    <tr>\n",
              "      <th>dakota pickup 4wd</th>\n",
              "      <td>9.0</td>\n",
              "      <td>12.777778</td>\n",
              "      <td>1.986063</td>\n",
              "      <td>9.0</td>\n",
              "      <td>11.00</td>\n",
              "      <td>14.0</td>\n",
              "      <td>14.00</td>\n",
              "      <td>15.0</td>\n",
              "    </tr>\n",
              "    <tr>\n",
              "      <th>durango 4wd</th>\n",
              "      <td>7.0</td>\n",
              "      <td>11.857143</td>\n",
              "      <td>1.573592</td>\n",
              "      <td>9.0</td>\n",
              "      <td>11.00</td>\n",
              "      <td>13.0</td>\n",
              "      <td>13.00</td>\n",
              "      <td>13.0</td>\n",
              "    </tr>\n",
              "    <tr>\n",
              "      <th>expedition 2wd</th>\n",
              "      <td>3.0</td>\n",
              "      <td>11.333333</td>\n",
              "      <td>0.577350</td>\n",
              "      <td>11.0</td>\n",
              "      <td>11.00</td>\n",
              "      <td>11.0</td>\n",
              "      <td>11.50</td>\n",
              "      <td>12.0</td>\n",
              "    </tr>\n",
              "    <tr>\n",
              "      <th>explorer 4wd</th>\n",
              "      <td>6.0</td>\n",
              "      <td>13.666667</td>\n",
              "      <td>0.816497</td>\n",
              "      <td>13.0</td>\n",
              "      <td>13.00</td>\n",
              "      <td>13.5</td>\n",
              "      <td>14.00</td>\n",
              "      <td>15.0</td>\n",
              "    </tr>\n",
              "    <tr>\n",
              "      <th>f150 pickup 4wd</th>\n",
              "      <td>7.0</td>\n",
              "      <td>13.000000</td>\n",
              "      <td>1.000000</td>\n",
              "      <td>11.0</td>\n",
              "      <td>13.00</td>\n",
              "      <td>13.0</td>\n",
              "      <td>13.50</td>\n",
              "      <td>14.0</td>\n",
              "    </tr>\n",
              "    <tr>\n",
              "      <th>forester awd</th>\n",
              "      <td>6.0</td>\n",
              "      <td>18.833333</td>\n",
              "      <td>0.983192</td>\n",
              "      <td>18.0</td>\n",
              "      <td>18.00</td>\n",
              "      <td>18.5</td>\n",
              "      <td>19.75</td>\n",
              "      <td>20.0</td>\n",
              "    </tr>\n",
              "    <tr>\n",
              "      <th>grand cherokee 4wd</th>\n",
              "      <td>8.0</td>\n",
              "      <td>13.500000</td>\n",
              "      <td>2.507133</td>\n",
              "      <td>9.0</td>\n",
              "      <td>12.50</td>\n",
              "      <td>14.0</td>\n",
              "      <td>15.00</td>\n",
              "      <td>17.0</td>\n",
              "    </tr>\n",
              "    <tr>\n",
              "      <th>grand prix</th>\n",
              "      <td>5.0</td>\n",
              "      <td>17.000000</td>\n",
              "      <td>1.000000</td>\n",
              "      <td>16.0</td>\n",
              "      <td>16.00</td>\n",
              "      <td>17.0</td>\n",
              "      <td>18.00</td>\n",
              "      <td>18.0</td>\n",
              "    </tr>\n",
              "    <tr>\n",
              "      <th>gti</th>\n",
              "      <td>5.0</td>\n",
              "      <td>20.000000</td>\n",
              "      <td>2.000000</td>\n",
              "      <td>17.0</td>\n",
              "      <td>19.00</td>\n",
              "      <td>21.0</td>\n",
              "      <td>21.00</td>\n",
              "      <td>22.0</td>\n",
              "    </tr>\n",
              "    <tr>\n",
              "      <th>impreza awd</th>\n",
              "      <td>8.0</td>\n",
              "      <td>19.625000</td>\n",
              "      <td>0.744024</td>\n",
              "      <td>19.0</td>\n",
              "      <td>19.00</td>\n",
              "      <td>19.5</td>\n",
              "      <td>20.00</td>\n",
              "      <td>21.0</td>\n",
              "    </tr>\n",
              "    <tr>\n",
              "      <th>jetta</th>\n",
              "      <td>9.0</td>\n",
              "      <td>21.222222</td>\n",
              "      <td>4.867694</td>\n",
              "      <td>16.0</td>\n",
              "      <td>19.00</td>\n",
              "      <td>21.0</td>\n",
              "      <td>21.00</td>\n",
              "      <td>33.0</td>\n",
              "    </tr>\n",
              "    <tr>\n",
              "      <th>k1500 tahoe 4wd</th>\n",
              "      <td>4.0</td>\n",
              "      <td>12.500000</td>\n",
              "      <td>1.732051</td>\n",
              "      <td>11.0</td>\n",
              "      <td>11.00</td>\n",
              "      <td>12.5</td>\n",
              "      <td>14.00</td>\n",
              "      <td>14.0</td>\n",
              "    </tr>\n",
              "    <tr>\n",
              "      <th>land cruiser wagon 4wd</th>\n",
              "      <td>2.0</td>\n",
              "      <td>12.000000</td>\n",
              "      <td>1.414214</td>\n",
              "      <td>11.0</td>\n",
              "      <td>11.50</td>\n",
              "      <td>12.0</td>\n",
              "      <td>12.50</td>\n",
              "      <td>13.0</td>\n",
              "    </tr>\n",
              "    <tr>\n",
              "      <th>malibu</th>\n",
              "      <td>5.0</td>\n",
              "      <td>18.800000</td>\n",
              "      <td>1.923538</td>\n",
              "      <td>17.0</td>\n",
              "      <td>18.00</td>\n",
              "      <td>18.0</td>\n",
              "      <td>19.00</td>\n",
              "      <td>22.0</td>\n",
              "    </tr>\n",
              "    <tr>\n",
              "      <th>maxima</th>\n",
              "      <td>3.0</td>\n",
              "      <td>18.666667</td>\n",
              "      <td>0.577350</td>\n",
              "      <td>18.0</td>\n",
              "      <td>18.50</td>\n",
              "      <td>19.0</td>\n",
              "      <td>19.00</td>\n",
              "      <td>19.0</td>\n",
              "    </tr>\n",
              "    <tr>\n",
              "      <th>mountaineer 4wd</th>\n",
              "      <td>4.0</td>\n",
              "      <td>13.250000</td>\n",
              "      <td>0.500000</td>\n",
              "      <td>13.0</td>\n",
              "      <td>13.00</td>\n",
              "      <td>13.0</td>\n",
              "      <td>13.25</td>\n",
              "      <td>14.0</td>\n",
              "    </tr>\n",
              "    <tr>\n",
              "      <th>mustang</th>\n",
              "      <td>9.0</td>\n",
              "      <td>15.888889</td>\n",
              "      <td>1.452966</td>\n",
              "      <td>14.0</td>\n",
              "      <td>15.00</td>\n",
              "      <td>15.0</td>\n",
              "      <td>17.00</td>\n",
              "      <td>18.0</td>\n",
              "    </tr>\n",
              "    <tr>\n",
              "      <th>navigator 2wd</th>\n",
              "      <td>3.0</td>\n",
              "      <td>11.333333</td>\n",
              "      <td>0.577350</td>\n",
              "      <td>11.0</td>\n",
              "      <td>11.00</td>\n",
              "      <td>11.0</td>\n",
              "      <td>11.50</td>\n",
              "      <td>12.0</td>\n",
              "    </tr>\n",
              "    <tr>\n",
              "      <th>new beetle</th>\n",
              "      <td>6.0</td>\n",
              "      <td>24.000000</td>\n",
              "      <td>6.511528</td>\n",
              "      <td>19.0</td>\n",
              "      <td>20.00</td>\n",
              "      <td>20.5</td>\n",
              "      <td>27.00</td>\n",
              "      <td>35.0</td>\n",
              "    </tr>\n",
              "    <tr>\n",
              "      <th>passat</th>\n",
              "      <td>7.0</td>\n",
              "      <td>18.571429</td>\n",
              "      <td>1.902379</td>\n",
              "      <td>16.0</td>\n",
              "      <td>17.50</td>\n",
              "      <td>18.0</td>\n",
              "      <td>20.00</td>\n",
              "      <td>21.0</td>\n",
              "    </tr>\n",
              "    <tr>\n",
              "      <th>pathfinder 4wd</th>\n",
              "      <td>4.0</td>\n",
              "      <td>13.750000</td>\n",
              "      <td>1.258306</td>\n",
              "      <td>12.0</td>\n",
              "      <td>13.50</td>\n",
              "      <td>14.0</td>\n",
              "      <td>14.25</td>\n",
              "      <td>15.0</td>\n",
              "    </tr>\n",
              "    <tr>\n",
              "      <th>ram 1500 pickup 4wd</th>\n",
              "      <td>10.0</td>\n",
              "      <td>11.400000</td>\n",
              "      <td>1.505545</td>\n",
              "      <td>9.0</td>\n",
              "      <td>11.00</td>\n",
              "      <td>11.5</td>\n",
              "      <td>12.75</td>\n",
              "      <td>13.0</td>\n",
              "    </tr>\n",
              "    <tr>\n",
              "      <th>range rover</th>\n",
              "      <td>4.0</td>\n",
              "      <td>11.500000</td>\n",
              "      <td>0.577350</td>\n",
              "      <td>11.0</td>\n",
              "      <td>11.00</td>\n",
              "      <td>11.5</td>\n",
              "      <td>12.00</td>\n",
              "      <td>12.0</td>\n",
              "    </tr>\n",
              "    <tr>\n",
              "      <th>sonata</th>\n",
              "      <td>7.0</td>\n",
              "      <td>19.000000</td>\n",
              "      <td>1.414214</td>\n",
              "      <td>18.0</td>\n",
              "      <td>18.00</td>\n",
              "      <td>18.0</td>\n",
              "      <td>20.00</td>\n",
              "      <td>21.0</td>\n",
              "    </tr>\n",
              "    <tr>\n",
              "      <th>tiburon</th>\n",
              "      <td>7.0</td>\n",
              "      <td>18.285714</td>\n",
              "      <td>1.603567</td>\n",
              "      <td>16.0</td>\n",
              "      <td>17.00</td>\n",
              "      <td>19.0</td>\n",
              "      <td>19.50</td>\n",
              "      <td>20.0</td>\n",
              "    </tr>\n",
              "    <tr>\n",
              "      <th>toyota tacoma 4wd</th>\n",
              "      <td>7.0</td>\n",
              "      <td>15.571429</td>\n",
              "      <td>0.786796</td>\n",
              "      <td>15.0</td>\n",
              "      <td>15.00</td>\n",
              "      <td>15.0</td>\n",
              "      <td>16.00</td>\n",
              "      <td>17.0</td>\n",
              "    </tr>\n",
              "  </tbody>\n",
              "</table>\n",
              "</div>"
            ],
            "text/plain": [
              "                         mpg                                                 \\\n",
              "                       count       mean       std   min    25%   50%    75%   \n",
              "model                                                                         \n",
              "4runner 4wd              6.0  15.166667  0.752773  14.0  15.00  15.0  15.75   \n",
              "a4                       7.0  18.857143  1.864454  16.0  18.00  18.0  20.50   \n",
              "a4 quattro               8.0  17.125000  1.807722  15.0  15.75  17.0  18.25   \n",
              "a6 quattro               3.0  16.000000  1.000000  15.0  15.50  16.0  16.50   \n",
              "altima                   6.0  20.666667  1.966384  19.0  19.00  20.0  22.50   \n",
              "c1500 suburban 2wd       5.0  12.800000  1.303840  11.0  12.00  13.0  14.00   \n",
              "camry                    7.0  19.857143  1.463850  18.0  18.50  21.0  21.00   \n",
              "camry solara             7.0  19.857143  1.772811  18.0  18.00  21.0  21.00   \n",
              "caravan 2wd             11.0  15.818182  1.834022  11.0  15.50  16.0  17.00   \n",
              "civic                    9.0  24.444444  1.943651  21.0  24.00  24.0  25.00   \n",
              "corolla                  5.0  25.600000  1.673320  24.0  24.00  26.0  26.00   \n",
              "corvette                 5.0  15.400000  0.547723  15.0  15.00  15.0  16.00   \n",
              "dakota pickup 4wd        9.0  12.777778  1.986063   9.0  11.00  14.0  14.00   \n",
              "durango 4wd              7.0  11.857143  1.573592   9.0  11.00  13.0  13.00   \n",
              "expedition 2wd           3.0  11.333333  0.577350  11.0  11.00  11.0  11.50   \n",
              "explorer 4wd             6.0  13.666667  0.816497  13.0  13.00  13.5  14.00   \n",
              "f150 pickup 4wd          7.0  13.000000  1.000000  11.0  13.00  13.0  13.50   \n",
              "forester awd             6.0  18.833333  0.983192  18.0  18.00  18.5  19.75   \n",
              "grand cherokee 4wd       8.0  13.500000  2.507133   9.0  12.50  14.0  15.00   \n",
              "grand prix               5.0  17.000000  1.000000  16.0  16.00  17.0  18.00   \n",
              "gti                      5.0  20.000000  2.000000  17.0  19.00  21.0  21.00   \n",
              "impreza awd              8.0  19.625000  0.744024  19.0  19.00  19.5  20.00   \n",
              "jetta                    9.0  21.222222  4.867694  16.0  19.00  21.0  21.00   \n",
              "k1500 tahoe 4wd          4.0  12.500000  1.732051  11.0  11.00  12.5  14.00   \n",
              "land cruiser wagon 4wd   2.0  12.000000  1.414214  11.0  11.50  12.0  12.50   \n",
              "malibu                   5.0  18.800000  1.923538  17.0  18.00  18.0  19.00   \n",
              "maxima                   3.0  18.666667  0.577350  18.0  18.50  19.0  19.00   \n",
              "mountaineer 4wd          4.0  13.250000  0.500000  13.0  13.00  13.0  13.25   \n",
              "mustang                  9.0  15.888889  1.452966  14.0  15.00  15.0  17.00   \n",
              "navigator 2wd            3.0  11.333333  0.577350  11.0  11.00  11.0  11.50   \n",
              "new beetle               6.0  24.000000  6.511528  19.0  20.00  20.5  27.00   \n",
              "passat                   7.0  18.571429  1.902379  16.0  17.50  18.0  20.00   \n",
              "pathfinder 4wd           4.0  13.750000  1.258306  12.0  13.50  14.0  14.25   \n",
              "ram 1500 pickup 4wd     10.0  11.400000  1.505545   9.0  11.00  11.5  12.75   \n",
              "range rover              4.0  11.500000  0.577350  11.0  11.00  11.5  12.00   \n",
              "sonata                   7.0  19.000000  1.414214  18.0  18.00  18.0  20.00   \n",
              "tiburon                  7.0  18.285714  1.603567  16.0  17.00  19.0  19.50   \n",
              "toyota tacoma 4wd        7.0  15.571429  0.786796  15.0  15.00  15.0  16.00   \n",
              "\n",
              "                              \n",
              "                         max  \n",
              "model                         \n",
              "4runner 4wd             16.0  \n",
              "a4                      21.0  \n",
              "a4 quattro              20.0  \n",
              "a6 quattro              17.0  \n",
              "altima                  23.0  \n",
              "c1500 suburban 2wd      14.0  \n",
              "camry                   21.0  \n",
              "camry solara            22.0  \n",
              "caravan 2wd             18.0  \n",
              "civic                   28.0  \n",
              "corolla                 28.0  \n",
              "corvette                16.0  \n",
              "dakota pickup 4wd       15.0  \n",
              "durango 4wd             13.0  \n",
              "expedition 2wd          12.0  \n",
              "explorer 4wd            15.0  \n",
              "f150 pickup 4wd         14.0  \n",
              "forester awd            20.0  \n",
              "grand cherokee 4wd      17.0  \n",
              "grand prix              18.0  \n",
              "gti                     22.0  \n",
              "impreza awd             21.0  \n",
              "jetta                   33.0  \n",
              "k1500 tahoe 4wd         14.0  \n",
              "land cruiser wagon 4wd  13.0  \n",
              "malibu                  22.0  \n",
              "maxima                  19.0  \n",
              "mountaineer 4wd         14.0  \n",
              "mustang                 18.0  \n",
              "navigator 2wd           12.0  \n",
              "new beetle              35.0  \n",
              "passat                  21.0  \n",
              "pathfinder 4wd          15.0  \n",
              "ram 1500 pickup 4wd     13.0  \n",
              "range rover             12.0  \n",
              "sonata                  21.0  \n",
              "tiburon                 20.0  \n",
              "toyota tacoma 4wd       17.0  "
            ]
          },
          "execution_count": 5,
          "metadata": {},
          "output_type": "execute_result"
        }
      ],
      "source": [
        "# 자동차 모델별, mpg 기술통계량\n",
        "df.groupby('model').describe()"
      ]
    },
    {
      "cell_type": "code",
      "execution_count": null,
      "id": "c865a433",
      "metadata": {
        "id": "c865a433",
        "outputId": "742246d7-7ede-4394-cf9d-58c56a4b2483"
      },
      "outputs": [
        {
          "data": {
            "text/html": [
              "<div>\n",
              "<style scoped>\n",
              "    .dataframe tbody tr th:only-of-type {\n",
              "        vertical-align: middle;\n",
              "    }\n",
              "\n",
              "    .dataframe tbody tr th {\n",
              "        vertical-align: top;\n",
              "    }\n",
              "\n",
              "    .dataframe thead th {\n",
              "        text-align: right;\n",
              "    }\n",
              "</style>\n",
              "<table border=\"1\" class=\"dataframe\">\n",
              "  <thead>\n",
              "    <tr style=\"text-align: right;\">\n",
              "      <th></th>\n",
              "      <th>driving</th>\n",
              "      <th>highway_mileage</th>\n",
              "    </tr>\n",
              "  </thead>\n",
              "  <tbody>\n",
              "    <tr>\n",
              "      <th>0</th>\n",
              "      <td>f</td>\n",
              "      <td>29</td>\n",
              "    </tr>\n",
              "    <tr>\n",
              "      <th>1</th>\n",
              "      <td>f</td>\n",
              "      <td>29</td>\n",
              "    </tr>\n",
              "    <tr>\n",
              "      <th>2</th>\n",
              "      <td>f</td>\n",
              "      <td>31</td>\n",
              "    </tr>\n",
              "    <tr>\n",
              "      <th>3</th>\n",
              "      <td>f</td>\n",
              "      <td>30</td>\n",
              "    </tr>\n",
              "    <tr>\n",
              "      <th>4</th>\n",
              "      <td>f</td>\n",
              "      <td>26</td>\n",
              "    </tr>\n",
              "  </tbody>\n",
              "</table>\n",
              "</div>"
            ],
            "text/plain": [
              "  driving  highway_mileage\n",
              "0       f               29\n",
              "1       f               29\n",
              "2       f               31\n",
              "3       f               30\n",
              "4       f               26"
            ]
          },
          "execution_count": 6,
          "metadata": {},
          "output_type": "execute_result"
        }
      ],
      "source": [
        "# 2. 고속도로에서 구동 방식별, 연비(mpg) 통계치 : 구동 방식별 데이터 subset\n",
        "# 자동차 구동 방식(driving) : 4, f, r\n",
        "\n",
        "df = mycars[['driving','highway_mileage']]\n",
        "df.head()"
      ]
    },
    {
      "cell_type": "code",
      "execution_count": null,
      "id": "175d6359",
      "metadata": {
        "id": "175d6359",
        "outputId": "ba06dfb1-b055-4eb4-9817-2461c7274799"
      },
      "outputs": [
        {
          "data": {
            "text/html": [
              "<div>\n",
              "<style scoped>\n",
              "    .dataframe tbody tr th:only-of-type {\n",
              "        vertical-align: middle;\n",
              "    }\n",
              "\n",
              "    .dataframe tbody tr th {\n",
              "        vertical-align: top;\n",
              "    }\n",
              "\n",
              "    .dataframe thead tr th {\n",
              "        text-align: left;\n",
              "    }\n",
              "\n",
              "    .dataframe thead tr:last-of-type th {\n",
              "        text-align: right;\n",
              "    }\n",
              "</style>\n",
              "<table border=\"1\" class=\"dataframe\">\n",
              "  <thead>\n",
              "    <tr>\n",
              "      <th></th>\n",
              "      <th colspan=\"8\" halign=\"left\">highway_mileage</th>\n",
              "    </tr>\n",
              "    <tr>\n",
              "      <th></th>\n",
              "      <th>count</th>\n",
              "      <th>mean</th>\n",
              "      <th>std</th>\n",
              "      <th>min</th>\n",
              "      <th>25%</th>\n",
              "      <th>50%</th>\n",
              "      <th>75%</th>\n",
              "      <th>max</th>\n",
              "    </tr>\n",
              "    <tr>\n",
              "      <th>driving</th>\n",
              "      <th></th>\n",
              "      <th></th>\n",
              "      <th></th>\n",
              "      <th></th>\n",
              "      <th></th>\n",
              "      <th></th>\n",
              "      <th></th>\n",
              "      <th></th>\n",
              "    </tr>\n",
              "  </thead>\n",
              "  <tbody>\n",
              "    <tr>\n",
              "      <th>4</th>\n",
              "      <td>103.0</td>\n",
              "      <td>19.174757</td>\n",
              "      <td>4.078704</td>\n",
              "      <td>12.0</td>\n",
              "      <td>17.0</td>\n",
              "      <td>18.0</td>\n",
              "      <td>22.0</td>\n",
              "      <td>28.0</td>\n",
              "    </tr>\n",
              "    <tr>\n",
              "      <th>f</th>\n",
              "      <td>106.0</td>\n",
              "      <td>28.160377</td>\n",
              "      <td>4.206881</td>\n",
              "      <td>17.0</td>\n",
              "      <td>26.0</td>\n",
              "      <td>28.0</td>\n",
              "      <td>29.0</td>\n",
              "      <td>44.0</td>\n",
              "    </tr>\n",
              "    <tr>\n",
              "      <th>r</th>\n",
              "      <td>25.0</td>\n",
              "      <td>21.000000</td>\n",
              "      <td>3.662877</td>\n",
              "      <td>15.0</td>\n",
              "      <td>17.0</td>\n",
              "      <td>21.0</td>\n",
              "      <td>24.0</td>\n",
              "      <td>26.0</td>\n",
              "    </tr>\n",
              "  </tbody>\n",
              "</table>\n",
              "</div>"
            ],
            "text/plain": [
              "        highway_mileage                                                   \n",
              "                  count       mean       std   min   25%   50%   75%   max\n",
              "driving                                                                   \n",
              "4                 103.0  19.174757  4.078704  12.0  17.0  18.0  22.0  28.0\n",
              "f                 106.0  28.160377  4.206881  17.0  26.0  28.0  29.0  44.0\n",
              "r                  25.0  21.000000  3.662877  15.0  17.0  21.0  24.0  26.0"
            ]
          },
          "execution_count": 7,
          "metadata": {},
          "output_type": "execute_result"
        }
      ],
      "source": [
        "# 자동차 구동 방식별, 연비(mpg) 기술통계량\n",
        "df.groupby('driving').describe()\n",
        "\n",
        "# < 분석 결과 >\n",
        "# # 1. driving 4 그룹\n",
        "#     count: 103\n",
        "#     mean: 19.17\n",
        "#     std: 4.08\n",
        "#     min: 12\n",
        "#     25%: 17\n",
        "#     50%: 18\n",
        "#     75%: 22\n",
        "#     max: 28\n",
        "# # 2. f 그룹\n",
        "#     count: 106\n",
        "#     mean: 28.16\n",
        "#     std: 4.21\n",
        "#     min: 17\n",
        "#     25%: 26\n",
        "#     50%: 28\n",
        "#     75%: 29\n",
        "#     max: 44\n",
        "# # 3. r 그룹\n",
        "#     count: 25\n",
        "#     mean: 21.00\n",
        "#     std: 3.66\n",
        "#     min: 15\n",
        "#     25%: 17\n",
        "#     50%: 21\n",
        "#     75%: 24\n",
        "#     max: 26"
      ]
    },
    {
      "cell_type": "markdown",
      "id": "1a617b76",
      "metadata": {
        "id": "1a617b76"
      },
      "source": [
        "### 2. 실습 (기술통계) : 자동차 모델과 연비 Data Set에서 기술통계치 구하기\n",
        "- 자동차의 모델과 연비(mpg)에 대한 자료를 조사한 table에서 범주형 변수인 구동방식, 모델에 대해 counts, percents, cumulative counts, cumulative percents를 계산하기"
      ]
    },
    {
      "cell_type": "code",
      "execution_count": null,
      "id": "354e662a",
      "metadata": {
        "id": "354e662a",
        "outputId": "568d8fb6-c776-4ff2-8aaf-cf1146259bf8"
      },
      "outputs": [
        {
          "data": {
            "text/plain": [
              "4    103\n",
              "f    106\n",
              "r     25\n",
              "Name: driving, dtype: int64"
            ]
          },
          "execution_count": 8,
          "metadata": {},
          "output_type": "execute_result"
        }
      ],
      "source": [
        "# 자동차 구동방식 counts\n",
        "count = mycars['driving'].value_counts().sort_index()\n",
        "count"
      ]
    },
    {
      "cell_type": "code",
      "execution_count": null,
      "id": "4af3bf2a",
      "metadata": {
        "id": "4af3bf2a",
        "outputId": "22176b8c-ef70-481b-d50d-197660181cb1"
      },
      "outputs": [
        {
          "data": {
            "text/plain": [
              "4    44.017094\n",
              "f    45.299145\n",
              "r    10.683761\n",
              "Name: driving, dtype: float64"
            ]
          },
          "execution_count": 9,
          "metadata": {},
          "output_type": "execute_result"
        }
      ],
      "source": [
        "# 자동차 구동방식 percents\n",
        "percent = count / sum(count) * 100\n",
        "percent"
      ]
    },
    {
      "cell_type": "code",
      "execution_count": null,
      "id": "017cf211",
      "metadata": {
        "id": "017cf211",
        "outputId": "dc0ba68e-0db0-467c-fff0-b1176de84ade"
      },
      "outputs": [
        {
          "data": {
            "text/plain": [
              "4    103\n",
              "f    209\n",
              "r    234\n",
              "Name: driving, dtype: int64"
            ]
          },
          "execution_count": 10,
          "metadata": {},
          "output_type": "execute_result"
        }
      ],
      "source": [
        "# 자동차 구동방식 cumulative counts\n",
        "cumcnt = np.cumsum(count)\n",
        "cumcnt"
      ]
    },
    {
      "cell_type": "code",
      "execution_count": null,
      "id": "643ad3ea",
      "metadata": {
        "id": "643ad3ea",
        "outputId": "4a3fe9c0-00f1-4316-da64-8eb64827e812"
      },
      "outputs": [
        {
          "data": {
            "text/plain": [
              "4     44.017094\n",
              "f     89.316239\n",
              "r    100.000000\n",
              "Name: driving, dtype: float64"
            ]
          },
          "execution_count": 11,
          "metadata": {},
          "output_type": "execute_result"
        }
      ],
      "source": [
        "# 자동차 구동방식 cumulative percents\n",
        "cumpct = np.cumsum(percent) #비율을 누적\n",
        "cumpct"
      ]
    },
    {
      "cell_type": "code",
      "execution_count": null,
      "id": "b8f3620d",
      "metadata": {
        "id": "b8f3620d",
        "outputId": "f984760a-79b4-4134-f078-be8406e4ed18"
      },
      "outputs": [
        {
          "data": {
            "text/html": [
              "<div>\n",
              "<style scoped>\n",
              "    .dataframe tbody tr th:only-of-type {\n",
              "        vertical-align: middle;\n",
              "    }\n",
              "\n",
              "    .dataframe tbody tr th {\n",
              "        vertical-align: top;\n",
              "    }\n",
              "\n",
              "    .dataframe thead th {\n",
              "        text-align: right;\n",
              "    }\n",
              "</style>\n",
              "<table border=\"1\" class=\"dataframe\">\n",
              "  <thead>\n",
              "    <tr style=\"text-align: right;\">\n",
              "      <th></th>\n",
              "      <th>Count</th>\n",
              "      <th>CumCnt</th>\n",
              "      <th>Percent</th>\n",
              "      <th>CumPct</th>\n",
              "    </tr>\n",
              "  </thead>\n",
              "  <tbody>\n",
              "    <tr>\n",
              "      <th>4</th>\n",
              "      <td>103</td>\n",
              "      <td>103</td>\n",
              "      <td>44.017094</td>\n",
              "      <td>44.017094</td>\n",
              "    </tr>\n",
              "    <tr>\n",
              "      <th>f</th>\n",
              "      <td>106</td>\n",
              "      <td>209</td>\n",
              "      <td>45.299145</td>\n",
              "      <td>89.316239</td>\n",
              "    </tr>\n",
              "    <tr>\n",
              "      <th>r</th>\n",
              "      <td>25</td>\n",
              "      <td>234</td>\n",
              "      <td>10.683761</td>\n",
              "      <td>100.000000</td>\n",
              "    </tr>\n",
              "  </tbody>\n",
              "</table>\n",
              "</div>"
            ],
            "text/plain": [
              "   Count  CumCnt    Percent      CumPct\n",
              "4    103     103  44.017094   44.017094\n",
              "f    106     209  45.299145   89.316239\n",
              "r     25     234  10.683761  100.000000"
            ]
          },
          "execution_count": 12,
          "metadata": {},
          "output_type": "execute_result"
        }
      ],
      "source": [
        "# DataFrame으로 취합\n",
        "df = pd.DataFrame({'Count': count,\n",
        "                'CumCnt': cumcnt,\n",
        "                'Percent': percent,\n",
        "                'CumPct': cumpct})\n",
        "df"
      ]
    },
    {
      "cell_type": "code",
      "execution_count": null,
      "id": "bbcad837",
      "metadata": {
        "id": "bbcad837",
        "outputId": "0b4d8c1a-0ec1-4fa9-b275-a06139b4dc51"
      },
      "outputs": [
        {
          "data": {
            "text/plain": [
              "4runner 4wd                6\n",
              "a4                         7\n",
              "a4 quattro                 8\n",
              "a6 quattro                 3\n",
              "altima                     6\n",
              "c1500 suburban 2wd         5\n",
              "camry                      7\n",
              "camry solara               7\n",
              "caravan 2wd               11\n",
              "civic                      9\n",
              "corolla                    5\n",
              "corvette                   5\n",
              "dakota pickup 4wd          9\n",
              "durango 4wd                7\n",
              "expedition 2wd             3\n",
              "explorer 4wd               6\n",
              "f150 pickup 4wd            7\n",
              "forester awd               6\n",
              "grand cherokee 4wd         8\n",
              "grand prix                 5\n",
              "gti                        5\n",
              "impreza awd                8\n",
              "jetta                      9\n",
              "k1500 tahoe 4wd            4\n",
              "land cruiser wagon 4wd     2\n",
              "malibu                     5\n",
              "maxima                     3\n",
              "mountaineer 4wd            4\n",
              "mustang                    9\n",
              "navigator 2wd              3\n",
              "new beetle                 6\n",
              "passat                     7\n",
              "pathfinder 4wd             4\n",
              "ram 1500 pickup 4wd       10\n",
              "range rover                4\n",
              "sonata                     7\n",
              "tiburon                    7\n",
              "toyota tacoma 4wd          7\n",
              "Name: model, dtype: int64"
            ]
          },
          "execution_count": 13,
          "metadata": {},
          "output_type": "execute_result"
        }
      ],
      "source": [
        "# 자동차 모델 counts\n",
        "count = mycars['model'].value_counts().sort_index()\n",
        "count"
      ]
    },
    {
      "cell_type": "code",
      "execution_count": null,
      "id": "c40df346",
      "metadata": {
        "id": "c40df346",
        "outputId": "31a72ec1-2f20-4f1d-cdaf-bb8f90753ca0"
      },
      "outputs": [
        {
          "data": {
            "text/plain": [
              "4runner 4wd               2.564103\n",
              "a4                        2.991453\n",
              "a4 quattro                3.418803\n",
              "a6 quattro                1.282051\n",
              "altima                    2.564103\n",
              "c1500 suburban 2wd        2.136752\n",
              "camry                     2.991453\n",
              "camry solara              2.991453\n",
              "caravan 2wd               4.700855\n",
              "civic                     3.846154\n",
              "corolla                   2.136752\n",
              "corvette                  2.136752\n",
              "dakota pickup 4wd         3.846154\n",
              "durango 4wd               2.991453\n",
              "expedition 2wd            1.282051\n",
              "explorer 4wd              2.564103\n",
              "f150 pickup 4wd           2.991453\n",
              "forester awd              2.564103\n",
              "grand cherokee 4wd        3.418803\n",
              "grand prix                2.136752\n",
              "gti                       2.136752\n",
              "impreza awd               3.418803\n",
              "jetta                     3.846154\n",
              "k1500 tahoe 4wd           1.709402\n",
              "land cruiser wagon 4wd    0.854701\n",
              "malibu                    2.136752\n",
              "maxima                    1.282051\n",
              "mountaineer 4wd           1.709402\n",
              "mustang                   3.846154\n",
              "navigator 2wd             1.282051\n",
              "new beetle                2.564103\n",
              "passat                    2.991453\n",
              "pathfinder 4wd            1.709402\n",
              "ram 1500 pickup 4wd       4.273504\n",
              "range rover               1.709402\n",
              "sonata                    2.991453\n",
              "tiburon                   2.991453\n",
              "toyota tacoma 4wd         2.991453\n",
              "Name: model, dtype: float64"
            ]
          },
          "execution_count": 14,
          "metadata": {},
          "output_type": "execute_result"
        }
      ],
      "source": [
        "# 자동차 모델 percents\n",
        "percent = count / sum(count) * 100\n",
        "percent"
      ]
    },
    {
      "cell_type": "code",
      "execution_count": null,
      "id": "71155fa3",
      "metadata": {
        "id": "71155fa3",
        "outputId": "0d6a393a-37a7-4243-b088-6d33bfcb6eb3"
      },
      "outputs": [
        {
          "data": {
            "text/plain": [
              "4runner 4wd                 6\n",
              "a4                         13\n",
              "a4 quattro                 21\n",
              "a6 quattro                 24\n",
              "altima                     30\n",
              "c1500 suburban 2wd         35\n",
              "camry                      42\n",
              "camry solara               49\n",
              "caravan 2wd                60\n",
              "civic                      69\n",
              "corolla                    74\n",
              "corvette                   79\n",
              "dakota pickup 4wd          88\n",
              "durango 4wd                95\n",
              "expedition 2wd             98\n",
              "explorer 4wd              104\n",
              "f150 pickup 4wd           111\n",
              "forester awd              117\n",
              "grand cherokee 4wd        125\n",
              "grand prix                130\n",
              "gti                       135\n",
              "impreza awd               143\n",
              "jetta                     152\n",
              "k1500 tahoe 4wd           156\n",
              "land cruiser wagon 4wd    158\n",
              "malibu                    163\n",
              "maxima                    166\n",
              "mountaineer 4wd           170\n",
              "mustang                   179\n",
              "navigator 2wd             182\n",
              "new beetle                188\n",
              "passat                    195\n",
              "pathfinder 4wd            199\n",
              "ram 1500 pickup 4wd       209\n",
              "range rover               213\n",
              "sonata                    220\n",
              "tiburon                   227\n",
              "toyota tacoma 4wd         234\n",
              "Name: model, dtype: int64"
            ]
          },
          "execution_count": 15,
          "metadata": {},
          "output_type": "execute_result"
        }
      ],
      "source": [
        "# 자동차 모델 cumulative counts\n",
        "cumcnt = np.cumsum(count)\n",
        "cumcnt"
      ]
    },
    {
      "cell_type": "code",
      "execution_count": null,
      "id": "5284aeca",
      "metadata": {
        "id": "5284aeca",
        "outputId": "859cca8d-edd4-40f4-8ada-af4bc485967d"
      },
      "outputs": [
        {
          "data": {
            "text/plain": [
              "4runner 4wd                 2.564103\n",
              "a4                          5.555556\n",
              "a4 quattro                  8.974359\n",
              "a6 quattro                 10.256410\n",
              "altima                     12.820513\n",
              "c1500 suburban 2wd         14.957265\n",
              "camry                      17.948718\n",
              "camry solara               20.940171\n",
              "caravan 2wd                25.641026\n",
              "civic                      29.487179\n",
              "corolla                    31.623932\n",
              "corvette                   33.760684\n",
              "dakota pickup 4wd          37.606838\n",
              "durango 4wd                40.598291\n",
              "expedition 2wd             41.880342\n",
              "explorer 4wd               44.444444\n",
              "f150 pickup 4wd            47.435897\n",
              "forester awd               50.000000\n",
              "grand cherokee 4wd         53.418803\n",
              "grand prix                 55.555556\n",
              "gti                        57.692308\n",
              "impreza awd                61.111111\n",
              "jetta                      64.957265\n",
              "k1500 tahoe 4wd            66.666667\n",
              "land cruiser wagon 4wd     67.521368\n",
              "malibu                     69.658120\n",
              "maxima                     70.940171\n",
              "mountaineer 4wd            72.649573\n",
              "mustang                    76.495726\n",
              "navigator 2wd              77.777778\n",
              "new beetle                 80.341880\n",
              "passat                     83.333333\n",
              "pathfinder 4wd             85.042735\n",
              "ram 1500 pickup 4wd        89.316239\n",
              "range rover                91.025641\n",
              "sonata                     94.017094\n",
              "tiburon                    97.008547\n",
              "toyota tacoma 4wd         100.000000\n",
              "Name: model, dtype: float64"
            ]
          },
          "execution_count": 16,
          "metadata": {},
          "output_type": "execute_result"
        }
      ],
      "source": [
        "# 자동차 모델 cumulative percents\n",
        "cumpct = np.cumsum(percent)\n",
        "cumpct"
      ]
    },
    {
      "cell_type": "code",
      "execution_count": null,
      "id": "3398f9f6",
      "metadata": {
        "id": "3398f9f6",
        "outputId": "44da25f2-06fb-4216-bcce-8b839c11d423"
      },
      "outputs": [
        {
          "data": {
            "text/html": [
              "<div>\n",
              "<style scoped>\n",
              "    .dataframe tbody tr th:only-of-type {\n",
              "        vertical-align: middle;\n",
              "    }\n",
              "\n",
              "    .dataframe tbody tr th {\n",
              "        vertical-align: top;\n",
              "    }\n",
              "\n",
              "    .dataframe thead th {\n",
              "        text-align: right;\n",
              "    }\n",
              "</style>\n",
              "<table border=\"1\" class=\"dataframe\">\n",
              "  <thead>\n",
              "    <tr style=\"text-align: right;\">\n",
              "      <th></th>\n",
              "      <th>Count</th>\n",
              "      <th>CumCnt</th>\n",
              "      <th>Percent</th>\n",
              "      <th>CumPct</th>\n",
              "    </tr>\n",
              "  </thead>\n",
              "  <tbody>\n",
              "    <tr>\n",
              "      <th>4runner 4wd</th>\n",
              "      <td>6</td>\n",
              "      <td>6</td>\n",
              "      <td>2.564103</td>\n",
              "      <td>2.564103</td>\n",
              "    </tr>\n",
              "    <tr>\n",
              "      <th>a4</th>\n",
              "      <td>7</td>\n",
              "      <td>13</td>\n",
              "      <td>2.991453</td>\n",
              "      <td>5.555556</td>\n",
              "    </tr>\n",
              "    <tr>\n",
              "      <th>a4 quattro</th>\n",
              "      <td>8</td>\n",
              "      <td>21</td>\n",
              "      <td>3.418803</td>\n",
              "      <td>8.974359</td>\n",
              "    </tr>\n",
              "    <tr>\n",
              "      <th>a6 quattro</th>\n",
              "      <td>3</td>\n",
              "      <td>24</td>\n",
              "      <td>1.282051</td>\n",
              "      <td>10.256410</td>\n",
              "    </tr>\n",
              "    <tr>\n",
              "      <th>altima</th>\n",
              "      <td>6</td>\n",
              "      <td>30</td>\n",
              "      <td>2.564103</td>\n",
              "      <td>12.820513</td>\n",
              "    </tr>\n",
              "    <tr>\n",
              "      <th>c1500 suburban 2wd</th>\n",
              "      <td>5</td>\n",
              "      <td>35</td>\n",
              "      <td>2.136752</td>\n",
              "      <td>14.957265</td>\n",
              "    </tr>\n",
              "    <tr>\n",
              "      <th>camry</th>\n",
              "      <td>7</td>\n",
              "      <td>42</td>\n",
              "      <td>2.991453</td>\n",
              "      <td>17.948718</td>\n",
              "    </tr>\n",
              "    <tr>\n",
              "      <th>camry solara</th>\n",
              "      <td>7</td>\n",
              "      <td>49</td>\n",
              "      <td>2.991453</td>\n",
              "      <td>20.940171</td>\n",
              "    </tr>\n",
              "    <tr>\n",
              "      <th>caravan 2wd</th>\n",
              "      <td>11</td>\n",
              "      <td>60</td>\n",
              "      <td>4.700855</td>\n",
              "      <td>25.641026</td>\n",
              "    </tr>\n",
              "    <tr>\n",
              "      <th>civic</th>\n",
              "      <td>9</td>\n",
              "      <td>69</td>\n",
              "      <td>3.846154</td>\n",
              "      <td>29.487179</td>\n",
              "    </tr>\n",
              "    <tr>\n",
              "      <th>corolla</th>\n",
              "      <td>5</td>\n",
              "      <td>74</td>\n",
              "      <td>2.136752</td>\n",
              "      <td>31.623932</td>\n",
              "    </tr>\n",
              "    <tr>\n",
              "      <th>corvette</th>\n",
              "      <td>5</td>\n",
              "      <td>79</td>\n",
              "      <td>2.136752</td>\n",
              "      <td>33.760684</td>\n",
              "    </tr>\n",
              "    <tr>\n",
              "      <th>dakota pickup 4wd</th>\n",
              "      <td>9</td>\n",
              "      <td>88</td>\n",
              "      <td>3.846154</td>\n",
              "      <td>37.606838</td>\n",
              "    </tr>\n",
              "    <tr>\n",
              "      <th>durango 4wd</th>\n",
              "      <td>7</td>\n",
              "      <td>95</td>\n",
              "      <td>2.991453</td>\n",
              "      <td>40.598291</td>\n",
              "    </tr>\n",
              "    <tr>\n",
              "      <th>expedition 2wd</th>\n",
              "      <td>3</td>\n",
              "      <td>98</td>\n",
              "      <td>1.282051</td>\n",
              "      <td>41.880342</td>\n",
              "    </tr>\n",
              "    <tr>\n",
              "      <th>explorer 4wd</th>\n",
              "      <td>6</td>\n",
              "      <td>104</td>\n",
              "      <td>2.564103</td>\n",
              "      <td>44.444444</td>\n",
              "    </tr>\n",
              "    <tr>\n",
              "      <th>f150 pickup 4wd</th>\n",
              "      <td>7</td>\n",
              "      <td>111</td>\n",
              "      <td>2.991453</td>\n",
              "      <td>47.435897</td>\n",
              "    </tr>\n",
              "    <tr>\n",
              "      <th>forester awd</th>\n",
              "      <td>6</td>\n",
              "      <td>117</td>\n",
              "      <td>2.564103</td>\n",
              "      <td>50.000000</td>\n",
              "    </tr>\n",
              "    <tr>\n",
              "      <th>grand cherokee 4wd</th>\n",
              "      <td>8</td>\n",
              "      <td>125</td>\n",
              "      <td>3.418803</td>\n",
              "      <td>53.418803</td>\n",
              "    </tr>\n",
              "    <tr>\n",
              "      <th>grand prix</th>\n",
              "      <td>5</td>\n",
              "      <td>130</td>\n",
              "      <td>2.136752</td>\n",
              "      <td>55.555556</td>\n",
              "    </tr>\n",
              "    <tr>\n",
              "      <th>gti</th>\n",
              "      <td>5</td>\n",
              "      <td>135</td>\n",
              "      <td>2.136752</td>\n",
              "      <td>57.692308</td>\n",
              "    </tr>\n",
              "    <tr>\n",
              "      <th>impreza awd</th>\n",
              "      <td>8</td>\n",
              "      <td>143</td>\n",
              "      <td>3.418803</td>\n",
              "      <td>61.111111</td>\n",
              "    </tr>\n",
              "    <tr>\n",
              "      <th>jetta</th>\n",
              "      <td>9</td>\n",
              "      <td>152</td>\n",
              "      <td>3.846154</td>\n",
              "      <td>64.957265</td>\n",
              "    </tr>\n",
              "    <tr>\n",
              "      <th>k1500 tahoe 4wd</th>\n",
              "      <td>4</td>\n",
              "      <td>156</td>\n",
              "      <td>1.709402</td>\n",
              "      <td>66.666667</td>\n",
              "    </tr>\n",
              "    <tr>\n",
              "      <th>land cruiser wagon 4wd</th>\n",
              "      <td>2</td>\n",
              "      <td>158</td>\n",
              "      <td>0.854701</td>\n",
              "      <td>67.521368</td>\n",
              "    </tr>\n",
              "    <tr>\n",
              "      <th>malibu</th>\n",
              "      <td>5</td>\n",
              "      <td>163</td>\n",
              "      <td>2.136752</td>\n",
              "      <td>69.658120</td>\n",
              "    </tr>\n",
              "    <tr>\n",
              "      <th>maxima</th>\n",
              "      <td>3</td>\n",
              "      <td>166</td>\n",
              "      <td>1.282051</td>\n",
              "      <td>70.940171</td>\n",
              "    </tr>\n",
              "    <tr>\n",
              "      <th>mountaineer 4wd</th>\n",
              "      <td>4</td>\n",
              "      <td>170</td>\n",
              "      <td>1.709402</td>\n",
              "      <td>72.649573</td>\n",
              "    </tr>\n",
              "    <tr>\n",
              "      <th>mustang</th>\n",
              "      <td>9</td>\n",
              "      <td>179</td>\n",
              "      <td>3.846154</td>\n",
              "      <td>76.495726</td>\n",
              "    </tr>\n",
              "    <tr>\n",
              "      <th>navigator 2wd</th>\n",
              "      <td>3</td>\n",
              "      <td>182</td>\n",
              "      <td>1.282051</td>\n",
              "      <td>77.777778</td>\n",
              "    </tr>\n",
              "    <tr>\n",
              "      <th>new beetle</th>\n",
              "      <td>6</td>\n",
              "      <td>188</td>\n",
              "      <td>2.564103</td>\n",
              "      <td>80.341880</td>\n",
              "    </tr>\n",
              "    <tr>\n",
              "      <th>passat</th>\n",
              "      <td>7</td>\n",
              "      <td>195</td>\n",
              "      <td>2.991453</td>\n",
              "      <td>83.333333</td>\n",
              "    </tr>\n",
              "    <tr>\n",
              "      <th>pathfinder 4wd</th>\n",
              "      <td>4</td>\n",
              "      <td>199</td>\n",
              "      <td>1.709402</td>\n",
              "      <td>85.042735</td>\n",
              "    </tr>\n",
              "    <tr>\n",
              "      <th>ram 1500 pickup 4wd</th>\n",
              "      <td>10</td>\n",
              "      <td>209</td>\n",
              "      <td>4.273504</td>\n",
              "      <td>89.316239</td>\n",
              "    </tr>\n",
              "    <tr>\n",
              "      <th>range rover</th>\n",
              "      <td>4</td>\n",
              "      <td>213</td>\n",
              "      <td>1.709402</td>\n",
              "      <td>91.025641</td>\n",
              "    </tr>\n",
              "    <tr>\n",
              "      <th>sonata</th>\n",
              "      <td>7</td>\n",
              "      <td>220</td>\n",
              "      <td>2.991453</td>\n",
              "      <td>94.017094</td>\n",
              "    </tr>\n",
              "    <tr>\n",
              "      <th>tiburon</th>\n",
              "      <td>7</td>\n",
              "      <td>227</td>\n",
              "      <td>2.991453</td>\n",
              "      <td>97.008547</td>\n",
              "    </tr>\n",
              "    <tr>\n",
              "      <th>toyota tacoma 4wd</th>\n",
              "      <td>7</td>\n",
              "      <td>234</td>\n",
              "      <td>2.991453</td>\n",
              "      <td>100.000000</td>\n",
              "    </tr>\n",
              "  </tbody>\n",
              "</table>\n",
              "</div>"
            ],
            "text/plain": [
              "                        Count  CumCnt   Percent      CumPct\n",
              "4runner 4wd                 6       6  2.564103    2.564103\n",
              "a4                          7      13  2.991453    5.555556\n",
              "a4 quattro                  8      21  3.418803    8.974359\n",
              "a6 quattro                  3      24  1.282051   10.256410\n",
              "altima                      6      30  2.564103   12.820513\n",
              "c1500 suburban 2wd          5      35  2.136752   14.957265\n",
              "camry                       7      42  2.991453   17.948718\n",
              "camry solara                7      49  2.991453   20.940171\n",
              "caravan 2wd                11      60  4.700855   25.641026\n",
              "civic                       9      69  3.846154   29.487179\n",
              "corolla                     5      74  2.136752   31.623932\n",
              "corvette                    5      79  2.136752   33.760684\n",
              "dakota pickup 4wd           9      88  3.846154   37.606838\n",
              "durango 4wd                 7      95  2.991453   40.598291\n",
              "expedition 2wd              3      98  1.282051   41.880342\n",
              "explorer 4wd                6     104  2.564103   44.444444\n",
              "f150 pickup 4wd             7     111  2.991453   47.435897\n",
              "forester awd                6     117  2.564103   50.000000\n",
              "grand cherokee 4wd          8     125  3.418803   53.418803\n",
              "grand prix                  5     130  2.136752   55.555556\n",
              "gti                         5     135  2.136752   57.692308\n",
              "impreza awd                 8     143  3.418803   61.111111\n",
              "jetta                       9     152  3.846154   64.957265\n",
              "k1500 tahoe 4wd             4     156  1.709402   66.666667\n",
              "land cruiser wagon 4wd      2     158  0.854701   67.521368\n",
              "malibu                      5     163  2.136752   69.658120\n",
              "maxima                      3     166  1.282051   70.940171\n",
              "mountaineer 4wd             4     170  1.709402   72.649573\n",
              "mustang                     9     179  3.846154   76.495726\n",
              "navigator 2wd               3     182  1.282051   77.777778\n",
              "new beetle                  6     188  2.564103   80.341880\n",
              "passat                      7     195  2.991453   83.333333\n",
              "pathfinder 4wd              4     199  1.709402   85.042735\n",
              "ram 1500 pickup 4wd        10     209  4.273504   89.316239\n",
              "range rover                 4     213  1.709402   91.025641\n",
              "sonata                      7     220  2.991453   94.017094\n",
              "tiburon                     7     227  2.991453   97.008547\n",
              "toyota tacoma 4wd           7     234  2.991453  100.000000"
            ]
          },
          "execution_count": 17,
          "metadata": {},
          "output_type": "execute_result"
        }
      ],
      "source": [
        "# DataFrame으로 취합\n",
        "df = pd.DataFrame({'Count': count,\n",
        "                'CumCnt': cumcnt,\n",
        "                'Percent': percent,\n",
        "                'CumPct': cumpct})\n",
        "df"
      ]
    },
    {
      "cell_type": "markdown",
      "id": "58456771",
      "metadata": {
        "id": "58456771"
      },
      "source": [
        "### 3. 실습(확률계산) : 대한민국 남성의 20-30대 키를 측정한 결과, 평균 175cm, 표준편차 5cm이다. 나의 키가 180cm일 경우에 나는 몇 % 범위에 위치할까요?"
      ]
    },
    {
      "cell_type": "code",
      "execution_count": null,
      "id": "a9b2901e",
      "metadata": {
        "id": "a9b2901e",
        "outputId": "0c62c8ef-fa36-46e5-ba78-d8152cd8d51b"
      },
      "outputs": [
        {
          "name": "stdout",
          "output_type": "stream",
          "text": [
            "180cm일 경우 상위 15.87% 범위에 위치한다.\n"
          ]
        }
      ],
      "source": [
        "mu = 175\n",
        "sigma = 5\n",
        "x = 180\n",
        "prob = stats.norm.cdf(x, mu, sigma)\n",
        "print(\"{0}cm일 경우 상위 {1:.2f}% 범위에 위치한다.\".format(x, (1-prob)*100))"
      ]
    },
    {
      "cell_type": "markdown",
      "id": "e40d230f",
      "metadata": {
        "id": "e40d230f"
      },
      "source": [
        "### 4. 실습(확률계산) : 어떤 자동차 1리터당 주행거리가 평균 12km, 표준편차 3km인 정규분포를 이룬다. 1) 1리터를 가지고 9km 이상 15km 이하를 달릴 확률은 얼마인가? 2) 1리터를 가지고 15km 이상을 달릴 확률은 얼마인가요?"
      ]
    },
    {
      "cell_type": "code",
      "execution_count": null,
      "id": "0cadc063",
      "metadata": {
        "id": "0cadc063",
        "outputId": "68cc3f2e-d7d8-449b-84e2-39b4f49b88b1"
      },
      "outputs": [
        {
          "name": "stdout",
          "output_type": "stream",
          "text": [
            "9km 이상 15km 이하를 달릴 확률은 68.27%에 해당한다.\n",
            "15km 이상 달릴 확률은 15.87%에 해당한다.\n"
          ]
        }
      ],
      "source": [
        "mu = 12\n",
        "sigma = 3\n",
        "x1 = 9\n",
        "x2 = 15\n",
        "prob1 = stats.norm.cdf(x1, mu, sigma)\n",
        "prob2 = stats.norm.cdf(x2, mu, sigma)\n",
        "print(\"{0}km 이상 {1}km 이하를 달릴 확률은 {2:.2f}%에 해당한다.\".format(x1, x2, (prob2-prob1)*100))\n",
        "print(\"{0}km 이상 달릴 확률은 {1:.2f}%에 해당한다.\".format(x2, (1-prob2)*100))"
      ]
    },
    {
      "cell_type": "markdown",
      "id": "3bb142a5",
      "metadata": {
        "id": "3bb142a5"
      },
      "source": [
        "### 5. 실습(t분포) : 확률변수 t는 자유도가 100인 t-분포를 따른다. t값이 2.0일 때 P(T <=t )를 계산하세요."
      ]
    },
    {
      "cell_type": "code",
      "execution_count": null,
      "id": "02916386",
      "metadata": {
        "id": "02916386",
        "outputId": "c6e37c39-6c4f-41fb-ade8-6b45814fa95a"
      },
      "outputs": [
        {
          "name": "stdout",
          "output_type": "stream",
          "text": [
            "P(T<=t): 0.976\n"
          ]
        }
      ],
      "source": [
        "t = 2.0\n",
        "df = 100\n",
        "prob = stats.t.cdf(t, df)\n",
        "print(\"P(T<=t): {:.3f}\".format(prob))"
      ]
    },
    {
      "cell_type": "markdown",
      "id": "4fd2f49f",
      "metadata": {
        "id": "4fd2f49f"
      },
      "source": [
        "### 6. 실습(t분포) : 확률변수 x^2는 자유도가 8인 x^2 -분포를 따른다. x^2 값이 3.0일 때, P(X <= x^2)을 계산하시오."
      ]
    },
    {
      "cell_type": "code",
      "execution_count": null,
      "id": "3fa6832b",
      "metadata": {
        "id": "3fa6832b",
        "outputId": "fbd0680b-d18e-4f5f-b810-193605e0a69c"
      },
      "outputs": [
        {
          "name": "stdout",
          "output_type": "stream",
          "text": [
            "P(T<=3.0): 0.0656\n"
          ]
        }
      ],
      "source": [
        "chisq = 3.0\n",
        "df = 8\n",
        "prob = stats.chi2.cdf(chisq, df)\n",
        "print(\"P(T<={0}): {1:.4f}\".format(chisq, prob))"
      ]
    },
    {
      "cell_type": "markdown",
      "id": "377af548",
      "metadata": {
        "id": "377af548"
      },
      "source": [
        "### 7. 실습(F분포) : 확률변수 F는 각각 자유도가 10, 100인 F분포를 따른다. F값이 1.5일 때, P(X <= F)를 계산하시오."
      ]
    },
    {
      "cell_type": "code",
      "execution_count": null,
      "id": "d9ebf8cb",
      "metadata": {
        "id": "d9ebf8cb",
        "outputId": "2a298a5b-b32a-4f78-d98f-8f66fa024367"
      },
      "outputs": [
        {
          "name": "stdout",
          "output_type": "stream",
          "text": [
            "P(X<=F): 0.850\n"
          ]
        }
      ],
      "source": [
        "f = 1.5 #F값\n",
        "dfnum = 10 #자유도\n",
        "dfden = 100\n",
        "prob = stats.f.cdf(x=f, dfn = dfnum, dfd = dfden)\n",
        "print(\"P(X<=F): {:.3f}\".format(prob))"
      ]
    },
    {
      "cell_type": "markdown",
      "id": "ee5de3df",
      "metadata": {
        "id": "ee5de3df"
      },
      "source": [
        "### 8. 실습(이항분포) : 도장공정에서 광택도 불량이 30%나 된다고 함. 5대의 차량을 임의로 선택했을 때 불량대수가 0, 1, 2, 3, 4, 5대가 나올 확률을 계산하시오."
      ]
    },
    {
      "cell_type": "code",
      "execution_count": null,
      "id": "59d12edd",
      "metadata": {
        "id": "59d12edd",
        "outputId": "44ed1e2a-e9aa-44fa-f40c-52a89435f64b"
      },
      "outputs": [
        {
          "name": "stdout",
          "output_type": "stream",
          "text": [
            "P(X=0) = 0.168\n",
            "P(X=1) = 0.360\n",
            "P(X=2) = 0.309\n",
            "P(X=3) = 0.132\n",
            "P(X=4) = 0.028\n",
            "P(X=5) = 0.002\n"
          ]
        }
      ],
      "source": [
        "n = 5 #불량대수\n",
        "for i in range(n+1):\n",
        "    prob = stats.binom.pmf(k=i, n=n, p=0.3)\n",
        "    print(\"P(X={0}) = {1:.3f}\".format(i, prob))"
      ]
    },
    {
      "cell_type": "markdown",
      "id": "bd06c36e",
      "metadata": {
        "id": "bd06c36e"
      },
      "source": [
        "### 9. 실습(정규성 검정) : 실습파일에서 Mat_A와 Mat_B에 대해 정규성을 검정하세요."
      ]
    },
    {
      "cell_type": "code",
      "execution_count": null,
      "id": "81b490f9",
      "metadata": {
        "id": "81b490f9",
        "outputId": "135fe52b-4b31-4319-99eb-91e5245778a3"
      },
      "outputs": [
        {
          "data": {
            "text/html": [
              "<div>\n",
              "<style scoped>\n",
              "    .dataframe tbody tr th:only-of-type {\n",
              "        vertical-align: middle;\n",
              "    }\n",
              "\n",
              "    .dataframe tbody tr th {\n",
              "        vertical-align: top;\n",
              "    }\n",
              "\n",
              "    .dataframe thead th {\n",
              "        text-align: right;\n",
              "    }\n",
              "</style>\n",
              "<table border=\"1\" class=\"dataframe\">\n",
              "  <thead>\n",
              "    <tr style=\"text-align: right;\">\n",
              "      <th></th>\n",
              "      <th>Mat_A</th>\n",
              "      <th>Mat_B</th>\n",
              "    </tr>\n",
              "  </thead>\n",
              "  <tbody>\n",
              "    <tr>\n",
              "      <th>0</th>\n",
              "      <td>73.4</td>\n",
              "      <td>68.7</td>\n",
              "    </tr>\n",
              "    <tr>\n",
              "      <th>1</th>\n",
              "      <td>77.0</td>\n",
              "      <td>71.4</td>\n",
              "    </tr>\n",
              "    <tr>\n",
              "      <th>2</th>\n",
              "      <td>73.7</td>\n",
              "      <td>69.8</td>\n",
              "    </tr>\n",
              "    <tr>\n",
              "      <th>3</th>\n",
              "      <td>73.3</td>\n",
              "      <td>75.3</td>\n",
              "    </tr>\n",
              "    <tr>\n",
              "      <th>4</th>\n",
              "      <td>73.1</td>\n",
              "      <td>71.3</td>\n",
              "    </tr>\n",
              "  </tbody>\n",
              "</table>\n",
              "</div>"
            ],
            "text/plain": [
              "   Mat_A  Mat_B\n",
              "0   73.4   68.7\n",
              "1   77.0   71.4\n",
              "2   73.7   69.8\n",
              "3   73.3   75.3\n",
              "4   73.1   71.3"
            ]
          },
          "execution_count": 24,
          "metadata": {},
          "output_type": "execute_result"
        }
      ],
      "source": [
        "# 2sample_t_test.csv 데이터 가져오기\n",
        "df = pd.read_csv(\"/home/piai/바탕화면/빅데이터주간/01 실습파일/1 Big Data 분석 기초/2sample_t_test.csv\")\n",
        "df.head()\n"
      ]
    },
    {
      "cell_type": "code",
      "execution_count": null,
      "id": "a02d4606",
      "metadata": {
        "id": "a02d4606",
        "outputId": "0cf52c72-f682-4ac2-d607-e69261dcfaaf"
      },
      "outputs": [
        {
          "name": "stdout",
          "output_type": "stream",
          "text": [
            "Shapiro-Wilk test : statistic=0.906264066696167, p_value=0.2563020884990692\n",
            "\n",
            "정규성 검정시, 5% 유의수준 사용시 p-value가 0.05보다 크므로 Mat_A분포는 정규분포를 따른다 할 수 있다.\n",
            "\n"
          ]
        }
      ],
      "source": [
        "# Mat_A에 대한 정규성 검정 : shapiro_wilk test\n",
        "statistic, p = stats.shapiro(df['Mat_A'])\n",
        "print(\"Shapiro-Wilk test : statistic={}, p_value={}\\n\".format(statistic, p))\n",
        "print(\"정규성 검정시, 5% 유의수준 사용시 p-value가 0.05보다 크므로 Mat_A분포는 정규분포를 따른다 할 수 있다.\\n\")"
      ]
    },
    {
      "cell_type": "code",
      "execution_count": null,
      "id": "e3ed5cea",
      "metadata": {
        "id": "e3ed5cea",
        "outputId": "e95a71e9-bace-4ac3-b106-05dde7061993"
      },
      "outputs": [
        {
          "name": "stdout",
          "output_type": "stream",
          "text": [
            "Shapiro-Wilk test : statistic=0.9729753732681274, p_value=0.9169775247573853\n",
            "\n",
            "정규성 검정시, 5% 유의수준 사용시 p-value가 0.05보다 크므로 Mat_B분포는 정규분포를 따른다 할 수 있다.\n",
            "\n"
          ]
        }
      ],
      "source": [
        "# Mat_B에 대한 정규성 검정 : shapiro_wilk test\n",
        "statistic, p = stats.shapiro(df['Mat_B'])\n",
        "print(\"Shapiro-Wilk test : statistic={}, p_value={}\\n\".format(statistic, p))\n",
        "\n",
        "print(\"정규성 검정시, 5% 유의수준 사용시 p-value가 0.05보다 크므로 Mat_B분포는 정규분포를 따른다 할 수 있다.\\n\")"
      ]
    },
    {
      "cell_type": "markdown",
      "id": "3386111d",
      "metadata": {
        "id": "3386111d"
      },
      "source": [
        "### 10. 실습(모평균 구간추정) : 새로운 품종의 감자 20box를 랜덤추출하여 무게를 측정할 결과가 다음과 같음. (모표준편차는 3.8일 때) 이 자료로부터 신품종 배추의 평균무게에 대한 95% 신뢰구간을 구하시오."
      ]
    },
    {
      "cell_type": "code",
      "execution_count": null,
      "id": "51095978",
      "metadata": {
        "id": "51095978",
        "outputId": "623b31ff-389f-4ff4-8416-81507c79d1ea"
      },
      "outputs": [
        {
          "data": {
            "text/html": [
              "<div>\n",
              "<style scoped>\n",
              "    .dataframe tbody tr th:only-of-type {\n",
              "        vertical-align: middle;\n",
              "    }\n",
              "\n",
              "    .dataframe tbody tr th {\n",
              "        vertical-align: top;\n",
              "    }\n",
              "\n",
              "    .dataframe thead th {\n",
              "        text-align: right;\n",
              "    }\n",
              "</style>\n",
              "<table border=\"1\" class=\"dataframe\">\n",
              "  <thead>\n",
              "    <tr style=\"text-align: right;\">\n",
              "      <th></th>\n",
              "      <th>potatos</th>\n",
              "    </tr>\n",
              "  </thead>\n",
              "  <tbody>\n",
              "    <tr>\n",
              "      <th>0</th>\n",
              "      <td>18</td>\n",
              "    </tr>\n",
              "    <tr>\n",
              "      <th>1</th>\n",
              "      <td>18</td>\n",
              "    </tr>\n",
              "    <tr>\n",
              "      <th>2</th>\n",
              "      <td>20</td>\n",
              "    </tr>\n",
              "    <tr>\n",
              "      <th>3</th>\n",
              "      <td>21</td>\n",
              "    </tr>\n",
              "    <tr>\n",
              "      <th>4</th>\n",
              "      <td>20</td>\n",
              "    </tr>\n",
              "  </tbody>\n",
              "</table>\n",
              "</div>"
            ],
            "text/plain": [
              "   potatos\n",
              "0       18\n",
              "1       18\n",
              "2       20\n",
              "3       21\n",
              "4       20"
            ]
          },
          "execution_count": 27,
          "metadata": {},
          "output_type": "execute_result"
        }
      ],
      "source": [
        "df = pd.DataFrame({'potatos':[18,18,20,21,20,23,19,\n",
        "                            18,17,21,22,20,20,21,\n",
        "                            20,19,19,18,17,19]})\n",
        "df.head()"
      ]
    },
    {
      "cell_type": "code",
      "execution_count": null,
      "id": "116d616f",
      "metadata": {
        "id": "116d616f",
        "outputId": "d135e7a4-13bf-4d33-8ad3-a62ea6a51ac2"
      },
      "outputs": [
        {
          "name": "stdout",
          "output_type": "stream",
          "text": [
            "95% 신뢰구간 : ([19.33], [19.67])\n"
          ]
        },
        {
          "name": "stderr",
          "output_type": "stream",
          "text": [
            "/home/piai/anaconda3/lib/python3.10/site-packages/numpy/core/fromnumeric.py:3430: FutureWarning: In a future version, DataFrame.mean(axis=None) will return a scalar mean over the entire DataFrame. To retain the old behavior, use 'frame.mean(axis=0)' or just 'frame.mean()'\n",
            "  return mean(axis=axis, dtype=dtype, out=out, **kwargs)\n"
          ]
        }
      ],
      "source": [
        "#정규 분포 구간 추정 함수 실행\n",
        "lower, upper = stats.norm.interval(0.95, loc = np.mean(df), scale=0.38/np.sqrt(20))\n",
        "print(\"95% 신뢰구간 : ({0}, {1})\".format(lower.round(2), upper.round(2)))"
      ]
    },
    {
      "cell_type": "markdown",
      "id": "9eee02c2",
      "metadata": {
        "id": "9eee02c2"
      },
      "source": [
        "### 11. 실습(모평균 구간추정) : 제품개발자는 새로 개발된 강종의 평균 인장강도 70kg/mm^2으로 기대하고 있음. 이를 엄증하기 위해 시험 생산되는 강종 중 임의로 20개의 코일을 대상으로 랜덤하게 시편을 채취. 상기 자료로 부터 표본평균 71.50kg/mm^2, 표본표준편차 1.933km/mm^2임을 알았음. 이 모평균값의 95% 신뢰구간을 추청하시오."
      ]
    },
    {
      "cell_type": "code",
      "execution_count": null,
      "id": "e9273c8a",
      "metadata": {
        "id": "e9273c8a",
        "outputId": "ec280bdd-ce6e-4353-82cf-23e6ff99b30a"
      },
      "outputs": [
        {
          "data": {
            "text/html": [
              "<div>\n",
              "<style scoped>\n",
              "    .dataframe tbody tr th:only-of-type {\n",
              "        vertical-align: middle;\n",
              "    }\n",
              "\n",
              "    .dataframe tbody tr th {\n",
              "        vertical-align: top;\n",
              "    }\n",
              "\n",
              "    .dataframe thead th {\n",
              "        text-align: right;\n",
              "    }\n",
              "</style>\n",
              "<table border=\"1\" class=\"dataframe\">\n",
              "  <thead>\n",
              "    <tr style=\"text-align: right;\">\n",
              "      <th></th>\n",
              "      <th>kangjong</th>\n",
              "    </tr>\n",
              "  </thead>\n",
              "  <tbody>\n",
              "    <tr>\n",
              "      <th>0</th>\n",
              "      <td>73</td>\n",
              "    </tr>\n",
              "    <tr>\n",
              "      <th>1</th>\n",
              "      <td>71</td>\n",
              "    </tr>\n",
              "    <tr>\n",
              "      <th>2</th>\n",
              "      <td>74</td>\n",
              "    </tr>\n",
              "    <tr>\n",
              "      <th>3</th>\n",
              "      <td>69</td>\n",
              "    </tr>\n",
              "    <tr>\n",
              "      <th>4</th>\n",
              "      <td>70</td>\n",
              "    </tr>\n",
              "  </tbody>\n",
              "</table>\n",
              "</div>"
            ],
            "text/plain": [
              "   kangjong\n",
              "0        73\n",
              "1        71\n",
              "2        74\n",
              "3        69\n",
              "4        70"
            ]
          },
          "execution_count": 29,
          "metadata": {},
          "output_type": "execute_result"
        }
      ],
      "source": [
        "df = pd.DataFrame({'kangjong':[73,71,74,69,70,73,70,\n",
        "                             68,75,72,70,72,73,70,\n",
        "                             70,72,71,70,75,72]})\n",
        "df.head()"
      ]
    },
    {
      "cell_type": "code",
      "execution_count": null,
      "id": "c5c7498f",
      "metadata": {
        "id": "c5c7498f",
        "outputId": "92741075-a427-4a38-f5b6-7ec371c26b01"
      },
      "outputs": [
        {
          "name": "stdout",
          "output_type": "stream",
          "text": [
            "신뢰구간 : ([70.6],[72.4])\n"
          ]
        },
        {
          "name": "stderr",
          "output_type": "stream",
          "text": [
            "/home/piai/anaconda3/lib/python3.10/site-packages/numpy/core/fromnumeric.py:3430: FutureWarning: In a future version, DataFrame.mean(axis=None) will return a scalar mean over the entire DataFrame. To retain the old behavior, use 'frame.mean(axis=0)' or just 'frame.mean()'\n",
            "  return mean(axis=axis, dtype=dtype, out=out, **kwargs)\n"
          ]
        }
      ],
      "source": [
        "#정규 분포 구간 추정 함수 실행\n",
        "lower, upper = stats.t.interval(0.95, len(df)-1, loc = np.mean(df), scale = stats.sem(df))\n",
        "print(\"신뢰구간 : ({0},{1})\".format(lower.round(2), upper.round(2)))"
      ]
    },
    {
      "cell_type": "markdown",
      "id": "ab5eb4a7",
      "metadata": {
        "id": "ab5eb4a7"
      },
      "source": [
        "### 12. 실습(1-sample t-test) : 고객 서비스센터의 고객만족도 평균 78.0이다. 개선활동을 완료한 후 다음과 같은 10개의 고객만족도 데이터를 얻었다. 개선활동이 만족도를 변화시켰는가?"
      ]
    },
    {
      "cell_type": "code",
      "execution_count": null,
      "id": "2f7aaf88",
      "metadata": {
        "id": "2f7aaf88",
        "outputId": "d0d5bcae-f86e-4879-ef7f-9f297cd7c759"
      },
      "outputs": [
        {
          "data": {
            "text/html": [
              "<div>\n",
              "<style scoped>\n",
              "    .dataframe tbody tr th:only-of-type {\n",
              "        vertical-align: middle;\n",
              "    }\n",
              "\n",
              "    .dataframe tbody tr th {\n",
              "        vertical-align: top;\n",
              "    }\n",
              "\n",
              "    .dataframe thead th {\n",
              "        text-align: right;\n",
              "    }\n",
              "</style>\n",
              "<table border=\"1\" class=\"dataframe\">\n",
              "  <thead>\n",
              "    <tr style=\"text-align: right;\">\n",
              "      <th></th>\n",
              "      <th>satisfaction</th>\n",
              "    </tr>\n",
              "  </thead>\n",
              "  <tbody>\n",
              "    <tr>\n",
              "      <th>0</th>\n",
              "      <td>85.0</td>\n",
              "    </tr>\n",
              "    <tr>\n",
              "      <th>1</th>\n",
              "      <td>79.0</td>\n",
              "    </tr>\n",
              "    <tr>\n",
              "      <th>2</th>\n",
              "      <td>79.1</td>\n",
              "    </tr>\n",
              "    <tr>\n",
              "      <th>3</th>\n",
              "      <td>79.9</td>\n",
              "    </tr>\n",
              "    <tr>\n",
              "      <th>4</th>\n",
              "      <td>81.6</td>\n",
              "    </tr>\n",
              "  </tbody>\n",
              "</table>\n",
              "</div>"
            ],
            "text/plain": [
              "   satisfaction\n",
              "0          85.0\n",
              "1          79.0\n",
              "2          79.1\n",
              "3          79.9\n",
              "4          81.6"
            ]
          },
          "execution_count": 31,
          "metadata": {},
          "output_type": "execute_result"
        }
      ],
      "source": [
        "# 귀무가설 : mu = 78.0\n",
        "# 대립가설 : mu != 78.0\n",
        "\n",
        "df = pd.DataFrame({'satisfaction': [85.0, 79.0, 79.1, 79.9, 81.6, 78.6, 85.4, 83.4,\n",
        "                                    78.1, 79.2]})\n",
        "df.head()"
      ]
    },
    {
      "cell_type": "code",
      "execution_count": null,
      "id": "9879c206",
      "metadata": {
        "id": "9879c206",
        "outputId": "06f638f4-4ab2-469e-962d-e5e561f1c41c"
      },
      "outputs": [
        {
          "data": {
            "image/png": "[encoded data removed]",
            "text/plain": [
              "<Figure size 640x480 with 1 Axes>"
            ]
          },
          "metadata": {},
          "output_type": "display_data"
        }
      ],
      "source": [
        "df.boxplot()\n",
        "plt.show()"
      ]
    },
    {
      "cell_type": "code",
      "execution_count": null,
      "id": "a6661f70",
      "metadata": {
        "id": "a6661f70",
        "outputId": "59a8c878-a386-4659-cdeb-fc18856112b0"
      },
      "outputs": [
        {
          "name": "stdout",
          "output_type": "stream",
          "text": [
            "statistic=0.8473217487335205, p-value=0.0539751797914505\n",
            "<<1-sample t-test>>\n",
            "t 통계량 : [3.379]\n",
            "p-vale : [0.008]\n",
            "검정결과 : 유의수준 5%에서 검정결과 P-값이 0.001이므로 개선활동이 만족도를 변화시켰다고 볼 수 있다\n"
          ]
        }
      ],
      "source": [
        "#정규성 검정\n",
        "statistic, p = stats.shapiro(df['satisfaction'])\n",
        "print(\"statistic={}, p-value={}\".format(statistic,p))\n",
        "\n",
        "#1-sample t-test\n",
        "t_result = stats.ttest_1samp(df, 78.0)\n",
        "\n",
        "#1-sample t-test의 t값 p값 저장\n",
        "t, p = t_result.statistic.round(3), \\\n",
        "       t_result.pvalue.round(3)\n",
        "\n",
        "#1-sample t-test의 t값 p값 출력\n",
        "print(\"<<1-sample t-test>>\")\n",
        "print(\"t 통계량 : {}\".format(t))\n",
        "print(\"p-vale : {}\".format(p))\n",
        "print(\"검정결과 : 유의수준 5%에서 검정결과 P-값이 0.001이므로 개선활동이 만족도를 변화시켰다고 볼 수 있다\")"
      ]
    },
    {
      "cell_type": "markdown",
      "id": "b7e598b8",
      "metadata": {
        "id": "b7e598b8"
      },
      "source": [
        "### 13. 실습(2-sample t-test) : 제품을 a공급자와 b공급자로부터 제품을 받아 두께를 측정해서 다음의 데이터를 얻었다. 공급자 간에 모평균 차이가 있다고 할 수 있는가? (유의수준 a=0.05)"
      ]
    },
    {
      "cell_type": "code",
      "execution_count": null,
      "id": "e0d56287",
      "metadata": {
        "id": "e0d56287",
        "outputId": "5019e9c3-abe5-4ab1-e109-6ba5ce833507"
      },
      "outputs": [
        {
          "data": {
            "text/html": [
              "<div>\n",
              "<style scoped>\n",
              "    .dataframe tbody tr th:only-of-type {\n",
              "        vertical-align: middle;\n",
              "    }\n",
              "\n",
              "    .dataframe tbody tr th {\n",
              "        vertical-align: top;\n",
              "    }\n",
              "\n",
              "    .dataframe thead th {\n",
              "        text-align: right;\n",
              "    }\n",
              "</style>\n",
              "<table border=\"1\" class=\"dataframe\">\n",
              "  <thead>\n",
              "    <tr style=\"text-align: right;\">\n",
              "      <th></th>\n",
              "      <th>A</th>\n",
              "      <th>B</th>\n",
              "    </tr>\n",
              "  </thead>\n",
              "  <tbody>\n",
              "    <tr>\n",
              "      <th>0</th>\n",
              "      <td>1.883</td>\n",
              "      <td>1.435</td>\n",
              "    </tr>\n",
              "    <tr>\n",
              "      <th>1</th>\n",
              "      <td>1.715</td>\n",
              "      <td>1.572</td>\n",
              "    </tr>\n",
              "    <tr>\n",
              "      <th>2</th>\n",
              "      <td>1.799</td>\n",
              "      <td>1.486</td>\n",
              "    </tr>\n",
              "    <tr>\n",
              "      <th>3</th>\n",
              "      <td>1.768</td>\n",
              "      <td>1.511</td>\n",
              "    </tr>\n",
              "    <tr>\n",
              "      <th>4</th>\n",
              "      <td>1.711</td>\n",
              "      <td>1.457</td>\n",
              "    </tr>\n",
              "  </tbody>\n",
              "</table>\n",
              "</div>"
            ],
            "text/plain": [
              "       A      B\n",
              "0  1.883  1.435\n",
              "1  1.715  1.572\n",
              "2  1.799  1.486\n",
              "3  1.768  1.511\n",
              "4  1.711  1.457"
            ]
          },
          "execution_count": 34,
          "metadata": {},
          "output_type": "execute_result"
        }
      ],
      "source": [
        "# 귀무가설 : mu(A) = mu(B)\n",
        "# 대립가설 : mu(A) != mu(B)\n",
        "df = pd.DataFrame({'A': [1.883, 1.715, 1.799, 1.768, 1.711, 1.832, 1.427, 1.344],\n",
        "                   'B': [1.435, 1.572, 1.486, 1.511, 1.457, 1.548, 1.404, 1.800]})\n",
        "df.head()"
      ]
    },
    {
      "cell_type": "code",
      "execution_count": null,
      "id": "13f7ffa6",
      "metadata": {
        "id": "13f7ffa6",
        "outputId": "3dc05fca-0c89-45cb-c263-1498b0ca2a98"
      },
      "outputs": [
        {
          "data": {
            "image/png": "[encoded data removed]",
            "text/plain": [
              "<Figure size 640x480 with 1 Axes>"
            ]
          },
          "metadata": {},
          "output_type": "display_data"
        }
      ],
      "source": [
        "df.boxplot(['A', 'B'])\n",
        "plt.show()"
      ]
    },
    {
      "cell_type": "code",
      "execution_count": null,
      "id": "7cd0fc60",
      "metadata": {
        "id": "7cd0fc60",
        "outputId": "9c360fca-e409-4431-b66b-e7a54a1e73c4"
      },
      "outputs": [
        {
          "name": "stdout",
          "output_type": "stream",
          "text": [
            "statistic=0.8425754904747009, p-value=0.08004532009363174\n",
            "statistic=0.8393934369087219, p-value=0.07424874603748322\n"
          ]
        }
      ],
      "source": [
        "#정규성 검정\n",
        "statistic, p = stats.shapiro(df['A'])\n",
        "print(\"statistic={}, p-value={}\".format(statistic,p))\n",
        "\n",
        "statistic, p = stats.shapiro(df['B'])\n",
        "print(\"statistic={}, p-value={}\".format(statistic,p))"
      ]
    },
    {
      "cell_type": "code",
      "execution_count": null,
      "id": "e41820ed",
      "metadata": {
        "id": "e41820ed",
        "outputId": "0f08ef19-c318-4731-b21a-2c4e4d50d59f"
      },
      "outputs": [
        {
          "data": {
            "text/plain": [
              "BartlettResult(statistic=1.2899966318541203, pvalue=0.25604857136527204)"
            ]
          },
          "execution_count": 37,
          "metadata": {},
          "output_type": "execute_result"
        }
      ],
      "source": [
        "#등분산 검정\n",
        "stats.bartlett(df['A'], df['B'])"
      ]
    },
    {
      "cell_type": "code",
      "execution_count": null,
      "id": "c8a89a68",
      "metadata": {
        "id": "c8a89a68"
      },
      "outputs": [],
      "source": [
        "# 2-Sample t-test\n",
        "t_result = stats.ttest_ind(df['A'], df['B'])\n",
        "\n",
        "# 2-Sample t-test의 t값 p값 저장\n",
        "t, p = t_result.statistic.round(3), t_result.pvalue.round(3)"
      ]
    },
    {
      "cell_type": "code",
      "execution_count": null,
      "id": "bb416cc1",
      "metadata": {
        "id": "bb416cc1",
        "outputId": "e852d6fb-5f2a-4c4c-f2b9-a17002f10c3a"
      },
      "outputs": [
        {
          "name": "stdout",
          "output_type": "stream",
          "text": [
            "<<2-Sample t-test>>\n",
            " t: 1.94 \n",
            " p: 0.073 \n",
            "검정 결과 :유의수준 5%에서 검정결과 P-값이 0.073이므로 유의수준 5%에서 공급자 간에 모평균에 차이가 있다고 할 수 없다.\n"
          ]
        }
      ],
      "source": [
        "print( \"<<2-Sample t-test>>\")\n",
        "print( \" t: {} \" .format(t))\n",
        "print( \" p: {} \" .format(p))\n",
        "print(\"검정 결과 :유의수준 5%에서 검정결과 P-값이 0.073이므로 유의수준 5%에서 공급자 간에 모평균에 차이가 있다고 할 수 없다.\")"
      ]
    },
    {
      "cell_type": "markdown",
      "id": "0028b408",
      "metadata": {
        "id": "0028b408"
      },
      "source": [
        "### 14. 실습(paired t-test) 회사원 10명에 대해 영어점수가 학원가기 전/후에 영어점수가 짝을 이루고 있다. 회사원들의 성적은 학원가기 전 후에 대해 차이가 있는지 검정하라. (유의수준 0.05)"
      ]
    },
    {
      "cell_type": "code",
      "execution_count": null,
      "id": "6d6a1a45",
      "metadata": {
        "id": "6d6a1a45"
      },
      "outputs": [],
      "source": [
        "# 귀무가설 : mu(Before) = mu(After)\n",
        "# 대립가설 : mu(Before) != mu(After)\n",
        "\n",
        "df1 = pd.DataFrame({'before': [720, 589, 780, 648, 720, 589, 780, 648, 780, 648]})\n",
        "df2 = pd.DataFrame({'after': [710, 580, 787, 712, 750, 600, 782, 670, 790, 680]})\n",
        "\n",
        "# Paired t-test\n",
        "t_result_A = stats.ttest_rel(df1, df2)\n",
        "\n",
        "# Paired t-test의 t값 p값 저장\n",
        "t, p = t_result_A.statistic.round(4), t_result_A.pvalue.round(4)"
      ]
    },
    {
      "cell_type": "code",
      "execution_count": null,
      "id": "34d2418b",
      "metadata": {
        "id": "34d2418b",
        "outputId": "b8081473-2197-46e9-acc0-6a476b9e298b"
      },
      "outputs": [
        {
          "name": "stdout",
          "output_type": "stream",
          "text": [
            "<<Paired t-test>>\n",
            " t: [-2.2661] \n",
            " p: [0.0497] \n",
            "검정 결과 : 유의수준 5%의 양측검정에서 (P-값 : 0.0497 > 양측검정 유의수준 : 0.025)이므로 회사원들의 성적은 학원가기 전후에 차이가 있다고 할 수 없다.\n"
          ]
        }
      ],
      "source": [
        "# Paired t-test의 t값 p값 출력\n",
        "print(\"<<Paired t-test>>\")\n",
        "print(\" t: {} \" .format(t))\n",
        "print(\" p: {} \" .format(p))\n",
        "print(\"검정 결과 : 유의수준 5%의 양측검정에서 (P-값 : 0.0497 > 양측검정 유의수준 : 0.025)이므로 회사원들의 성적은 학원가기 전후에 차이가 있다고 할 수 없다.\")"
      ]
    },
    {
      "cell_type": "markdown",
      "id": "39bfae78",
      "metadata": {
        "id": "39bfae78"
      },
      "source": [
        "### 15. 실습(1 proportion test) : 동전이 정상적인가를 검정하기 위해 100번을 던져본 결과, 앞면이 40번 나왔으며 뒷면이 60번 나왔다. 이 동전은 정상인가를 유의수준 a=0.05이다. 정상적인 동전을 던질 때 앞면이 나올 확률은 50%이다."
      ]
    },
    {
      "cell_type": "code",
      "execution_count": null,
      "id": "811729b8",
      "metadata": {
        "id": "811729b8",
        "outputId": "b4ce762b-2d61-4f50-ea2b-5287224a3432"
      },
      "outputs": [
        {
          "name": "stdout",
          "output_type": "stream",
          "text": [
            "Requirement already satisfied: statsmodels in /home/piai/anaconda3/lib/python3.10/site-packages (0.13.5)\n",
            "Requirement already satisfied: scipy>=1.3 in /home/piai/anaconda3/lib/python3.10/site-packages (from statsmodels) (1.10.0)\n",
            "Requirement already satisfied: packaging>=21.3 in /home/piai/anaconda3/lib/python3.10/site-packages (from statsmodels) (22.0)\n",
            "Requirement already satisfied: numpy>=1.17 in /home/piai/anaconda3/lib/python3.10/site-packages (from statsmodels) (1.23.5)\n",
            "Requirement already satisfied: patsy>=0.5.2 in /home/piai/anaconda3/lib/python3.10/site-packages (from statsmodels) (0.5.3)\n",
            "Requirement already satisfied: pandas>=0.25 in /home/piai/anaconda3/lib/python3.10/site-packages (from statsmodels) (1.5.3)\n",
            "Requirement already satisfied: python-dateutil>=2.8.1 in /home/piai/anaconda3/lib/python3.10/site-packages (from pandas>=0.25->statsmodels) (2.8.2)\n",
            "Requirement already satisfied: pytz>=2020.1 in /home/piai/anaconda3/lib/python3.10/site-packages (from pandas>=0.25->statsmodels) (2022.7)\n",
            "Requirement already satisfied: six in /home/piai/anaconda3/lib/python3.10/site-packages (from patsy>=0.5.2->statsmodels) (1.16.0)\n"
          ]
        }
      ],
      "source": [
        "!pip install statsmodels"
      ]
    },
    {
      "cell_type": "code",
      "execution_count": null,
      "id": "03f6b396",
      "metadata": {
        "id": "03f6b396"
      },
      "outputs": [],
      "source": [
        "import pandas as pd\n",
        "import scipy.stats as stats\n",
        "from statsmodels.stats.proportion import proportions_ztest"
      ]
    },
    {
      "cell_type": "code",
      "execution_count": null,
      "id": "f6403616",
      "metadata": {
        "id": "f6403616"
      },
      "outputs": [],
      "source": [
        "# 귀무가설 : p = 0.5\n",
        "# 대립가설 : p != 0.5\n",
        "\n",
        "# 변수 선언\n",
        "count = 40\n",
        "n_obs = 100\n",
        "value = 0.5\n",
        "\n",
        "# 1 Proportion test 실행\n",
        "z, p = proportions_ztest(count, n_obs, value)"
      ]
    },
    {
      "cell_type": "code",
      "execution_count": null,
      "id": "6026a00a",
      "metadata": {
        "id": "6026a00a",
        "outputId": "7061c01c-3b53-4f2e-c72c-f623cbcd8941"
      },
      "outputs": [
        {
          "name": "stdout",
          "output_type": "stream",
          "text": [
            "<<1 Proportion test>>\n",
            " z: -2.041\n",
            " p: 0.041\n",
            "유의수준 5%의 양측검정에서 P-값이 0.041이므로 (p-값 : 0.041 > 0.025)이기 때문에 동전은 정상적이라 할 수 있다.\n"
          ]
        }
      ],
      "source": [
        "# 1 Proportion test 결과 출력\n",
        "print( \"<<1 Proportion test>>\")\n",
        "print( ' z: {0:0.3f}' .format(z))\n",
        "print( ' p: {0:0.3f}'.format(p))\n",
        "print(\"유의수준 5%의 양측검정에서 P-값이 0.041이므로 (p-값 : 0.041 > 0.025)이기 때문에 동전은 정상적이라 할 수 있다.\")"
      ]
    },
    {
      "cell_type": "markdown",
      "id": "9437fccd",
      "metadata": {
        "id": "9437fccd"
      },
      "source": [
        "### 16. 실습(2 proportion test) : 동일한 제품을 생산하는 두 공장에서 불량률을 측정한 결과 아래롸 같다. 두 공정의 불량률이 같다고 할 수 있는가?"
      ]
    },
    {
      "cell_type": "code",
      "execution_count": null,
      "id": "5abf1f11",
      "metadata": {
        "id": "5abf1f11"
      },
      "outputs": [],
      "source": [
        "# 귀무가설 : 공장 A의 불량률 = 공장 B의 불량율\n",
        "# 대립가설 : 공장 A의 불량률 != 공장 B의 불량율\n",
        "\n",
        "count = np.array([14, 5])\n",
        "nobs = np.array([1200, 1200])\n",
        "\n",
        "# 2 Proportion test 실행\n",
        "z, p = proportions_ztest(count, nobs)"
      ]
    },
    {
      "cell_type": "code",
      "execution_count": null,
      "id": "de6c8457",
      "metadata": {
        "id": "de6c8457",
        "outputId": "88ac06dd-b5f4-4937-cb7b-0cfba78c33b5"
      },
      "outputs": [
        {
          "name": "stdout",
          "output_type": "stream",
          "text": [
            "2 Proportion test \n",
            " z: 2.073\n",
            " p: 0.038\n",
            " 분석 결과 : 유의수준 5%의 양측검정에서 P-값이 0.038이므로 (p-값 : 0.038 > 0.025)이기 때문에 두 공장의 불량률은 차이가 있다고 할 수 없다.\n"
          ]
        }
      ],
      "source": [
        "print( \"2 Proportion test \")\n",
        "print( ' z: {0:0.3f}' .format(z))\n",
        "print( ' p: {0:0.3f}'.format(p))\n",
        "print(\" 분석 결과 : 유의수준 5%의 양측검정에서 P-값이 0.038이므로 (p-값 : 0.038 > 0.025)이기 때문에 두 공장의 불량률은 차이가 있다고 할 수 없다.\")"
      ]
    },
    {
      "cell_type": "markdown",
      "id": "4758fdd0",
      "metadata": {
        "id": "4758fdd0"
      },
      "source": [
        "### 17. 실습(카이제곱 검정) : 노트북 컴퓨터의 6가지 제품(A,B,C,D,E,F)에 대하여 7가지 제품의 이미지를 중복 선택할 수 있도록 32명의 소비자를 대상으로 설문 조사한 table이다. 각 제품에 대한 이미지에 대해 차이가 있겠는가?"
      ]
    },
    {
      "cell_type": "code",
      "execution_count": null,
      "id": "00cbf51d",
      "metadata": {
        "id": "00cbf51d",
        "outputId": "c2c9b264-d3b6-4175-d5ea-339f66ae774b"
      },
      "outputs": [
        {
          "name": "stdout",
          "output_type": "stream",
          "text": [
            "chi-square test \n",
            " chisq: 98.274\n",
            " p: 0.000\n",
            " degree pf freedom: 30\n",
            " expected value: \n",
            "[[11.004  8.528 10.454  8.253  7.978  8.803  7.978]\n",
            " [ 8.21   6.362  7.799  6.157  5.952  6.568  5.952]\n",
            " [ 5.24   4.061  4.978  3.93   3.799  4.192  3.799]\n",
            " [ 3.843  2.978  3.651  2.882  2.786  3.074  2.786]\n",
            " [ 1.921  1.489  1.825  1.441  1.393  1.537  1.393]\n",
            " [ 9.782  7.581  9.293  7.336  7.092  7.825  7.092]]\n",
            " 분석 결과 : P-value < 0.05 이므로 유의수준 5%에서 각 제품에 대해 이미지에 대한 차이가 있다고 할 수 있다.\n"
          ]
        }
      ],
      "source": [
        "# 귀무가설 : 각 제품에 대한 이미지의 차이가 없다.\n",
        "# 대립가설 : 각 제품에 대한 이미지의 차이가 있다.\n",
        "\n",
        "df = pd.DataFrame({'A/S': [18,8,4,4,3,3],\n",
        "                   '가격': [1,2,1,1,1,25],\n",
        "                   '성능': [8,14,3,2,3,8],\n",
        "                   '확장성':[7,5,4,3,1,10],\n",
        "                   '디자인':[10,5,9,2,1,2],\n",
        "                   '안정성':[9,9,5,7,1,1],\n",
        "                   '기능성':[10,4,4,3,1,7]})\n",
        "\n",
        "# chi-square test 실행\n",
        "chi, pval, dof, expected = stats.chi2_contingency(df)\n",
        "\n",
        "# chi-square test 결과 출력\n",
        "print( \"chi-square test \")\n",
        "print( ' chisq: {0:0.3f}' .format(chi))\n",
        "print( ' p: {0:0.3f}'.format(pval))\n",
        "print( ' degree pf freedom: {}' .format(dof))\n",
        "print( ' expected value: \\n{}' .format(expected.round(3)))\n",
        "print(\" 분석 결과 : P-value < 0.05 이므로 유의수준 5%에서 각 제품에 대해 이미지에 대한 차이가 있다고 할 수 있다.\")"
      ]
    },
    {
      "cell_type": "markdown",
      "id": "686426f3",
      "metadata": {
        "id": "686426f3"
      },
      "source": [
        "### 18. 실습(ANOVA) : 철강의 청정도를 높이기 위해 제강공정에서 2차 정련을 시시하는데, 강종별로 2차 정련시간의 차이가 있는지와 tpye별로 2차 정련 시간에 차이가 있는지 검정하라 (유의수준 0.05)"
      ]
    },
    {
      "cell_type": "code",
      "execution_count": null,
      "id": "7c516a63",
      "metadata": {
        "id": "7c516a63",
        "outputId": "f6119321-be33-411f-e281-ca17e517354c"
      },
      "outputs": [
        {
          "data": {
            "text/html": [
              "<div>\n",
              "<style scoped>\n",
              "    .dataframe tbody tr th:only-of-type {\n",
              "        vertical-align: middle;\n",
              "    }\n",
              "\n",
              "    .dataframe tbody tr th {\n",
              "        vertical-align: top;\n",
              "    }\n",
              "\n",
              "    .dataframe thead th {\n",
              "        text-align: right;\n",
              "    }\n",
              "</style>\n",
              "<table border=\"1\" class=\"dataframe\">\n",
              "  <thead>\n",
              "    <tr style=\"text-align: right;\">\n",
              "      <th></th>\n",
              "      <th>time</th>\n",
              "      <th>charge</th>\n",
              "      <th>gangjong</th>\n",
              "      <th>type</th>\n",
              "    </tr>\n",
              "  </thead>\n",
              "  <tbody>\n",
              "    <tr>\n",
              "      <th>0</th>\n",
              "      <td>32.2</td>\n",
              "      <td>A</td>\n",
              "      <td>a</td>\n",
              "      <td>a</td>\n",
              "    </tr>\n",
              "    <tr>\n",
              "      <th>1</th>\n",
              "      <td>30.4</td>\n",
              "      <td>B</td>\n",
              "      <td>a</td>\n",
              "      <td>a</td>\n",
              "    </tr>\n",
              "    <tr>\n",
              "      <th>2</th>\n",
              "      <td>33.6</td>\n",
              "      <td>C</td>\n",
              "      <td>a</td>\n",
              "      <td>a</td>\n",
              "    </tr>\n",
              "    <tr>\n",
              "      <th>3</th>\n",
              "      <td>36.4</td>\n",
              "      <td>D</td>\n",
              "      <td>a</td>\n",
              "      <td>a</td>\n",
              "    </tr>\n",
              "    <tr>\n",
              "      <th>4</th>\n",
              "      <td>33.9</td>\n",
              "      <td>E</td>\n",
              "      <td>a</td>\n",
              "      <td>a</td>\n",
              "    </tr>\n",
              "  </tbody>\n",
              "</table>\n",
              "</div>"
            ],
            "text/plain": [
              "   time charge gangjong type\n",
              "0  32.2      A        a    a\n",
              "1  30.4      B        a    a\n",
              "2  33.6      C        a    a\n",
              "3  36.4      D        a    a\n",
              "4  33.9      E        a    a"
            ]
          },
          "execution_count": 49,
          "metadata": {},
          "output_type": "execute_result"
        }
      ],
      "source": [
        "# 귀무가설 : type별 2차정련 시간간에 차이가 없다.\n",
        "# 대립가설 : type별 2차정련 시간간에 차이가 있다.\n",
        "\n",
        "df = pd.read_csv(\"/home/piai/바탕화면/빅데이터주간/01 실습파일/1 Big Data 분석 기초/ANOVA.csv\")\n",
        "df.head()"
      ]
    },
    {
      "cell_type": "code",
      "execution_count": null,
      "id": "7f225e5c",
      "metadata": {
        "id": "7f225e5c",
        "outputId": "15b932af-bf2d-401a-aae8-b1a60b04cb51"
      },
      "outputs": [
        {
          "data": {
            "image/png": "[encoded data removed]",
            "text/plain": [
              "<Figure size 640x480 with 1 Axes>"
            ]
          },
          "metadata": {},
          "output_type": "display_data"
        }
      ],
      "source": [
        "df.boxplot(column = 'time', by = 'gangjong')\n",
        "plt.show()"
      ]
    },
    {
      "cell_type": "code",
      "execution_count": null,
      "id": "b573451d",
      "metadata": {
        "id": "b573451d",
        "outputId": "a8db2bea-e6ad-414d-db15-34e26c51151c"
      },
      "outputs": [
        {
          "name": "stdout",
          "output_type": "stream",
          "text": [
            "               df      sum_sq    mean_sq         F    PR(>F)\n",
            "C(gangjong)   3.0  104.603333  34.867778  4.171868  0.019013\n",
            "Residual     20.0  167.156667   8.357833       NaN       NaN\n"
          ]
        }
      ],
      "source": [
        "import statsmodels.api as sm\n",
        "import statsmodels.formula.api as smf\n",
        "\n",
        "model = smf.ols('time ~ C(gangjong)', df).fit()\n",
        "anova_results = sm.stats.anova_lm(model)\n",
        "print(anova_results)"
      ]
    },
    {
      "cell_type": "markdown",
      "id": "ee210481",
      "metadata": {
        "id": "ee210481"
      },
      "source": [
        "### 18. 실습(ANOVA) : 초코칩의 강도와 재료 반죽온도간에 관계를 분석하기 위한 상관분석을 하세요."
      ]
    },
    {
      "cell_type": "code",
      "execution_count": null,
      "id": "3dc02cda",
      "metadata": {
        "id": "3dc02cda",
        "outputId": "4c95b596-57df-4718-9ae3-19021e4eef49"
      },
      "outputs": [
        {
          "data": {
            "image/png": "[encoded data removed]",
            "text/plain": [
              "<Figure size 640x480 with 1 Axes>"
            ]
          },
          "metadata": {},
          "output_type": "display_data"
        }
      ],
      "source": [
        "# 귀무가설 : gangjong별 2차정련 시간간에 차이가 없다.\n",
        "# 대립가설 : gangjong별 2차정련 시간간에 차이가 있다.\n",
        "\n",
        "df.boxplot('time','gangjong') #강종별 2차 정련시간에 대한 분포확인\n",
        "plt.show()"
      ]
    },
    {
      "cell_type": "code",
      "execution_count": null,
      "id": "6bce16c0",
      "metadata": {
        "id": "6bce16c0",
        "outputId": "687a4689-480e-4917-9c1c-70b343e8fff5"
      },
      "outputs": [
        {
          "name": "stdout",
          "output_type": "stream",
          "text": [
            "            df      sum_sq    mean_sq         F   PR(>F)\n",
            "C(type)    1.0   82.881667  82.881667  9.653816  0.00514\n",
            "Residual  22.0  188.878333   8.585379       NaN      NaN\n"
          ]
        }
      ],
      "source": [
        "model = smf.ols('time ~ C(type)', df).fit()\n",
        "print(anova_lm(model))"
      ]
    },
    {
      "cell_type": "code",
      "execution_count": null,
      "id": "9e0323ab",
      "metadata": {
        "id": "9e0323ab"
      },
      "outputs": [],
      "source": [
        "df1 = [37.6,38.6,37.2,36.4,38.6,39,37.2,36.1,35.9,37.1,36.9,37.5,36.3,38.1,39,36.9,36.8,37.6,33,33.5]\n",
        "df2 = [14,15,14,16,17,14,17,16,15,16,14,16,18,13,15,17,14,16,20,21]\n",
        "\n",
        "corr, pval = stats.pearsonr(df1, df2)\n",
        "\n",
        "print( \"Correlation Analysis \")\n",
        "print( ' corr: {0:0.3f}' .format(corr))\n",
        "print( ' p-value : {0:0.3f}'.format(pval))\n",
        "print(\"분석 결과 : 상관계수가 -0.723이고 p-value가 0.000이므로 유의수준 5%에서 초코칩의 강도와 재료 반죽온도간에 강한 음의 상관관계를 가진다고 할 수 있다.\")"
      ]
    }
  ],
  "metadata": {
    "kernelspec": {
      "display_name": "Python [conda env:base] *",
      "language": "python",
      "name": "conda-base-py"
    },
    "language_info": {
      "codemirror_mode": {
        "name": "ipython",
        "version": 3
      },
      "file_extension": ".py",
      "mimetype": "text/x-python",
      "name": "python",
      "nbconvert_exporter": "python",
      "pygments_lexer": "ipython3",
      "version": "3.10.9"
    },
    "colab": {
      "provenance": [],
      "include_colab_link": true
    }
  },
  "nbformat": 4,
  "nbformat_minor": 5
}
